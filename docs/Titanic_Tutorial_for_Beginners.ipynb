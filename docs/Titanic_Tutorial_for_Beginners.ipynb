{
  "nbformat": 4,
  "nbformat_minor": 0,
  "metadata": {
    "kernelspec": {
      "language": "python",
      "display_name": "Python 3",
      "name": "python3"
    },
    "language_info": {
      "pygments_lexer": "ipython3",
      "nbconvert_exporter": "python",
      "version": "3.6.4",
      "file_extension": ".py",
      "codemirror_mode": {
        "name": "ipython",
        "version": 3
      },
      "name": "python",
      "mimetype": "text/x-python"
    },
    "colab": {
      "name": "Titanic Tutorial for Beginners.ipynb",
      "provenance": [],
      "collapsed_sections": []
    }
  },
  "cells": [
    {
      "cell_type": "markdown",
      "metadata": {
        "_uuid": "027165e2-b97e-4313-8f26-b2048c22e0ba",
        "_cell_guid": "4b8a486e-1593-4e9e-9413-bc94d5a185b2",
        "trusted": true,
        "id": "Xu7xTAvPe5Kx",
        "colab_type": "text"
      },
      "source": [
        "# Titanic Challenge"
      ]
    },
    {
      "cell_type": "markdown",
      "metadata": {
        "_uuid": "86c93516-1ed8-46eb-8a78-8e884cb60eeb",
        "_cell_guid": "84c28543-f1e0-4cc6-bbf0-888235b95e54",
        "trusted": true,
        "id": "sZTV94EDe5Ky",
        "colab_type": "text"
      },
      "source": [
        "![](https://i.imgur.com/rRFchA8.png)"
      ]
    },
    {
      "cell_type": "markdown",
      "metadata": {
        "_uuid": "7cddfed8-6ae0-483b-a224-03b3a600096b",
        "_cell_guid": "d0e93258-f188-4bb1-8a97-d0483760def0",
        "trusted": true,
        "id": "Q71jkoeje5Kz",
        "colab_type": "text"
      },
      "source": [
        "이 튜토리얼은 캐글에 처음 도전하는 분들을 위한 것입니다. 커널부문 세계1위인 안드레이 룩야넨코의 노트북에 한글로설명을 추가로 붙인 것입니다. \n",
        "이 노트의 결과는 작성 현재 Top 4% 결과를 보입니다. (랜덤이 되는 부분이 있어서 결과가 약간씩 다르게 나오긴 합니다만 여러번 하시면 4% 선까지 올라갑니다.)\n",
        "Kaggle에 처음으로 로그인하는 것은 쉬운 결정이 아닙니다. 내가 무슨 머신러닝을? 이런 생각을 하실 수 도 있겠습니다. \n",
        "캐글은 대회로서도 의미가 있겠으나 배움의 터입니다. 이런 데이터를 초보자가 어디서 구하며 어떻게 다른 사람들이 일한 것을 통해 이리 쉽게 배우겠습니까? \n",
        "이 튜토리얼이 끝날 때 즈음에는 Kaggle의 온라인 코딩 환경을 사용하는 방법에 대한 이해를 얻게되며 그 와중에 머신러닝 학습 모델을 학습하게됩니다."
      ]
    },
    {
      "cell_type": "markdown",
      "metadata": {
        "_uuid": "8193447d-3855-4a2c-9781-8b44f861654f",
        "_cell_guid": "d121736f-b8e0-4636-9726-07cb18153778",
        "trusted": true,
        "id": "xiNtgaqVe5K0",
        "colab_type": "text"
      },
      "source": [
        "## Part 1: 데이터 준비 및 모듈 임포트"
      ]
    },
    {
      "cell_type": "code",
      "metadata": {
        "_uuid": "b0e2e703-1a41-443d-9b5b-480d449db1de",
        "_cell_guid": "2b9c6525-9e52-410f-b319-b73e1e16c73b",
        "trusted": true,
        "id": "9GKrndCLe5K0",
        "colab_type": "code",
        "colab": {}
      },
      "source": [
        "import numpy as np\n",
        "import pandas as pd\n",
        "import matplotlib.pyplot as plt\n",
        "%matplotlib inline\n",
        "import seaborn as sns\n",
        "plt.style.use('seaborn-whitegrid')\n",
        "import missingno\n",
        "\n",
        "from sklearn.preprocessing import LabelEncoder, OneHotEncoder\n",
        "from sklearn.preprocessing import StandardScaler\n",
        "from sklearn.neighbors import KNeighborsClassifier\n",
        "from sklearn.linear_model import LogisticRegression\n",
        "from sklearn.ensemble import RandomForestClassifier\n",
        "from sklearn.svm import SVC\n",
        "from xgboost import XGBClassifier\n",
        "from sklearn.ensemble import GradientBoostingClassifier\n",
        "from sklearn.ensemble import ExtraTreesClassifier\n",
        "from sklearn.ensemble import AdaBoostClassifier\n",
        "from sklearn.gaussian_process import GaussianProcessClassifier\n",
        "from sklearn.naive_bayes import GaussianNB\n",
        "from sklearn.ensemble import BaggingClassifier\n",
        "from sklearn.ensemble import VotingClassifier\n",
        "from sklearn.model_selection import cross_val_score\n",
        "from sklearn.model_selection import GridSearchCV\n",
        "from sklearn.model_selection import cross_val_predict\n",
        "from sklearn import model_selection\n",
        "\n",
        "import sys\n",
        "import warnings\n",
        "warnings.filterwarnings('ignore')"
      ],
      "execution_count": null,
      "outputs": []
    },
    {
      "cell_type": "code",
      "metadata": {
        "_uuid": "88f18f28-26b8-44cc-96c8-423a914124c4",
        "_cell_guid": "c7a78dc5-9c2d-4331-8dc1-58be9d451d55",
        "trusted": true,
        "id": "1uYqSPide5K4",
        "colab_type": "code",
        "colab": {}
      },
      "source": [
        "test = pd.read_csv('titanic/test.csv')\n",
        "train = pd.read_csv('titanic/train.csv')\n",
        "# 이제 csv file들 (test & train)은 데이터 프레임이 되었습니다."
      ],
      "execution_count": null,
      "outputs": []
    },
    {
      "cell_type": "code",
      "metadata": {
        "_uuid": "10a6222d-f9cc-4d02-a4fa-a0956eb482e4",
        "_cell_guid": "a3d4b863-a399-4b88-9405-479de30079c5",
        "trusted": true,
        "id": "IlDPLnECe5LH",
        "colab_type": "code",
        "colab": {
          "base_uri": "https://localhost:8080/",
          "height": 70
        },
        "outputId": "c114b659-7941-4ca6-a062-863959859d23"
      },
      "source": [
        "train.columns"
      ],
      "execution_count": null,
      "outputs": [
        {
          "output_type": "execute_result",
          "data": {
            "text/plain": [
              "Index(['PassengerId', 'Survived', 'Pclass', 'Name', 'Sex', 'Age', 'SibSp',\n",
              "       'Parch', 'Ticket', 'Fare', 'Cabin', 'Embarked'],\n",
              "      dtype='object')"
            ]
          },
          "metadata": {
            "tags": []
          },
          "execution_count": 13
        }
      ]
    },
    {
      "cell_type": "code",
      "metadata": {
        "_uuid": "535d377f-8a9b-4302-bb1a-2a544e6db934",
        "_cell_guid": "6ae03c5a-3f26-4047-8cf7-87319b4223b3",
        "trusted": true,
        "id": "zYj_xKPce5LM",
        "colab_type": "code",
        "colab": {
          "base_uri": "https://localhost:8080/",
          "height": 237
        },
        "outputId": "ef0e4060-26b1-4c37-b92b-c7bb0f10e174"
      },
      "source": [
        "train[5:10]"
      ],
      "execution_count": null,
      "outputs": [
        {
          "output_type": "execute_result",
          "data": {
            "text/html": [
              "<div>\n",
              "<style scoped>\n",
              "    .dataframe tbody tr th:only-of-type {\n",
              "        vertical-align: middle;\n",
              "    }\n",
              "\n",
              "    .dataframe tbody tr th {\n",
              "        vertical-align: top;\n",
              "    }\n",
              "\n",
              "    .dataframe thead th {\n",
              "        text-align: right;\n",
              "    }\n",
              "</style>\n",
              "<table border=\"1\" class=\"dataframe\">\n",
              "  <thead>\n",
              "    <tr style=\"text-align: right;\">\n",
              "      <th></th>\n",
              "      <th>PassengerId</th>\n",
              "      <th>Survived</th>\n",
              "      <th>Pclass</th>\n",
              "      <th>Name</th>\n",
              "      <th>Sex</th>\n",
              "      <th>Age</th>\n",
              "      <th>SibSp</th>\n",
              "      <th>Parch</th>\n",
              "      <th>Ticket</th>\n",
              "      <th>Fare</th>\n",
              "      <th>Cabin</th>\n",
              "      <th>Embarked</th>\n",
              "    </tr>\n",
              "  </thead>\n",
              "  <tbody>\n",
              "    <tr>\n",
              "      <th>5</th>\n",
              "      <td>6</td>\n",
              "      <td>0</td>\n",
              "      <td>3</td>\n",
              "      <td>Moran, Mr. James</td>\n",
              "      <td>male</td>\n",
              "      <td>NaN</td>\n",
              "      <td>0</td>\n",
              "      <td>0</td>\n",
              "      <td>330877</td>\n",
              "      <td>8.4583</td>\n",
              "      <td>NaN</td>\n",
              "      <td>Q</td>\n",
              "    </tr>\n",
              "    <tr>\n",
              "      <th>6</th>\n",
              "      <td>7</td>\n",
              "      <td>0</td>\n",
              "      <td>1</td>\n",
              "      <td>McCarthy, Mr. Timothy J</td>\n",
              "      <td>male</td>\n",
              "      <td>54.0</td>\n",
              "      <td>0</td>\n",
              "      <td>0</td>\n",
              "      <td>17463</td>\n",
              "      <td>51.8625</td>\n",
              "      <td>E46</td>\n",
              "      <td>S</td>\n",
              "    </tr>\n",
              "    <tr>\n",
              "      <th>7</th>\n",
              "      <td>8</td>\n",
              "      <td>0</td>\n",
              "      <td>3</td>\n",
              "      <td>Palsson, Master. Gosta Leonard</td>\n",
              "      <td>male</td>\n",
              "      <td>2.0</td>\n",
              "      <td>3</td>\n",
              "      <td>1</td>\n",
              "      <td>349909</td>\n",
              "      <td>21.0750</td>\n",
              "      <td>NaN</td>\n",
              "      <td>S</td>\n",
              "    </tr>\n",
              "    <tr>\n",
              "      <th>8</th>\n",
              "      <td>9</td>\n",
              "      <td>1</td>\n",
              "      <td>3</td>\n",
              "      <td>Johnson, Mrs. Oscar W (Elisabeth Vilhelmina Berg)</td>\n",
              "      <td>female</td>\n",
              "      <td>27.0</td>\n",
              "      <td>0</td>\n",
              "      <td>2</td>\n",
              "      <td>347742</td>\n",
              "      <td>11.1333</td>\n",
              "      <td>NaN</td>\n",
              "      <td>S</td>\n",
              "    </tr>\n",
              "    <tr>\n",
              "      <th>9</th>\n",
              "      <td>10</td>\n",
              "      <td>1</td>\n",
              "      <td>2</td>\n",
              "      <td>Nasser, Mrs. Nicholas (Adele Achem)</td>\n",
              "      <td>female</td>\n",
              "      <td>14.0</td>\n",
              "      <td>1</td>\n",
              "      <td>0</td>\n",
              "      <td>237736</td>\n",
              "      <td>30.0708</td>\n",
              "      <td>NaN</td>\n",
              "      <td>C</td>\n",
              "    </tr>\n",
              "  </tbody>\n",
              "</table>\n",
              "</div>"
            ],
            "text/plain": [
              "   PassengerId  Survived  Pclass  ...     Fare Cabin  Embarked\n",
              "5            6         0       3  ...   8.4583   NaN         Q\n",
              "6            7         0       1  ...  51.8625   E46         S\n",
              "7            8         0       3  ...  21.0750   NaN         S\n",
              "8            9         1       3  ...  11.1333   NaN         S\n",
              "9           10         1       2  ...  30.0708   NaN         C\n",
              "\n",
              "[5 rows x 12 columns]"
            ]
          },
          "metadata": {
            "tags": []
          },
          "execution_count": 18
        }
      ]
    },
    {
      "cell_type": "markdown",
      "metadata": {
        "_uuid": "a741544b-128c-4fad-a970-b092040c854b",
        "_cell_guid": "569312d1-2ac5-438a-8f8e-e11127718bba",
        "trusted": true,
        "id": "qGtJsJAme5LQ",
        "colab_type": "text"
      },
      "source": [
        "* train과 test를 병합하여 data 란 파일을 만듭니다. 문자로 된 것을 숫자로 바꾼다든가. 숫자를 인터발 별로 그룹화 한다든가 할 때 한꺼번에 하기 위해 합해 놓습니다."
      ]
    },
    {
      "cell_type": "code",
      "metadata": {
        "_uuid": "adb8e67a-fe20-4311-af34-98b323faa1df",
        "_cell_guid": "93fcaecf-0d18-43cd-a993-e8a185b3b6ef",
        "trusted": true,
        "id": "3QjMmtl_e5LQ",
        "colab_type": "code",
        "colab": {
          "base_uri": "https://localhost:8080/",
          "height": 35
        },
        "outputId": "34b6d47d-8a47-41c4-905e-7e3514598a57"
      },
      "source": [
        "ntrain = train.shape[0]\n",
        "ntest = test.shape[0]\n",
        "# 아래는 따로 잘 모셔 둡니다.\n",
        "y_train = train['Survived'].values\n",
        "passId = test['PassengerId']\n",
        "# 병합\n",
        "data = pd.concat((train, test))\n",
        "print(\"data size is: {}\".format(data.shape))"
      ],
      "execution_count": null,
      "outputs": [
        {
          "output_type": "stream",
          "text": [
            "data size is: (1309, 12)\n"
          ],
          "name": "stdout"
        }
      ]
    },
    {
      "cell_type": "code",
      "metadata": {
        "_uuid": "ceffd7cf-90a7-4ec5-864b-2c6189ca68ba",
        "_cell_guid": "170f8c84-991e-49f9-aed2-a4b8086e1a00",
        "trusted": true,
        "id": "H6NwXlune5LY",
        "colab_type": "code",
        "colab": {
          "base_uri": "https://localhost:8080/",
          "height": 247
        },
        "outputId": "96eca7cb-c1a0-45c4-cd50-099c115298f8"
      },
      "source": [
        "data.isnull().sum()\n",
        "#비어 있는 값들을 체크해 본다."
      ],
      "execution_count": null,
      "outputs": [
        {
          "output_type": "execute_result",
          "data": {
            "text/plain": [
              "PassengerId       0\n",
              "Survived        418\n",
              "Pclass            0\n",
              "Name              0\n",
              "Sex               0\n",
              "Age             263\n",
              "SibSp             0\n",
              "Parch             0\n",
              "Ticket            0\n",
              "Fare              1\n",
              "Cabin          1014\n",
              "Embarked          2\n",
              "dtype: int64"
            ]
          },
          "metadata": {
            "tags": []
          },
          "execution_count": 21
        }
      ]
    },
    {
      "cell_type": "markdown",
      "metadata": {
        "_uuid": "6e145614-83fe-48ee-8c52-6c3d0f2ef432",
        "_cell_guid": "3bc21f0e-36dc-4a69-a344-b9ea3c15a97e",
        "trusted": true,
        "id": "GRD8kklue5Le",
        "colab_type": "text"
      },
      "source": [
        "### Features 항목\n",
        "\n",
        "          Variable          정의                Key\n",
        "\n",
        "          survival          생존 여부            0 = No, 1 = Yes\n",
        "\n",
        "          pclass            선실 등급            1 = 1st, 2 = 2nd, 3 = 3rd\n",
        "\n",
        "          sex               성별    \n",
        "\n",
        "          Age               나이  \n",
        "\n",
        "          sibsp             형재 자매의 수/ 배우자 등이 승선한 경우 수    \n",
        "\n",
        "          parch             부모나 자식과 같이 탄 경우 수   \n",
        "\n",
        "          ticket            표 번호    \n",
        "\n",
        "          fare              요금\n",
        "\n",
        "          cabin             선실 번호   \n",
        "\n",
        "          embarked          승선한 항구         C = Cherbourg, Q = Queenstown, S = Southampton"
      ]
    },
    {
      "cell_type": "code",
      "metadata": {
        "_uuid": "6eee58df-6d1c-435b-8dc5-e972ca5db9d3",
        "_cell_guid": "ca41bc92-ba31-432b-adc3-5527029eee5e",
        "trusted": true,
        "id": "xnjFr1r-e5Le",
        "colab_type": "code",
        "colab": {
          "base_uri": "https://localhost:8080/",
          "height": 254
        },
        "outputId": "680d2d77-47ad-4c51-ffa5-e5a01c7d3e9c"
      },
      "source": [
        "train.head()"
      ],
      "execution_count": null,
      "outputs": [
        {
          "output_type": "execute_result",
          "data": {
            "text/html": [
              "<div>\n",
              "<style scoped>\n",
              "    .dataframe tbody tr th:only-of-type {\n",
              "        vertical-align: middle;\n",
              "    }\n",
              "\n",
              "    .dataframe tbody tr th {\n",
              "        vertical-align: top;\n",
              "    }\n",
              "\n",
              "    .dataframe thead th {\n",
              "        text-align: right;\n",
              "    }\n",
              "</style>\n",
              "<table border=\"1\" class=\"dataframe\">\n",
              "  <thead>\n",
              "    <tr style=\"text-align: right;\">\n",
              "      <th></th>\n",
              "      <th>PassengerId</th>\n",
              "      <th>Survived</th>\n",
              "      <th>Pclass</th>\n",
              "      <th>Name</th>\n",
              "      <th>Sex</th>\n",
              "      <th>Age</th>\n",
              "      <th>SibSp</th>\n",
              "      <th>Parch</th>\n",
              "      <th>Ticket</th>\n",
              "      <th>Fare</th>\n",
              "      <th>Cabin</th>\n",
              "      <th>Embarked</th>\n",
              "    </tr>\n",
              "  </thead>\n",
              "  <tbody>\n",
              "    <tr>\n",
              "      <th>0</th>\n",
              "      <td>1</td>\n",
              "      <td>0</td>\n",
              "      <td>3</td>\n",
              "      <td>Braund, Mr. Owen Harris</td>\n",
              "      <td>male</td>\n",
              "      <td>22.0</td>\n",
              "      <td>1</td>\n",
              "      <td>0</td>\n",
              "      <td>A/5 21171</td>\n",
              "      <td>7.2500</td>\n",
              "      <td>NaN</td>\n",
              "      <td>S</td>\n",
              "    </tr>\n",
              "    <tr>\n",
              "      <th>1</th>\n",
              "      <td>2</td>\n",
              "      <td>1</td>\n",
              "      <td>1</td>\n",
              "      <td>Cumings, Mrs. John Bradley (Florence Briggs Th...</td>\n",
              "      <td>female</td>\n",
              "      <td>38.0</td>\n",
              "      <td>1</td>\n",
              "      <td>0</td>\n",
              "      <td>PC 17599</td>\n",
              "      <td>71.2833</td>\n",
              "      <td>C85</td>\n",
              "      <td>C</td>\n",
              "    </tr>\n",
              "    <tr>\n",
              "      <th>2</th>\n",
              "      <td>3</td>\n",
              "      <td>1</td>\n",
              "      <td>3</td>\n",
              "      <td>Heikkinen, Miss. Laina</td>\n",
              "      <td>female</td>\n",
              "      <td>26.0</td>\n",
              "      <td>0</td>\n",
              "      <td>0</td>\n",
              "      <td>STON/O2. 3101282</td>\n",
              "      <td>7.9250</td>\n",
              "      <td>NaN</td>\n",
              "      <td>S</td>\n",
              "    </tr>\n",
              "    <tr>\n",
              "      <th>3</th>\n",
              "      <td>4</td>\n",
              "      <td>1</td>\n",
              "      <td>1</td>\n",
              "      <td>Futrelle, Mrs. Jacques Heath (Lily May Peel)</td>\n",
              "      <td>female</td>\n",
              "      <td>35.0</td>\n",
              "      <td>1</td>\n",
              "      <td>0</td>\n",
              "      <td>113803</td>\n",
              "      <td>53.1000</td>\n",
              "      <td>C123</td>\n",
              "      <td>S</td>\n",
              "    </tr>\n",
              "    <tr>\n",
              "      <th>4</th>\n",
              "      <td>5</td>\n",
              "      <td>0</td>\n",
              "      <td>3</td>\n",
              "      <td>Allen, Mr. William Henry</td>\n",
              "      <td>male</td>\n",
              "      <td>35.0</td>\n",
              "      <td>0</td>\n",
              "      <td>0</td>\n",
              "      <td>373450</td>\n",
              "      <td>8.0500</td>\n",
              "      <td>NaN</td>\n",
              "      <td>S</td>\n",
              "    </tr>\n",
              "  </tbody>\n",
              "</table>\n",
              "</div>"
            ],
            "text/plain": [
              "   PassengerId  Survived  Pclass  ...     Fare Cabin  Embarked\n",
              "0            1         0       3  ...   7.2500   NaN         S\n",
              "1            2         1       1  ...  71.2833   C85         C\n",
              "2            3         1       3  ...   7.9250   NaN         S\n",
              "3            4         1       1  ...  53.1000  C123         S\n",
              "4            5         0       3  ...   8.0500   NaN         S\n",
              "\n",
              "[5 rows x 12 columns]"
            ]
          },
          "metadata": {
            "tags": []
          },
          "execution_count": 24
        }
      ]
    },
    {
      "cell_type": "code",
      "metadata": {
        "_uuid": "17c43d5e-1116-4b7c-9950-c57ebc6cb4f8",
        "_cell_guid": "453f962b-7055-4e85-851e-13471585c730",
        "trusted": true,
        "id": "ptWZ9Atqe5Lg",
        "colab_type": "code",
        "colab": {
          "base_uri": "https://localhost:8080/",
          "height": 498
        },
        "outputId": "7b3bffa9-9073-4eb7-bf99-5d3922a3887b"
      },
      "source": [
        "corr = data.corr()\n",
        "# 마스크 셋업\n",
        "mask = np.zeros_like(corr, dtype=np.bool)\n",
        "# triu 는 우측 상단 삼각행렬\n",
        "mask[np.triu_indices_from(mask)] = True\n",
        "plt.figure(figsize=(14, 8))\n",
        "plt.title('Overall Correlation of Titanic Features', fontsize=18)\n",
        "sns.heatmap(corr, mask=mask, annot=True,cmap='RdYlGn', linewidths=0.2, annot_kws={'size':20})\n",
        "plt.show()"
      ],
      "execution_count": null,
      "outputs": [
        {
          "output_type": "display_data",
          "data": {
            "image/png": "[encoded data removed]",
            "text/plain": [
              "<Figure size 1008x576 with 2 Axes>"
            ]
          },
          "metadata": {
            "tags": [],
            "needs_background": "light"
          }
        }
      ]
    },
    {
      "cell_type": "code",
      "metadata": {
        "_uuid": "7b85358c-8c5e-4f21-8f27-51742e41c3d7",
        "_cell_guid": "5d6acdeb-0f70-4eb4-83e9-6edc2d090ea4",
        "trusted": true,
        "id": "nlTioUd-e5Lj",
        "colab_type": "code",
        "colab": {
          "base_uri": "https://localhost:8080/",
          "height": 220
        },
        "outputId": "e7a73085-4ade-4462-a7bb-32601c860c3d"
      },
      "source": [
        "fig = plt.figure(figsize=(10,2))\n",
        "sns.countplot(y='Survived', data=train)\n",
        "print(train.Survived.value_counts())"
      ],
      "execution_count": null,
      "outputs": [
        {
          "output_type": "stream",
          "text": [
            "0    549\n",
            "1    342\n",
            "Name: Survived, dtype: int64\n"
          ],
          "name": "stdout"
        },
        {
          "output_type": "display_data",
          "data": {
            "image/png": "[encoded data removed]",
            "text/plain": [
              "<Figure size 720x144 with 1 Axes>"
            ]
          },
          "metadata": {
            "tags": [],
            "needs_background": "light"
          }
        }
      ]
    },
    {
      "cell_type": "code",
      "metadata": {
        "_uuid": "d8dd280a-a4ad-4fbe-8da2-059f1f85da32",
        "_cell_guid": "e43702a5-c0ac-4069-ac81-66cbb1eca357",
        "trusted": true,
        "id": "Fz4xsWyse5Ll",
        "colab_type": "code",
        "colab": {}
      },
      "source": [
        "f,ax=plt.subplots(1, 2, figsize=(15, 6))\n",
        "train['Survived'].value_counts().plot.pie(explode=[0, 0.1], autopct='%1.1f%%', ax=ax[0], shadow=True)\n",
        "ax[0].set_title('Survived')\n",
        "ax[0].set_ylabel('')\n",
        "sns.countplot('Survived',data=train, ax=ax[1])\n",
        "ax[1].set_title('Survived')\n",
        "plt.show()"
      ],
      "execution_count": null,
      "outputs": []
    },
    {
      "cell_type": "code",
      "metadata": {
        "_uuid": "fefd849e-e520-48ee-9d89-e35815ac5358",
        "_cell_guid": "37fe1541-abe6-4efe-a576-8f68a7f26bfb",
        "trusted": true,
        "id": "J_XKeS4he5Lp",
        "colab_type": "code",
        "colab": {
          "base_uri": "https://localhost:8080/",
          "height": 159
        },
        "outputId": "45f99867-0947-4dc1-e8bb-8831870495bb"
      },
      "source": [
        "train.groupby(['Pclass','Survived'])['Survived'].count()"
      ],
      "execution_count": null,
      "outputs": [
        {
          "output_type": "execute_result",
          "data": {
            "text/plain": [
              "Pclass  Survived\n",
              "1       0            80\n",
              "        1           136\n",
              "2       0            97\n",
              "        1            87\n",
              "3       0           372\n",
              "        1           119\n",
              "Name: Survived, dtype: int64"
            ]
          },
          "metadata": {
            "tags": []
          },
          "execution_count": 30
        }
      ]
    },
    {
      "cell_type": "code",
      "metadata": {
        "_uuid": "2cfe69da-2162-48c3-aaa1-d8978fe40671",
        "_cell_guid": "0a93e775-fcdb-443f-918b-38b11656315c",
        "trusted": true,
        "id": "BB4Kcc2Ze5Ls",
        "colab_type": "code",
        "colab": {}
      },
      "source": [
        "f, ax = plt.subplots(1, 2, figsize=(12, 6))\n",
        "train[['Pclass','Survived']].groupby(['Pclass']).mean().plot.bar(ax=ax[0])\n",
        "ax[0].set_title('Survived per Pcalss')\n",
        "sns.countplot('Pclass', hue='Survived', data=train, ax=ax[1])\n",
        "ax[1].set_title('Pcalss Survived vs Not Survived')\n",
        "plt.show()"
      ],
      "execution_count": null,
      "outputs": []
    },
    {
      "cell_type": "markdown",
      "metadata": {
        "_uuid": "a1918545-9422-431b-9d23-fff4e50d59bc",
        "_cell_guid": "b915feeb-e3f4-4a31-8f98-618524c8bc48",
        "trusted": true,
        "id": "50VEPcdhe5Lu",
        "colab_type": "text"
      },
      "source": [
        "* 위에 만든 함수를 한 번 써 먹어 볼까요?"
      ]
    },
    {
      "cell_type": "code",
      "metadata": {
        "_uuid": "9b727747-bde7-4979-8b62-05422d89824a",
        "_cell_guid": "bb996a29-f0d9-413f-a14b-b19e0094dff2",
        "trusted": true,
        "id": "E-fL67OUe5Lu",
        "colab_type": "code",
        "colab": {
          "base_uri": "https://localhost:8080/",
          "height": 400
        },
        "outputId": "3ab425cf-8c7f-450b-8c71-3ad29e31ff3e"
      },
      "source": [
        "piecount(\"Pclass\")"
      ],
      "execution_count": null,
      "outputs": [
        {
          "output_type": "display_data",
          "data": {
            "image/png": "[encoded data removed]",
            "text/plain": [
              "<Figure size 1080x432 with 2 Axes>"
            ]
          },
          "metadata": {
            "tags": [],
            "needs_background": "light"
          }
        }
      ]
    },
    {
      "cell_type": "code",
      "metadata": {
        "_uuid": "8026a512-ed18-444b-acb4-538e6aeaecb0",
        "_cell_guid": "f1e363f7-be14-45d8-9410-a7291062dd3c",
        "trusted": true,
        "id": "t4v_3GpWe5Lw",
        "colab_type": "code",
        "colab": {
          "base_uri": "https://localhost:8080/",
          "height": 230
        },
        "outputId": "e97c0f78-bfe3-46ed-a545-2e969c56eab8"
      },
      "source": [
        "data.Name.value_counts()"
      ],
      "execution_count": null,
      "outputs": [
        {
          "output_type": "execute_result",
          "data": {
            "text/plain": [
              "Connolly, Miss. Kate                     2\n",
              "Kelly, Mr. James                         2\n",
              "Johanson, Mr. Jakob Alfred               1\n",
              "Julian, Mr. Henry Forbes                 1\n",
              "Moore, Mr. Leonard Charles               1\n",
              "                                        ..\n",
              "Pettersson, Miss. Ellen Natalia          1\n",
              "Dintcheff, Mr. Valtcho                   1\n",
              "Mahon, Miss. Bridget Delia               1\n",
              "Abelson, Mrs. Samuel (Hannah Wizosky)    1\n",
              "Madigan, Miss. Margaret \"Maggie\"         1\n",
              "Name: Name, Length: 1307, dtype: int64"
            ]
          },
          "metadata": {
            "tags": []
          },
          "execution_count": 34
        }
      ]
    },
    {
      "cell_type": "markdown",
      "metadata": {
        "_uuid": "f43c393a-10af-4658-bd77-5f59664d7570",
        "_cell_guid": "1b7cec22-26b3-4e18-bec3-841c05b07e38",
        "trusted": true,
        "id": "TfyzBJQwe5Ly",
        "colab_type": "text"
      },
      "source": [
        "* 이름은 언뜻 보아서 감이 안 옵니다. 중간에 있는 Mr. 같은 호칭을 볼까요.\n",
        "* ['Initial']이란 열을 새로 만들어서 여기에 Name에서 추출한 Regular Expression을 넣습니다."
      ]
    },
    {
      "cell_type": "code",
      "metadata": {
        "_uuid": "30e3faab-3fff-460c-9df8-58f48308814e",
        "_cell_guid": "df5bf168-af51-4deb-b31c-9a673a4ec2f6",
        "trusted": true,
        "id": "fu-T-9Ixe5Lz",
        "colab_type": "code",
        "colab": {}
      },
      "source": [
        "temp = data.copy()\n",
        "temp['Initial'] = 0\n",
        "temp['Initial'] = data.Name.str.extract('([A-Za-z]+)\\.')"
      ],
      "execution_count": null,
      "outputs": []
    },
    {
      "cell_type": "markdown",
      "metadata": {
        "_uuid": "a3b3c87d-6765-4857-b240-d8950c4f36bc",
        "_cell_guid": "931d2869-d126-4b5b-8f69-5ee2765db3de",
        "trusted": true,
        "id": "dZvkh6JXe5L0",
        "colab_type": "text"
      },
      "source": [
        "Miss나 Mr등은 많으나 익숙하지 않은 몇 개가 보입니다."
      ]
    },
    {
      "cell_type": "code",
      "metadata": {
        "_uuid": "204c8706-e0f5-485d-a037-9cff51f0a2b7",
        "_cell_guid": "1ac42aae-e788-4281-b6f4-f3710691cfc2",
        "trusted": true,
        "id": "SyNrklVee5L1",
        "colab_type": "code",
        "colab": {
          "base_uri": "https://localhost:8080/",
          "height": 354
        },
        "outputId": "5dc23149-e6d3-478e-c748-f541d6930131"
      },
      "source": [
        "temp['Initial'].value_counts()"
      ],
      "execution_count": null,
      "outputs": [
        {
          "output_type": "execute_result",
          "data": {
            "text/plain": [
              "Mr          757\n",
              "Miss        260\n",
              "Mrs         197\n",
              "Master       61\n",
              "Dr            8\n",
              "Rev           8\n",
              "Col           4\n",
              "Mlle          2\n",
              "Major         2\n",
              "Ms            2\n",
              "Capt          1\n",
              "Dona          1\n",
              "Sir           1\n",
              "Countess      1\n",
              "Lady          1\n",
              "Don           1\n",
              "Jonkheer      1\n",
              "Mme           1\n",
              "Name: Initial, dtype: int64"
            ]
          },
          "metadata": {
            "tags": []
          },
          "execution_count": 36
        }
      ]
    },
    {
      "cell_type": "markdown",
      "metadata": {
        "_uuid": "00e551bc-1214-4b6f-8888-41bc134889d7",
        "_cell_guid": "933fbe79-7cab-46e3-88ab-a528ee70f106",
        "trusted": true,
        "id": "OU3EBCU0e5L4",
        "colab_type": "text"
      },
      "source": [
        "* 생존률로 봅니다.\n",
        "\n",
        "* 생존율 함수를 만들어 보겠습니다."
      ]
    },
    {
      "cell_type": "code",
      "metadata": {
        "_uuid": "d8259a6c-c8ee-4d20-856f-03247e504a79",
        "_cell_guid": "a404adcb-d60b-41a9-8464-b7c882deb422",
        "trusted": true,
        "id": "YPT6oDW4e5L5",
        "colab_type": "code",
        "colab": {
          "base_uri": "https://localhost:8080/",
          "height": 371
        },
        "outputId": "b5518734-6fb0-4dc9-cc9e-12652bcb0b56"
      },
      "source": [
        "def survpct(col):\n",
        "    return temp.groupby(col)['Survived'].mean()\n",
        "\n",
        "survpct('Initial')"
      ],
      "execution_count": null,
      "outputs": [
        {
          "output_type": "execute_result",
          "data": {
            "text/plain": [
              "Initial\n",
              "Capt        0.000000\n",
              "Col         0.500000\n",
              "Countess    1.000000\n",
              "Don         0.000000\n",
              "Dona             NaN\n",
              "Dr          0.428571\n",
              "Jonkheer    0.000000\n",
              "Lady        1.000000\n",
              "Major       0.500000\n",
              "Master      0.575000\n",
              "Miss        0.697802\n",
              "Mlle        1.000000\n",
              "Mme         1.000000\n",
              "Mr          0.156673\n",
              "Mrs         0.792000\n",
              "Ms          1.000000\n",
              "Rev         0.000000\n",
              "Sir         1.000000\n",
              "Name: Survived, dtype: float64"
            ]
          },
          "metadata": {
            "tags": []
          },
          "execution_count": 38
        }
      ]
    },
    {
      "cell_type": "markdown",
      "metadata": {
        "_uuid": "e8e63164-ed93-452f-9558-bd3836705d1c",
        "_cell_guid": "22cce559-ce03-4366-9fa6-bd382ad2ce76",
        "trusted": true,
        "id": "fU9nVQQ-e5L7",
        "colab_type": "text"
      },
      "source": [
        "* test 에 있는 Dona의 나이를 보고 어디에 넣을지 보겠습니다.\n",
        "* Ms. 는 현대처럼 Miss + Mrs를 합친 말이 아니라 당시에는 귀족미망인을 의미하는 것이 었습니다. Mlle나 Mme등도 마드모아젤과 마담의 줄인말일 경우일 것입니다. 귀족 여성들로 보아야겠죠."
      ]
    },
    {
      "cell_type": "code",
      "metadata": {
        "_uuid": "1b2cf729-b09a-4b32-bbd6-2179cbe6f94c",
        "_cell_guid": "452ebd19-a964-4355-8fa8-5022d48f3bba",
        "trusted": true,
        "id": "90F-DX2ae5L7",
        "colab_type": "code",
        "colab": {}
      },
      "source": [
        "temp['LastName'] = data.Name.str.extract('([A-Za-z]+)')"
      ],
      "execution_count": null,
      "outputs": []
    },
    {
      "cell_type": "markdown",
      "metadata": {
        "_uuid": "63ddd4d5-5e59-4e2e-a444-20572bfd40e9",
        "_cell_guid": "40418fb8-2d98-4c23-8e90-2b70ac5d7fae",
        "trusted": true,
        "id": "o4eyJC72e5L_",
        "colab_type": "text"
      },
      "source": [
        "* 이제 우리는 Initial에서 Mr.등의 호칭을 뽑아내었고, 성을 뽑아내었습니다.\n",
        "\n",
        "* 머신이 알파벳보다는 숫자를 좋아 하므로 숫자로 바꿉니다.\n",
        "\n",
        "* 아, 그러기 전에 Dona를 처리해야지요."
      ]
    },
    {
      "cell_type": "code",
      "metadata": {
        "_uuid": "8a7e1f4c-85ff-49bb-b98c-935df3b9bd48",
        "_cell_guid": "31537000-1762-45ab-b28b-db7916c13aef",
        "trusted": true,
        "id": "sr99-czse5L_",
        "colab_type": "code",
        "colab": {
          "base_uri": "https://localhost:8080/",
          "height": 131
        },
        "outputId": "60b44f9d-f7e2-4084-ed7a-2566e35eee83"
      },
      "source": [
        "temp.loc[temp['Initial'] == 'Dona']"
      ],
      "execution_count": null,
      "outputs": [
        {
          "output_type": "execute_result",
          "data": {
            "text/html": [
              "<div>\n",
              "<style scoped>\n",
              "    .dataframe tbody tr th:only-of-type {\n",
              "        vertical-align: middle;\n",
              "    }\n",
              "\n",
              "    .dataframe tbody tr th {\n",
              "        vertical-align: top;\n",
              "    }\n",
              "\n",
              "    .dataframe thead th {\n",
              "        text-align: right;\n",
              "    }\n",
              "</style>\n",
              "<table border=\"1\" class=\"dataframe\">\n",
              "  <thead>\n",
              "    <tr style=\"text-align: right;\">\n",
              "      <th></th>\n",
              "      <th>PassengerId</th>\n",
              "      <th>Survived</th>\n",
              "      <th>Pclass</th>\n",
              "      <th>Name</th>\n",
              "      <th>Sex</th>\n",
              "      <th>Age</th>\n",
              "      <th>SibSp</th>\n",
              "      <th>Parch</th>\n",
              "      <th>Ticket</th>\n",
              "      <th>Fare</th>\n",
              "      <th>Cabin</th>\n",
              "      <th>Embarked</th>\n",
              "      <th>Initial</th>\n",
              "      <th>LastName</th>\n",
              "    </tr>\n",
              "  </thead>\n",
              "  <tbody>\n",
              "    <tr>\n",
              "      <th>414</th>\n",
              "      <td>1306</td>\n",
              "      <td>NaN</td>\n",
              "      <td>1</td>\n",
              "      <td>Oliva y Ocana, Dona. Fermina</td>\n",
              "      <td>female</td>\n",
              "      <td>39.0</td>\n",
              "      <td>0</td>\n",
              "      <td>0</td>\n",
              "      <td>PC 17758</td>\n",
              "      <td>108.9</td>\n",
              "      <td>C105</td>\n",
              "      <td>C</td>\n",
              "      <td>Dona</td>\n",
              "      <td>Oliva</td>\n",
              "    </tr>\n",
              "  </tbody>\n",
              "</table>\n",
              "</div>"
            ],
            "text/plain": [
              "     PassengerId  Survived  Pclass  ... Embarked Initial  LastName\n",
              "414         1306       NaN       1  ...        C    Dona     Oliva\n",
              "\n",
              "[1 rows x 14 columns]"
            ]
          },
          "metadata": {
            "tags": []
          },
          "execution_count": 41
        }
      ]
    },
    {
      "cell_type": "code",
      "metadata": {
        "_uuid": "35ab1856-8c99-4137-93c9-78cc291a6b95",
        "_cell_guid": "46b3cbee-a71b-487a-a254-0e3ed47be45e",
        "trusted": true,
        "id": "TUp1gomSe5MC",
        "colab_type": "code",
        "colab": {}
      },
      "source": [
        "temp.loc[temp['Initial'] == 'Dona', 'Initial'] = 'Mrs'"
      ],
      "execution_count": null,
      "outputs": []
    },
    {
      "cell_type": "markdown",
      "metadata": {
        "_uuid": "078c2d73-22d0-4aea-bf84-b11e847605df",
        "_cell_guid": "b1f677fb-c134-4f13-b68c-d22beffc030c",
        "trusted": true,
        "id": "KuJ6IjAze5MH",
        "colab_type": "text"
      },
      "source": [
        "* Last name 은 전부 숫자로 바꿉니다."
      ]
    },
    {
      "cell_type": "code",
      "metadata": {
        "_uuid": "25f9f773-ba17-4822-b11f-c2996a6910f1",
        "_cell_guid": "e4646a3d-103d-4607-a2ae-6696898cfd68",
        "trusted": true,
        "id": "c6pTFGt2e5MH",
        "colab_type": "code",
        "colab": {}
      },
      "source": [
        "temp['NumName'] = temp['LastName'].factorize()[0]"
      ],
      "execution_count": null,
      "outputs": []
    },
    {
      "cell_type": "code",
      "metadata": {
        "_uuid": "4ffe4974-a354-4021-a0d4-98182705155c",
        "_cell_guid": "49395b59-07d8-40d8-bbf4-eb9461636fe3",
        "trusted": true,
        "id": "fGxB81rXe5MK",
        "colab_type": "code",
        "colab": {
          "base_uri": "https://localhost:8080/",
          "height": 164
        },
        "outputId": "a4d66b7c-9447-4772-859e-142c0c8217f1"
      },
      "source": [
        "temp.loc[temp['LastName'] == 'Ali']"
      ],
      "execution_count": null,
      "outputs": [
        {
          "output_type": "execute_result",
          "data": {
            "text/html": [
              "<div>\n",
              "<style scoped>\n",
              "    .dataframe tbody tr th:only-of-type {\n",
              "        vertical-align: middle;\n",
              "    }\n",
              "\n",
              "    .dataframe tbody tr th {\n",
              "        vertical-align: top;\n",
              "    }\n",
              "\n",
              "    .dataframe thead th {\n",
              "        text-align: right;\n",
              "    }\n",
              "</style>\n",
              "<table border=\"1\" class=\"dataframe\">\n",
              "  <thead>\n",
              "    <tr style=\"text-align: right;\">\n",
              "      <th></th>\n",
              "      <th>PassengerId</th>\n",
              "      <th>Survived</th>\n",
              "      <th>Pclass</th>\n",
              "      <th>Name</th>\n",
              "      <th>Sex</th>\n",
              "      <th>Age</th>\n",
              "      <th>SibSp</th>\n",
              "      <th>Parch</th>\n",
              "      <th>Ticket</th>\n",
              "      <th>Fare</th>\n",
              "      <th>Cabin</th>\n",
              "      <th>Embarked</th>\n",
              "      <th>Initial</th>\n",
              "      <th>LastName</th>\n",
              "      <th>NumName</th>\n",
              "    </tr>\n",
              "  </thead>\n",
              "  <tbody>\n",
              "    <tr>\n",
              "      <th>210</th>\n",
              "      <td>211</td>\n",
              "      <td>0.0</td>\n",
              "      <td>3</td>\n",
              "      <td>Ali, Mr. Ahmed</td>\n",
              "      <td>male</td>\n",
              "      <td>24.0</td>\n",
              "      <td>0</td>\n",
              "      <td>0</td>\n",
              "      <td>SOTON/O.Q. 3101311</td>\n",
              "      <td>7.05</td>\n",
              "      <td>NaN</td>\n",
              "      <td>S</td>\n",
              "      <td>Mr</td>\n",
              "      <td>Ali</td>\n",
              "      <td>182</td>\n",
              "    </tr>\n",
              "    <tr>\n",
              "      <th>784</th>\n",
              "      <td>785</td>\n",
              "      <td>0.0</td>\n",
              "      <td>3</td>\n",
              "      <td>Ali, Mr. William</td>\n",
              "      <td>male</td>\n",
              "      <td>25.0</td>\n",
              "      <td>0</td>\n",
              "      <td>0</td>\n",
              "      <td>SOTON/O.Q. 3101312</td>\n",
              "      <td>7.05</td>\n",
              "      <td>NaN</td>\n",
              "      <td>S</td>\n",
              "      <td>Mr</td>\n",
              "      <td>Ali</td>\n",
              "      <td>182</td>\n",
              "    </tr>\n",
              "  </tbody>\n",
              "</table>\n",
              "</div>"
            ],
            "text/plain": [
              "     PassengerId  Survived  Pclass  ... Initial LastName  NumName\n",
              "210          211       0.0       3  ...      Mr      Ali      182\n",
              "784          785       0.0       3  ...      Mr      Ali      182\n",
              "\n",
              "[2 rows x 15 columns]"
            ]
          },
          "metadata": {
            "tags": []
          },
          "execution_count": 46
        }
      ]
    },
    {
      "cell_type": "markdown",
      "metadata": {
        "_uuid": "1a50bae0-1fa4-41c5-9b1c-0b1976e71c1a",
        "_cell_guid": "a8c4cbc1-b744-425d-b242-e389703163fd",
        "trusted": true,
        "id": "jy7mNrT4e5ML",
        "colab_type": "text"
      },
      "source": [
        "* 보시다시피 같은 Last name에 같은 번호가 쓰여졌다.\n",
        "\n",
        "* 끝에 [0]은 라벨만 보고 번호를 붙이는 것으로 정말 unique한 것이란 것은 안 본다는 것입니다.\n",
        " \n",
        "* 자 이제 이름을 의미하는 중요한 요소 두 개를 숫자로 바꾸었으니 다음으로 갑니다."
      ]
    },
    {
      "cell_type": "code",
      "metadata": {
        "_uuid": "21d5faa6-5695-4666-9992-a80d33ef91e4",
        "_cell_guid": "df923a37-cdec-461e-9a24-735fedb3e842",
        "trusted": true,
        "id": "0SQuCVSde5MM",
        "colab_type": "code",
        "colab": {
          "base_uri": "https://localhost:8080/",
          "height": 141
        },
        "outputId": "6ee4c4e8-465a-4d8c-f969-c3fbba885ef2"
      },
      "source": [
        "train[['Sex','Survived']].groupby(['Sex']).mean()"
      ],
      "execution_count": null,
      "outputs": [
        {
          "output_type": "execute_result",
          "data": {
            "text/html": [
              "<div>\n",
              "<style scoped>\n",
              "    .dataframe tbody tr th:only-of-type {\n",
              "        vertical-align: middle;\n",
              "    }\n",
              "\n",
              "    .dataframe tbody tr th {\n",
              "        vertical-align: top;\n",
              "    }\n",
              "\n",
              "    .dataframe thead th {\n",
              "        text-align: right;\n",
              "    }\n",
              "</style>\n",
              "<table border=\"1\" class=\"dataframe\">\n",
              "  <thead>\n",
              "    <tr style=\"text-align: right;\">\n",
              "      <th></th>\n",
              "      <th>Survived</th>\n",
              "    </tr>\n",
              "    <tr>\n",
              "      <th>Sex</th>\n",
              "      <th></th>\n",
              "    </tr>\n",
              "  </thead>\n",
              "  <tbody>\n",
              "    <tr>\n",
              "      <th>female</th>\n",
              "      <td>0.742038</td>\n",
              "    </tr>\n",
              "    <tr>\n",
              "      <th>male</th>\n",
              "      <td>0.188908</td>\n",
              "    </tr>\n",
              "  </tbody>\n",
              "</table>\n",
              "</div>"
            ],
            "text/plain": [
              "        Survived\n",
              "Sex             \n",
              "female  0.742038\n",
              "male    0.188908"
            ]
          },
          "metadata": {
            "tags": []
          },
          "execution_count": 47
        }
      ]
    },
    {
      "cell_type": "code",
      "metadata": {
        "_uuid": "04d6567a-af7f-4d43-8495-22c7f9e0da02",
        "_cell_guid": "1cf63c13-7e71-4ddb-abcf-627361176a17",
        "trusted": true,
        "id": "xC9XqIEIe5MO",
        "colab_type": "code",
        "colab": {
          "base_uri": "https://localhost:8080/",
          "height": 365
        },
        "outputId": "9a2926c2-ad11-405d-ae2f-976806256458"
      },
      "source": [
        "def bag(col, target, title, title1):\n",
        "    f,ax=plt.subplots(1,2,figsize=(12,5))\n",
        "    train.groupby([col])[target].mean().plot(kind='bar', ax=ax[0])\n",
        "    ax[0].set_title(title)\n",
        "    sns.countplot(col, hue=target, data=train, ax=ax[1])\n",
        "    ax[1].set_title(title1)\n",
        "    plt.show()\n",
        "\n",
        "bag('Sex','Survived','Survived per Sex','Sex Survived vs Not Survived')"
      ],
      "execution_count": null,
      "outputs": [
        {
          "output_type": "display_data",
          "data": {
            "image/png": "[encoded data removed]",
            "text/plain": [
              "<Figure size 864x360 with 2 Axes>"
            ]
          },
          "metadata": {
            "tags": [],
            "needs_background": "light"
          }
        }
      ]
    },
    {
      "cell_type": "markdown",
      "metadata": {
        "_uuid": "423109e5-9fff-4ebf-b7fc-7c3b80698ec3",
        "_cell_guid": "9e8eae27-a146-443b-a89b-c6193eaa4a03",
        "trusted": true,
        "id": "lqyJrnIwe5MS",
        "colab_type": "text"
      },
      "source": [
        "### Age 분석\n",
        " \n",
        "* Age는 Continuous한 값입니다.\n",
        "* 빈칸이 많아서 빈칸처리가 결정적인 역할을 할 것 같습니다."
      ]
    },
    {
      "cell_type": "code",
      "metadata": {
        "_uuid": "ae19ee02-ab6a-4102-be05-9bb7e0cb3d13",
        "_cell_guid": "6dd61e02-c076-4a7c-8c6f-bf78094e48ce",
        "trusted": true,
        "id": "-lzjw16be5MW",
        "colab_type": "code",
        "colab": {
          "base_uri": "https://localhost:8080/",
          "height": 471
        },
        "outputId": "ff8089e7-5d05-4e12-a880-0d58baafaf88"
      },
      "source": [
        "f, ax = plt.subplots(1,2,figsize=(18,8))\n",
        "sns.violinplot(\"Pclass\", \"Age\", hue=\"Survived\", data=train, split=True, ax=ax[0])\n",
        "ax[0].set_title('Pclass and Age vs Survived')\n",
        "ax[0].set_yticks(range(0, 110, 10))\n",
        "sns.violinplot(\"Sex\",\"Age\", hue=\"Survived\", data=train, split=True, ax=ax[1])\n",
        "ax[1].set_title('Sex and Age vs Survived')\n",
        "ax[1].set_yticks(range(0, 110, 10))\n",
        "plt.show()"
      ],
      "execution_count": null,
      "outputs": [
        {
          "output_type": "display_data",
          "data": {
            "image/png": "[encoded data removed]",
            "text/plain": [
              "<Figure size 1296x576 with 2 Axes>"
            ]
          },
          "metadata": {
            "tags": [],
            "needs_background": "light"
          }
        }
      ]
    },
    {
      "cell_type": "markdown",
      "metadata": {
        "_uuid": "6aa4c6ba-79b8-4d4c-b7ea-1c0798ca5390",
        "_cell_guid": "dc2a0457-19d7-44ae-96fb-f4dcef047315",
        "trusted": true,
        "id": "1RpVjkn6e5MY",
        "colab_type": "text"
      },
      "source": [
        "우선 age의 빈칸 부터 해결 합니다.\n",
        "\n",
        "앞에서 살펴본 것처럼 Age 항목에는 177 null 값이 있습니다. 이러한 NaN 값을 대체하기 위해 데이터 집합의 평균 수명을 지정할 수 있습니다.\n",
        "\n",
        "그러나 문제는 평균 연령이 29 세를 4세 아이에게 할당 할 수 없습니다. 승객이 어떤 연령대에 있는지 알 수있는 방법이 있을까요? 이름에서 힌트를 찾아 봅니다."
      ]
    },
    {
      "cell_type": "markdown",
      "metadata": {
        "_uuid": "dcf34518-7919-4296-85cf-6237db62dce7",
        "_cell_guid": "22688323-cf2f-4be5-aac2-d5b353597138",
        "trusted": true,
        "id": "zTfQufFfe5MZ",
        "colab_type": "text"
      },
      "source": [
        "* 그리고 Initial 별 평균 연령을 보고 Age에 적용 시키는 것이 좋을 것 같습니다."
      ]
    },
    {
      "cell_type": "code",
      "metadata": {
        "_uuid": "0988b695-cac3-4fea-aadd-1f2052eb5102",
        "_cell_guid": "1c39f89e-a757-4386-84ab-7c4e62b0c02a",
        "trusted": true,
        "id": "g4R_GTxGe5MZ",
        "colab_type": "code",
        "colab": {
          "base_uri": "https://localhost:8080/",
          "height": 635
        },
        "outputId": "daa9ceb0-5dfc-435a-9083-02efcbc0e2e3"
      },
      "source": [
        "temp.groupby('Initial').agg({'Age': ['mean', 'count']}) #이니셜 별 평균 연령 체크"
      ],
      "execution_count": null,
      "outputs": [
        {
          "output_type": "execute_result",
          "data": {
            "text/html": [
              "<div>\n",
              "<style scoped>\n",
              "    .dataframe tbody tr th:only-of-type {\n",
              "        vertical-align: middle;\n",
              "    }\n",
              "\n",
              "    .dataframe tbody tr th {\n",
              "        vertical-align: top;\n",
              "    }\n",
              "\n",
              "    .dataframe thead tr th {\n",
              "        text-align: left;\n",
              "    }\n",
              "\n",
              "    .dataframe thead tr:last-of-type th {\n",
              "        text-align: right;\n",
              "    }\n",
              "</style>\n",
              "<table border=\"1\" class=\"dataframe\">\n",
              "  <thead>\n",
              "    <tr>\n",
              "      <th></th>\n",
              "      <th colspan=\"2\" halign=\"left\">Age</th>\n",
              "    </tr>\n",
              "    <tr>\n",
              "      <th></th>\n",
              "      <th>mean</th>\n",
              "      <th>count</th>\n",
              "    </tr>\n",
              "    <tr>\n",
              "      <th>Initial</th>\n",
              "      <th></th>\n",
              "      <th></th>\n",
              "    </tr>\n",
              "  </thead>\n",
              "  <tbody>\n",
              "    <tr>\n",
              "      <th>Capt</th>\n",
              "      <td>70.000000</td>\n",
              "      <td>1</td>\n",
              "    </tr>\n",
              "    <tr>\n",
              "      <th>Col</th>\n",
              "      <td>54.000000</td>\n",
              "      <td>4</td>\n",
              "    </tr>\n",
              "    <tr>\n",
              "      <th>Countess</th>\n",
              "      <td>33.000000</td>\n",
              "      <td>1</td>\n",
              "    </tr>\n",
              "    <tr>\n",
              "      <th>Don</th>\n",
              "      <td>40.000000</td>\n",
              "      <td>1</td>\n",
              "    </tr>\n",
              "    <tr>\n",
              "      <th>Dr</th>\n",
              "      <td>43.571429</td>\n",
              "      <td>7</td>\n",
              "    </tr>\n",
              "    <tr>\n",
              "      <th>Jonkheer</th>\n",
              "      <td>38.000000</td>\n",
              "      <td>1</td>\n",
              "    </tr>\n",
              "    <tr>\n",
              "      <th>Lady</th>\n",
              "      <td>48.000000</td>\n",
              "      <td>1</td>\n",
              "    </tr>\n",
              "    <tr>\n",
              "      <th>Major</th>\n",
              "      <td>48.500000</td>\n",
              "      <td>2</td>\n",
              "    </tr>\n",
              "    <tr>\n",
              "      <th>Master</th>\n",
              "      <td>5.482642</td>\n",
              "      <td>53</td>\n",
              "    </tr>\n",
              "    <tr>\n",
              "      <th>Miss</th>\n",
              "      <td>21.774238</td>\n",
              "      <td>210</td>\n",
              "    </tr>\n",
              "    <tr>\n",
              "      <th>Mlle</th>\n",
              "      <td>24.000000</td>\n",
              "      <td>2</td>\n",
              "    </tr>\n",
              "    <tr>\n",
              "      <th>Mme</th>\n",
              "      <td>24.000000</td>\n",
              "      <td>1</td>\n",
              "    </tr>\n",
              "    <tr>\n",
              "      <th>Mr</th>\n",
              "      <td>32.252151</td>\n",
              "      <td>581</td>\n",
              "    </tr>\n",
              "    <tr>\n",
              "      <th>Mrs</th>\n",
              "      <td>37.005848</td>\n",
              "      <td>171</td>\n",
              "    </tr>\n",
              "    <tr>\n",
              "      <th>Ms</th>\n",
              "      <td>28.000000</td>\n",
              "      <td>1</td>\n",
              "    </tr>\n",
              "    <tr>\n",
              "      <th>Rev</th>\n",
              "      <td>41.250000</td>\n",
              "      <td>8</td>\n",
              "    </tr>\n",
              "    <tr>\n",
              "      <th>Sir</th>\n",
              "      <td>49.000000</td>\n",
              "      <td>1</td>\n",
              "    </tr>\n",
              "  </tbody>\n",
              "</table>\n",
              "</div>"
            ],
            "text/plain": [
              "                Age      \n",
              "               mean count\n",
              "Initial                  \n",
              "Capt      70.000000     1\n",
              "Col       54.000000     4\n",
              "Countess  33.000000     1\n",
              "Don       40.000000     1\n",
              "Dr        43.571429     7\n",
              "Jonkheer  38.000000     1\n",
              "Lady      48.000000     1\n",
              "Major     48.500000     2\n",
              "Master     5.482642    53\n",
              "Miss      21.774238   210\n",
              "Mlle      24.000000     2\n",
              "Mme       24.000000     1\n",
              "Mr        32.252151   581\n",
              "Mrs       37.005848   171\n",
              "Ms        28.000000     1\n",
              "Rev       41.250000     8\n",
              "Sir       49.000000     1"
            ]
          },
          "metadata": {
            "tags": []
          },
          "execution_count": 53
        }
      ]
    },
    {
      "cell_type": "code",
      "metadata": {
        "_uuid": "6a486a66-50bb-424f-81b8-82cdc8fb601d",
        "_cell_guid": "30e3a2ea-e4df-41f1-9966-436fca3a009d",
        "trusted": true,
        "id": "Z-yN-0Ihe5Ma",
        "colab_type": "code",
        "colab": {
          "base_uri": "https://localhost:8080/",
          "height": 1000
        },
        "outputId": "739b0786-73b3-476d-d08b-c9afe0dd3bd4"
      },
      "source": [
        "# 이니셜 별 평균 연령을 빈값에 넣어 봅니다.\n",
        "temp = temp.reset_index(drop=True)\n",
        "temp['Age'] = temp.groupby('Initial')['Age'].apply(lambda x: x.fillna(x.mean()))\n",
        "temp[31:50]"
      ],
      "execution_count": null,
      "outputs": [
        {
          "output_type": "execute_result",
          "data": {
            "text/html": [
              "<div>\n",
              "<style scoped>\n",
              "    .dataframe tbody tr th:only-of-type {\n",
              "        vertical-align: middle;\n",
              "    }\n",
              "\n",
              "    .dataframe tbody tr th {\n",
              "        vertical-align: top;\n",
              "    }\n",
              "\n",
              "    .dataframe thead th {\n",
              "        text-align: right;\n",
              "    }\n",
              "</style>\n",
              "<table border=\"1\" class=\"dataframe\">\n",
              "  <thead>\n",
              "    <tr style=\"text-align: right;\">\n",
              "      <th></th>\n",
              "      <th>PassengerId</th>\n",
              "      <th>Survived</th>\n",
              "      <th>Pclass</th>\n",
              "      <th>Name</th>\n",
              "      <th>Sex</th>\n",
              "      <th>Age</th>\n",
              "      <th>SibSp</th>\n",
              "      <th>Parch</th>\n",
              "      <th>Ticket</th>\n",
              "      <th>Fare</th>\n",
              "      <th>Cabin</th>\n",
              "      <th>Embarked</th>\n",
              "      <th>Initial</th>\n",
              "      <th>LastName</th>\n",
              "      <th>NumName</th>\n",
              "    </tr>\n",
              "  </thead>\n",
              "  <tbody>\n",
              "    <tr>\n",
              "      <th>31</th>\n",
              "      <td>32</td>\n",
              "      <td>1.0</td>\n",
              "      <td>1</td>\n",
              "      <td>Spencer, Mrs. William Augustus (Marie Eugenie)</td>\n",
              "      <td>female</td>\n",
              "      <td>37.005848</td>\n",
              "      <td>1</td>\n",
              "      <td>0</td>\n",
              "      <td>PC 17569</td>\n",
              "      <td>146.5208</td>\n",
              "      <td>B78</td>\n",
              "      <td>C</td>\n",
              "      <td>Mrs</td>\n",
              "      <td>Spencer</td>\n",
              "      <td>30</td>\n",
              "    </tr>\n",
              "    <tr>\n",
              "      <th>32</th>\n",
              "      <td>33</td>\n",
              "      <td>1.0</td>\n",
              "      <td>3</td>\n",
              "      <td>Glynn, Miss. Mary Agatha</td>\n",
              "      <td>female</td>\n",
              "      <td>21.774238</td>\n",
              "      <td>0</td>\n",
              "      <td>0</td>\n",
              "      <td>335677</td>\n",
              "      <td>7.7500</td>\n",
              "      <td>NaN</td>\n",
              "      <td>Q</td>\n",
              "      <td>Miss</td>\n",
              "      <td>Glynn</td>\n",
              "      <td>31</td>\n",
              "    </tr>\n",
              "    <tr>\n",
              "      <th>33</th>\n",
              "      <td>34</td>\n",
              "      <td>0.0</td>\n",
              "      <td>2</td>\n",
              "      <td>Wheadon, Mr. Edward H</td>\n",
              "      <td>male</td>\n",
              "      <td>66.000000</td>\n",
              "      <td>0</td>\n",
              "      <td>0</td>\n",
              "      <td>C.A. 24579</td>\n",
              "      <td>10.5000</td>\n",
              "      <td>NaN</td>\n",
              "      <td>S</td>\n",
              "      <td>Mr</td>\n",
              "      <td>Wheadon</td>\n",
              "      <td>32</td>\n",
              "    </tr>\n",
              "    <tr>\n",
              "      <th>34</th>\n",
              "      <td>35</td>\n",
              "      <td>0.0</td>\n",
              "      <td>1</td>\n",
              "      <td>Meyer, Mr. Edgar Joseph</td>\n",
              "      <td>male</td>\n",
              "      <td>28.000000</td>\n",
              "      <td>1</td>\n",
              "      <td>0</td>\n",
              "      <td>PC 17604</td>\n",
              "      <td>82.1708</td>\n",
              "      <td>NaN</td>\n",
              "      <td>C</td>\n",
              "      <td>Mr</td>\n",
              "      <td>Meyer</td>\n",
              "      <td>33</td>\n",
              "    </tr>\n",
              "    <tr>\n",
              "      <th>35</th>\n",
              "      <td>36</td>\n",
              "      <td>0.0</td>\n",
              "      <td>1</td>\n",
              "      <td>Holverson, Mr. Alexander Oskar</td>\n",
              "      <td>male</td>\n",
              "      <td>42.000000</td>\n",
              "      <td>1</td>\n",
              "      <td>0</td>\n",
              "      <td>113789</td>\n",
              "      <td>52.0000</td>\n",
              "      <td>NaN</td>\n",
              "      <td>S</td>\n",
              "      <td>Mr</td>\n",
              "      <td>Holverson</td>\n",
              "      <td>34</td>\n",
              "    </tr>\n",
              "    <tr>\n",
              "      <th>36</th>\n",
              "      <td>37</td>\n",
              "      <td>1.0</td>\n",
              "      <td>3</td>\n",
              "      <td>Mamee, Mr. Hanna</td>\n",
              "      <td>male</td>\n",
              "      <td>32.252151</td>\n",
              "      <td>0</td>\n",
              "      <td>0</td>\n",
              "      <td>2677</td>\n",
              "      <td>7.2292</td>\n",
              "      <td>NaN</td>\n",
              "      <td>C</td>\n",
              "      <td>Mr</td>\n",
              "      <td>Mamee</td>\n",
              "      <td>35</td>\n",
              "    </tr>\n",
              "    <tr>\n",
              "      <th>37</th>\n",
              "      <td>38</td>\n",
              "      <td>0.0</td>\n",
              "      <td>3</td>\n",
              "      <td>Cann, Mr. Ernest Charles</td>\n",
              "      <td>male</td>\n",
              "      <td>21.000000</td>\n",
              "      <td>0</td>\n",
              "      <td>0</td>\n",
              "      <td>A./5. 2152</td>\n",
              "      <td>8.0500</td>\n",
              "      <td>NaN</td>\n",
              "      <td>S</td>\n",
              "      <td>Mr</td>\n",
              "      <td>Cann</td>\n",
              "      <td>36</td>\n",
              "    </tr>\n",
              "    <tr>\n",
              "      <th>38</th>\n",
              "      <td>39</td>\n",
              "      <td>0.0</td>\n",
              "      <td>3</td>\n",
              "      <td>Vander Planke, Miss. Augusta Maria</td>\n",
              "      <td>female</td>\n",
              "      <td>18.000000</td>\n",
              "      <td>2</td>\n",
              "      <td>0</td>\n",
              "      <td>345764</td>\n",
              "      <td>18.0000</td>\n",
              "      <td>NaN</td>\n",
              "      <td>S</td>\n",
              "      <td>Miss</td>\n",
              "      <td>Vander</td>\n",
              "      <td>18</td>\n",
              "    </tr>\n",
              "    <tr>\n",
              "      <th>39</th>\n",
              "      <td>40</td>\n",
              "      <td>1.0</td>\n",
              "      <td>3</td>\n",
              "      <td>Nicola-Yarred, Miss. Jamila</td>\n",
              "      <td>female</td>\n",
              "      <td>14.000000</td>\n",
              "      <td>1</td>\n",
              "      <td>0</td>\n",
              "      <td>2651</td>\n",
              "      <td>11.2417</td>\n",
              "      <td>NaN</td>\n",
              "      <td>C</td>\n",
              "      <td>Miss</td>\n",
              "      <td>Nicola</td>\n",
              "      <td>37</td>\n",
              "    </tr>\n",
              "    <tr>\n",
              "      <th>40</th>\n",
              "      <td>41</td>\n",
              "      <td>0.0</td>\n",
              "      <td>3</td>\n",
              "      <td>Ahlin, Mrs. Johan (Johanna Persdotter Larsson)</td>\n",
              "      <td>female</td>\n",
              "      <td>40.000000</td>\n",
              "      <td>1</td>\n",
              "      <td>0</td>\n",
              "      <td>7546</td>\n",
              "      <td>9.4750</td>\n",
              "      <td>NaN</td>\n",
              "      <td>S</td>\n",
              "      <td>Mrs</td>\n",
              "      <td>Ahlin</td>\n",
              "      <td>38</td>\n",
              "    </tr>\n",
              "    <tr>\n",
              "      <th>41</th>\n",
              "      <td>42</td>\n",
              "      <td>0.0</td>\n",
              "      <td>2</td>\n",
              "      <td>Turpin, Mrs. William John Robert (Dorothy Ann ...</td>\n",
              "      <td>female</td>\n",
              "      <td>27.000000</td>\n",
              "      <td>1</td>\n",
              "      <td>0</td>\n",
              "      <td>11668</td>\n",
              "      <td>21.0000</td>\n",
              "      <td>NaN</td>\n",
              "      <td>S</td>\n",
              "      <td>Mrs</td>\n",
              "      <td>Turpin</td>\n",
              "      <td>39</td>\n",
              "    </tr>\n",
              "    <tr>\n",
              "      <th>42</th>\n",
              "      <td>43</td>\n",
              "      <td>0.0</td>\n",
              "      <td>3</td>\n",
              "      <td>Kraeff, Mr. Theodor</td>\n",
              "      <td>male</td>\n",
              "      <td>32.252151</td>\n",
              "      <td>0</td>\n",
              "      <td>0</td>\n",
              "      <td>349253</td>\n",
              "      <td>7.8958</td>\n",
              "      <td>NaN</td>\n",
              "      <td>C</td>\n",
              "      <td>Mr</td>\n",
              "      <td>Kraeff</td>\n",
              "      <td>40</td>\n",
              "    </tr>\n",
              "    <tr>\n",
              "      <th>43</th>\n",
              "      <td>44</td>\n",
              "      <td>1.0</td>\n",
              "      <td>2</td>\n",
              "      <td>Laroche, Miss. Simonne Marie Anne Andree</td>\n",
              "      <td>female</td>\n",
              "      <td>3.000000</td>\n",
              "      <td>1</td>\n",
              "      <td>2</td>\n",
              "      <td>SC/Paris 2123</td>\n",
              "      <td>41.5792</td>\n",
              "      <td>NaN</td>\n",
              "      <td>C</td>\n",
              "      <td>Miss</td>\n",
              "      <td>Laroche</td>\n",
              "      <td>41</td>\n",
              "    </tr>\n",
              "    <tr>\n",
              "      <th>44</th>\n",
              "      <td>45</td>\n",
              "      <td>1.0</td>\n",
              "      <td>3</td>\n",
              "      <td>Devaney, Miss. Margaret Delia</td>\n",
              "      <td>female</td>\n",
              "      <td>19.000000</td>\n",
              "      <td>0</td>\n",
              "      <td>0</td>\n",
              "      <td>330958</td>\n",
              "      <td>7.8792</td>\n",
              "      <td>NaN</td>\n",
              "      <td>Q</td>\n",
              "      <td>Miss</td>\n",
              "      <td>Devaney</td>\n",
              "      <td>42</td>\n",
              "    </tr>\n",
              "    <tr>\n",
              "      <th>45</th>\n",
              "      <td>46</td>\n",
              "      <td>0.0</td>\n",
              "      <td>3</td>\n",
              "      <td>Rogers, Mr. William John</td>\n",
              "      <td>male</td>\n",
              "      <td>32.252151</td>\n",
              "      <td>0</td>\n",
              "      <td>0</td>\n",
              "      <td>S.C./A.4. 23567</td>\n",
              "      <td>8.0500</td>\n",
              "      <td>NaN</td>\n",
              "      <td>S</td>\n",
              "      <td>Mr</td>\n",
              "      <td>Rogers</td>\n",
              "      <td>43</td>\n",
              "    </tr>\n",
              "    <tr>\n",
              "      <th>46</th>\n",
              "      <td>47</td>\n",
              "      <td>0.0</td>\n",
              "      <td>3</td>\n",
              "      <td>Lennon, Mr. Denis</td>\n",
              "      <td>male</td>\n",
              "      <td>32.252151</td>\n",
              "      <td>1</td>\n",
              "      <td>0</td>\n",
              "      <td>370371</td>\n",
              "      <td>15.5000</td>\n",
              "      <td>NaN</td>\n",
              "      <td>Q</td>\n",
              "      <td>Mr</td>\n",
              "      <td>Lennon</td>\n",
              "      <td>44</td>\n",
              "    </tr>\n",
              "    <tr>\n",
              "      <th>47</th>\n",
              "      <td>48</td>\n",
              "      <td>1.0</td>\n",
              "      <td>3</td>\n",
              "      <td>O'Driscoll, Miss. Bridget</td>\n",
              "      <td>female</td>\n",
              "      <td>21.774238</td>\n",
              "      <td>0</td>\n",
              "      <td>0</td>\n",
              "      <td>14311</td>\n",
              "      <td>7.7500</td>\n",
              "      <td>NaN</td>\n",
              "      <td>Q</td>\n",
              "      <td>Miss</td>\n",
              "      <td>O</td>\n",
              "      <td>27</td>\n",
              "    </tr>\n",
              "    <tr>\n",
              "      <th>48</th>\n",
              "      <td>49</td>\n",
              "      <td>0.0</td>\n",
              "      <td>3</td>\n",
              "      <td>Samaan, Mr. Youssef</td>\n",
              "      <td>male</td>\n",
              "      <td>32.252151</td>\n",
              "      <td>2</td>\n",
              "      <td>0</td>\n",
              "      <td>2662</td>\n",
              "      <td>21.6792</td>\n",
              "      <td>NaN</td>\n",
              "      <td>C</td>\n",
              "      <td>Mr</td>\n",
              "      <td>Samaan</td>\n",
              "      <td>45</td>\n",
              "    </tr>\n",
              "    <tr>\n",
              "      <th>49</th>\n",
              "      <td>50</td>\n",
              "      <td>0.0</td>\n",
              "      <td>3</td>\n",
              "      <td>Arnold-Franchi, Mrs. Josef (Josefine Franchi)</td>\n",
              "      <td>female</td>\n",
              "      <td>18.000000</td>\n",
              "      <td>1</td>\n",
              "      <td>0</td>\n",
              "      <td>349237</td>\n",
              "      <td>17.8000</td>\n",
              "      <td>NaN</td>\n",
              "      <td>S</td>\n",
              "      <td>Mrs</td>\n",
              "      <td>Arnold</td>\n",
              "      <td>46</td>\n",
              "    </tr>\n",
              "  </tbody>\n",
              "</table>\n",
              "</div>"
            ],
            "text/plain": [
              "    PassengerId  Survived  Pclass  ... Initial   LastName  NumName\n",
              "31           32       1.0       1  ...     Mrs    Spencer       30\n",
              "32           33       1.0       3  ...    Miss      Glynn       31\n",
              "33           34       0.0       2  ...      Mr    Wheadon       32\n",
              "34           35       0.0       1  ...      Mr      Meyer       33\n",
              "35           36       0.0       1  ...      Mr  Holverson       34\n",
              "36           37       1.0       3  ...      Mr      Mamee       35\n",
              "37           38       0.0       3  ...      Mr       Cann       36\n",
              "38           39       0.0       3  ...    Miss     Vander       18\n",
              "39           40       1.0       3  ...    Miss     Nicola       37\n",
              "40           41       0.0       3  ...     Mrs      Ahlin       38\n",
              "41           42       0.0       2  ...     Mrs     Turpin       39\n",
              "42           43       0.0       3  ...      Mr     Kraeff       40\n",
              "43           44       1.0       2  ...    Miss    Laroche       41\n",
              "44           45       1.0       3  ...    Miss    Devaney       42\n",
              "45           46       0.0       3  ...      Mr     Rogers       43\n",
              "46           47       0.0       3  ...      Mr     Lennon       44\n",
              "47           48       1.0       3  ...    Miss          O       27\n",
              "48           49       0.0       3  ...      Mr     Samaan       45\n",
              "49           50       0.0       3  ...     Mrs     Arnold       46\n",
              "\n",
              "[19 rows x 15 columns]"
            ]
          },
          "metadata": {
            "tags": []
          },
          "execution_count": 54
        }
      ]
    },
    {
      "cell_type": "code",
      "metadata": {
        "_uuid": "2ed5b220-554d-4c22-bcc6-8ab64126f9ae",
        "_cell_guid": "31cb3428-1bb6-464f-9683-65ccbe606bbd",
        "trusted": true,
        "id": "ylIAei14e5Mb",
        "colab_type": "code",
        "colab": {}
      },
      "source": [
        "temp['Initial'].replace(['Capt', 'Col', 'Countess', 'Don', 'Dona' , 'Dr', 'Jonkheer', 'Lady', 'Major', 'Master',  'Miss'  ,'Mlle', 'Mme', 'Mr', 'Mrs', 'Ms', 'Rev', 'Sir'], ['Sacrificed', 'Respected', 'Nobles', 'Mr', 'Mrs', 'Respected', 'Mr', 'Nobles', 'Respected', 'Kids', 'Miss', 'Nobles', 'Nobles', 'Mr', 'Mrs', 'Nobles', 'Sacrificed', 'Nobles'],inplace=True)\n",
        "temp['Initial'].replace(['Kids', 'Miss', 'Mr', 'Mrs', 'Nobles', 'Respected', 'Sacrificed'], [4, 4, 2, 5, 6, 3, 1], inplace=True)"
      ],
      "execution_count": null,
      "outputs": []
    },
    {
      "cell_type": "code",
      "metadata": {
        "_uuid": "b827866e-bfe0-4943-b8a9-aa89daca8922",
        "_cell_guid": "58906b29-e863-4716-9d67-f0c366039011",
        "trusted": true,
        "id": "X5xvsFD6e5Md",
        "colab_type": "code",
        "colab": {}
      },
      "source": [
        "temp['Age_Range'] = pd.qcut(temp['Age'], 10)"
      ],
      "execution_count": null,
      "outputs": []
    },
    {
      "cell_type": "code",
      "metadata": {
        "_uuid": "52ebf6bc-6616-4091-ace9-f25e63870c5c",
        "_cell_guid": "b7d52e31-6ddc-46ec-a649-20b21e56d0b1",
        "trusted": true,
        "id": "aeJx2KSMe5Me",
        "colab_type": "code",
        "colab": {
          "base_uri": "https://localhost:8080/",
          "height": 230
        },
        "outputId": "481e1f58-f83f-4a3c-b200-78e5e3036af6"
      },
      "source": [
        "survpct('Age_Range')"
      ],
      "execution_count": null,
      "outputs": [
        {
          "output_type": "execute_result",
          "data": {
            "text/plain": [
              "Age_Range\n",
              "(0.169, 16.0]     0.548077\n",
              "(16.0, 21.0]      0.307692\n",
              "(21.0, 23.0]      0.487179\n",
              "(23.0, 26.0]      0.369863\n",
              "(26.0, 30.0]      0.400000\n",
              "(30.0, 32.252]    0.198718\n",
              "(32.252, 33.0]    0.411765\n",
              "(33.0, 39.0]      0.504762\n",
              "(39.0, 48.0]      0.357143\n",
              "(48.0, 80.0]      0.387500\n",
              "Name: Survived, dtype: float64"
            ]
          },
          "metadata": {
            "tags": []
          },
          "execution_count": 57
        }
      ]
    },
    {
      "cell_type": "code",
      "metadata": {
        "_uuid": "5b076db6-72d2-4f35-9d26-ad0a24490716",
        "_cell_guid": "c75bf35e-2e6b-4ae8-b170-2f5c28589553",
        "trusted": true,
        "id": "IWrpxb1Oe5Mg",
        "colab_type": "code",
        "colab": {}
      },
      "source": [
        "temp['Agroup'] = 0\n",
        "temp.loc[temp['Age'] < 1.0, 'Agroup'] = 1\n",
        "temp.loc[(temp['Age'] >=1.0) & (temp['Age'] <= 3.0), 'Agroup'] = 2\n",
        "temp.loc[(temp['Age'] > 3.0) & (temp['Age'] < 11.0), 'Agroup'] = 7\n",
        "temp.loc[(temp['Age'] >= 11.0) & (temp['Age'] < 15.0), 'Agroup'] = 13\n",
        "temp.loc[(temp['Age'] >= 15.0) & (temp['Age'] < 18.0), 'Agroup'] = 16\n",
        "temp.loc[(temp['Age'] >= 18.0) & (temp['Age'] <=  20.0), 'Agroup'] = 18\n",
        "temp.loc[(temp['Age'] > 20.0) & (temp['Age'] <= 22.0), 'Agroup'] = 21\n",
        "temp.loc[(temp['Age'] > 22.0) & (temp['Age'] <= 26.0), 'Agroup'] = 24\n",
        "temp.loc[(temp['Age'] > 26.0) & (temp['Age'] <= 30.0), 'Agroup'] = 28\n",
        "temp.loc[(temp['Age'] > 30.0) & (temp['Age'] <= 32.0), 'Agroup'] = 31\n",
        "temp.loc[(temp['Age'] > 32.0) & (temp['Age'] <= 34.0), 'Agroup'] = 33\n",
        "temp.loc[(temp['Age'] > 34.0) & (temp['Age'] <= 38.0), 'Agroup'] = 36\n",
        "temp.loc[(temp['Age'] > 38.0) & (temp['Age'] <= 52.0), 'Agroup'] = 45\n",
        "temp.loc[(temp['Age'] > 52.0) & (temp['Age'] <= 75.0), 'Agroup'] = 60\n",
        "temp.loc[temp['Age'] > 75.0, 'Agroup'] = 78"
      ],
      "execution_count": null,
      "outputs": []
    },
    {
      "cell_type": "code",
      "metadata": {
        "_uuid": "438c81fe-ea33-4ee1-bfcb-1bee60dc3e83",
        "_cell_guid": "a03e08b9-0ee4-43ee-872a-e63bc3f8365d",
        "trusted": true,
        "id": "ngVfc2uGe5Mh",
        "colab_type": "code",
        "colab": {
          "base_uri": "https://localhost:8080/",
          "height": 497
        },
        "outputId": "c0781ff5-72f9-41c6-a3b5-4d9e3439caa9"
      },
      "source": [
        "temp.head()"
      ],
      "execution_count": null,
      "outputs": [
        {
          "output_type": "execute_result",
          "data": {
            "text/html": [
              "<div>\n",
              "<style scoped>\n",
              "    .dataframe tbody tr th:only-of-type {\n",
              "        vertical-align: middle;\n",
              "    }\n",
              "\n",
              "    .dataframe tbody tr th {\n",
              "        vertical-align: top;\n",
              "    }\n",
              "\n",
              "    .dataframe thead th {\n",
              "        text-align: right;\n",
              "    }\n",
              "</style>\n",
              "<table border=\"1\" class=\"dataframe\">\n",
              "  <thead>\n",
              "    <tr style=\"text-align: right;\">\n",
              "      <th></th>\n",
              "      <th>PassengerId</th>\n",
              "      <th>Survived</th>\n",
              "      <th>Pclass</th>\n",
              "      <th>Name</th>\n",
              "      <th>Sex</th>\n",
              "      <th>Age</th>\n",
              "      <th>SibSp</th>\n",
              "      <th>Parch</th>\n",
              "      <th>Ticket</th>\n",
              "      <th>Fare</th>\n",
              "      <th>Cabin</th>\n",
              "      <th>Embarked</th>\n",
              "      <th>Initial</th>\n",
              "      <th>LastName</th>\n",
              "      <th>NumName</th>\n",
              "      <th>Age_Range</th>\n",
              "      <th>Agroup</th>\n",
              "    </tr>\n",
              "  </thead>\n",
              "  <tbody>\n",
              "    <tr>\n",
              "      <th>0</th>\n",
              "      <td>1</td>\n",
              "      <td>0.0</td>\n",
              "      <td>3</td>\n",
              "      <td>Braund, Mr. Owen Harris</td>\n",
              "      <td>male</td>\n",
              "      <td>22.0</td>\n",
              "      <td>1</td>\n",
              "      <td>0</td>\n",
              "      <td>A/5 21171</td>\n",
              "      <td>7.2500</td>\n",
              "      <td>NaN</td>\n",
              "      <td>S</td>\n",
              "      <td>2</td>\n",
              "      <td>Braund</td>\n",
              "      <td>0</td>\n",
              "      <td>(21.0, 23.0]</td>\n",
              "      <td>21</td>\n",
              "    </tr>\n",
              "    <tr>\n",
              "      <th>1</th>\n",
              "      <td>2</td>\n",
              "      <td>1.0</td>\n",
              "      <td>1</td>\n",
              "      <td>Cumings, Mrs. John Bradley (Florence Briggs Th...</td>\n",
              "      <td>female</td>\n",
              "      <td>38.0</td>\n",
              "      <td>1</td>\n",
              "      <td>0</td>\n",
              "      <td>PC 17599</td>\n",
              "      <td>71.2833</td>\n",
              "      <td>C85</td>\n",
              "      <td>C</td>\n",
              "      <td>5</td>\n",
              "      <td>Cumings</td>\n",
              "      <td>1</td>\n",
              "      <td>(33.0, 39.0]</td>\n",
              "      <td>36</td>\n",
              "    </tr>\n",
              "    <tr>\n",
              "      <th>2</th>\n",
              "      <td>3</td>\n",
              "      <td>1.0</td>\n",
              "      <td>3</td>\n",
              "      <td>Heikkinen, Miss. Laina</td>\n",
              "      <td>female</td>\n",
              "      <td>26.0</td>\n",
              "      <td>0</td>\n",
              "      <td>0</td>\n",
              "      <td>STON/O2. 3101282</td>\n",
              "      <td>7.9250</td>\n",
              "      <td>NaN</td>\n",
              "      <td>S</td>\n",
              "      <td>4</td>\n",
              "      <td>Heikkinen</td>\n",
              "      <td>2</td>\n",
              "      <td>(23.0, 26.0]</td>\n",
              "      <td>24</td>\n",
              "    </tr>\n",
              "    <tr>\n",
              "      <th>3</th>\n",
              "      <td>4</td>\n",
              "      <td>1.0</td>\n",
              "      <td>1</td>\n",
              "      <td>Futrelle, Mrs. Jacques Heath (Lily May Peel)</td>\n",
              "      <td>female</td>\n",
              "      <td>35.0</td>\n",
              "      <td>1</td>\n",
              "      <td>0</td>\n",
              "      <td>113803</td>\n",
              "      <td>53.1000</td>\n",
              "      <td>C123</td>\n",
              "      <td>S</td>\n",
              "      <td>5</td>\n",
              "      <td>Futrelle</td>\n",
              "      <td>3</td>\n",
              "      <td>(33.0, 39.0]</td>\n",
              "      <td>36</td>\n",
              "    </tr>\n",
              "    <tr>\n",
              "      <th>4</th>\n",
              "      <td>5</td>\n",
              "      <td>0.0</td>\n",
              "      <td>3</td>\n",
              "      <td>Allen, Mr. William Henry</td>\n",
              "      <td>male</td>\n",
              "      <td>35.0</td>\n",
              "      <td>0</td>\n",
              "      <td>0</td>\n",
              "      <td>373450</td>\n",
              "      <td>8.0500</td>\n",
              "      <td>NaN</td>\n",
              "      <td>S</td>\n",
              "      <td>2</td>\n",
              "      <td>Allen</td>\n",
              "      <td>4</td>\n",
              "      <td>(33.0, 39.0]</td>\n",
              "      <td>36</td>\n",
              "    </tr>\n",
              "  </tbody>\n",
              "</table>\n",
              "</div>"
            ],
            "text/plain": [
              "   PassengerId  Survived  Pclass  ... NumName     Age_Range  Agroup\n",
              "0            1       0.0       3  ...       0  (21.0, 23.0]      21\n",
              "1            2       1.0       1  ...       1  (33.0, 39.0]      36\n",
              "2            3       1.0       3  ...       2  (23.0, 26.0]      24\n",
              "3            4       1.0       1  ...       3  (33.0, 39.0]      36\n",
              "4            5       0.0       3  ...       4  (33.0, 39.0]      36\n",
              "\n",
              "[5 rows x 17 columns]"
            ]
          },
          "metadata": {
            "tags": []
          },
          "execution_count": 60
        }
      ]
    },
    {
      "cell_type": "markdown",
      "metadata": {
        "_uuid": "e74cb51e-36a1-4b6f-8fe2-3e18a6549f2b",
        "_cell_guid": "5f1e6a24-3e1c-411e-a942-069c30f02377",
        "trusted": true,
        "id": "oMm86GK_e5Mi",
        "colab_type": "text"
      },
      "source": [
        "* Age는 그룹화 시키면 좋으나 학습을 위해서 그냥 놓아두고, 그룹화 연습은 Fare로 하겠습니다."
      ]
    },
    {
      "cell_type": "markdown",
      "metadata": {
        "_uuid": "bc2615b8-1a8b-473d-b678-44764e8ec883",
        "_cell_guid": "2470540a-fd24-4436-9926-a9bf88ccfc6c",
        "trusted": true,
        "id": "uvs8FedDe5Mj",
        "colab_type": "text"
      },
      "source": [
        "* 위를 보고 sex를 남,녀, 1세 이하 Baby로 나누겠습니다. 1,2,3번을 주지오"
      ]
    },
    {
      "cell_type": "code",
      "metadata": {
        "_uuid": "c2ce8ccc-5ce2-4df3-8ded-f87a185b5835",
        "_cell_guid": "b64ba88c-7966-4bfe-b18d-c3af0fece14f",
        "trusted": true,
        "id": "umkoq1Nme5Mj",
        "colab_type": "code",
        "colab": {}
      },
      "source": [
        "temp.loc[(temp['Sex'] == 'male'), 'Sex'] = 1\n",
        "temp.loc[(temp['Sex'] == 'female'), 'Sex'] = 2\n",
        "temp.loc[(temp['Age'] < 1), 'Sex'] = 3"
      ],
      "execution_count": null,
      "outputs": []
    },
    {
      "cell_type": "code",
      "metadata": {
        "_uuid": "b8e68001-363c-4e8f-94f5-497384114bd5",
        "_cell_guid": "b254444e-4d21-40a0-bcf2-85e7512502ce",
        "trusted": true,
        "id": "vvSDXxyce5Mk",
        "colab_type": "code",
        "colab": {
          "base_uri": "https://localhost:8080/",
          "height": 106
        },
        "outputId": "ad18db8f-cc0d-4e5a-ee4e-df7dc0523f0a"
      },
      "source": [
        "survpct('Sex')"
      ],
      "execution_count": null,
      "outputs": [
        {
          "output_type": "execute_result",
          "data": {
            "text/plain": [
              "Sex\n",
              "1    0.181818\n",
              "2    0.740385\n",
              "3    1.000000\n",
              "Name: Survived, dtype: float64"
            ]
          },
          "metadata": {
            "tags": []
          },
          "execution_count": 62
        }
      ]
    },
    {
      "cell_type": "markdown",
      "metadata": {
        "_uuid": "fc261012-1216-4db4-a2ab-b6d9c97b7c71",
        "_cell_guid": "2d231138-b2dd-4558-aaaa-edc5a6372693",
        "trusted": true,
        "id": "qilTwvsFe5Ml",
        "colab_type": "text"
      },
      "source": [
        "#### Family or Alone?\n",
        "* \"SibSp\" + \"Parch\" 분석\n",
        " \n",
        "* SibSp - 이 항목은 탑승자가 혼자인지 또는 가족과 함께 있는지를 나타냅니다.\n",
        "* *Sibling = 형제, 자매, 의붓 형제, 이복 누이\n",
        " \n",
        "* Spouse = 남편, 아내\n",
        " \n",
        "* Parch는 부모와 함께 탔는지를 봅니다.\n",
        " \n",
        "* 이 그룹 둘을 'Alone\"그룹과 \"Family'그룹으로 나눕니다."
      ]
    },
    {
      "cell_type": "code",
      "metadata": {
        "_uuid": "ff935eef-8613-47f2-b5cb-c6911c10872a",
        "_cell_guid": "bb86b124-b9c2-461d-863c-884d10cb6b3a",
        "trusted": true,
        "id": "1ixk6xFJe5Ml",
        "colab_type": "code",
        "colab": {}
      },
      "source": [
        "temp.loc[(temp['SibSp'] == 0) & (temp['Parch'] == 0), 'Alone'] = 1"
      ],
      "execution_count": null,
      "outputs": []
    },
    {
      "cell_type": "code",
      "metadata": {
        "_uuid": "8b3054a9-3a16-4a53-b602-b899c5344310",
        "_cell_guid": "877c4f03-0c25-4a94-a49c-5142594e18e6",
        "trusted": true,
        "id": "9ILf5SBpe5Mm",
        "colab_type": "code",
        "colab": {}
      },
      "source": [
        "temp['Family'] = temp['Parch'] + temp['SibSp'] + 1"
      ],
      "execution_count": null,
      "outputs": []
    },
    {
      "cell_type": "code",
      "metadata": {
        "_uuid": "c1504a08-b9bc-4798-9adf-88161affe77a",
        "_cell_guid": "7d34c69c-cf60-49e9-a705-095e328f97d0",
        "trusted": true,
        "id": "ZeVwj8Q5e5Mn",
        "colab_type": "code",
        "colab": {
          "base_uri": "https://localhost:8080/",
          "height": 497
        },
        "outputId": "a488da11-dbbe-4360-a439-1a870a36297f"
      },
      "source": [
        "temp.head(n=5)"
      ],
      "execution_count": null,
      "outputs": [
        {
          "output_type": "execute_result",
          "data": {
            "text/html": [
              "<div>\n",
              "<style scoped>\n",
              "    .dataframe tbody tr th:only-of-type {\n",
              "        vertical-align: middle;\n",
              "    }\n",
              "\n",
              "    .dataframe tbody tr th {\n",
              "        vertical-align: top;\n",
              "    }\n",
              "\n",
              "    .dataframe thead th {\n",
              "        text-align: right;\n",
              "    }\n",
              "</style>\n",
              "<table border=\"1\" class=\"dataframe\">\n",
              "  <thead>\n",
              "    <tr style=\"text-align: right;\">\n",
              "      <th></th>\n",
              "      <th>PassengerId</th>\n",
              "      <th>Survived</th>\n",
              "      <th>Pclass</th>\n",
              "      <th>Name</th>\n",
              "      <th>Sex</th>\n",
              "      <th>Age</th>\n",
              "      <th>SibSp</th>\n",
              "      <th>Parch</th>\n",
              "      <th>Ticket</th>\n",
              "      <th>Fare</th>\n",
              "      <th>Cabin</th>\n",
              "      <th>Embarked</th>\n",
              "      <th>Initial</th>\n",
              "      <th>LastName</th>\n",
              "      <th>NumName</th>\n",
              "      <th>Age_Range</th>\n",
              "      <th>Agroup</th>\n",
              "      <th>Alone</th>\n",
              "      <th>Family</th>\n",
              "    </tr>\n",
              "  </thead>\n",
              "  <tbody>\n",
              "    <tr>\n",
              "      <th>0</th>\n",
              "      <td>1</td>\n",
              "      <td>0.0</td>\n",
              "      <td>3</td>\n",
              "      <td>Braund, Mr. Owen Harris</td>\n",
              "      <td>1</td>\n",
              "      <td>22.0</td>\n",
              "      <td>1</td>\n",
              "      <td>0</td>\n",
              "      <td>A/5 21171</td>\n",
              "      <td>7.2500</td>\n",
              "      <td>NaN</td>\n",
              "      <td>S</td>\n",
              "      <td>2</td>\n",
              "      <td>Braund</td>\n",
              "      <td>0</td>\n",
              "      <td>(21.0, 23.0]</td>\n",
              "      <td>21</td>\n",
              "      <td>NaN</td>\n",
              "      <td>2</td>\n",
              "    </tr>\n",
              "    <tr>\n",
              "      <th>1</th>\n",
              "      <td>2</td>\n",
              "      <td>1.0</td>\n",
              "      <td>1</td>\n",
              "      <td>Cumings, Mrs. John Bradley (Florence Briggs Th...</td>\n",
              "      <td>2</td>\n",
              "      <td>38.0</td>\n",
              "      <td>1</td>\n",
              "      <td>0</td>\n",
              "      <td>PC 17599</td>\n",
              "      <td>71.2833</td>\n",
              "      <td>C85</td>\n",
              "      <td>C</td>\n",
              "      <td>5</td>\n",
              "      <td>Cumings</td>\n",
              "      <td>1</td>\n",
              "      <td>(33.0, 39.0]</td>\n",
              "      <td>36</td>\n",
              "      <td>NaN</td>\n",
              "      <td>2</td>\n",
              "    </tr>\n",
              "    <tr>\n",
              "      <th>2</th>\n",
              "      <td>3</td>\n",
              "      <td>1.0</td>\n",
              "      <td>3</td>\n",
              "      <td>Heikkinen, Miss. Laina</td>\n",
              "      <td>2</td>\n",
              "      <td>26.0</td>\n",
              "      <td>0</td>\n",
              "      <td>0</td>\n",
              "      <td>STON/O2. 3101282</td>\n",
              "      <td>7.9250</td>\n",
              "      <td>NaN</td>\n",
              "      <td>S</td>\n",
              "      <td>4</td>\n",
              "      <td>Heikkinen</td>\n",
              "      <td>2</td>\n",
              "      <td>(23.0, 26.0]</td>\n",
              "      <td>24</td>\n",
              "      <td>1.0</td>\n",
              "      <td>1</td>\n",
              "    </tr>\n",
              "    <tr>\n",
              "      <th>3</th>\n",
              "      <td>4</td>\n",
              "      <td>1.0</td>\n",
              "      <td>1</td>\n",
              "      <td>Futrelle, Mrs. Jacques Heath (Lily May Peel)</td>\n",
              "      <td>2</td>\n",
              "      <td>35.0</td>\n",
              "      <td>1</td>\n",
              "      <td>0</td>\n",
              "      <td>113803</td>\n",
              "      <td>53.1000</td>\n",
              "      <td>C123</td>\n",
              "      <td>S</td>\n",
              "      <td>5</td>\n",
              "      <td>Futrelle</td>\n",
              "      <td>3</td>\n",
              "      <td>(33.0, 39.0]</td>\n",
              "      <td>36</td>\n",
              "      <td>NaN</td>\n",
              "      <td>2</td>\n",
              "    </tr>\n",
              "    <tr>\n",
              "      <th>4</th>\n",
              "      <td>5</td>\n",
              "      <td>0.0</td>\n",
              "      <td>3</td>\n",
              "      <td>Allen, Mr. William Henry</td>\n",
              "      <td>1</td>\n",
              "      <td>35.0</td>\n",
              "      <td>0</td>\n",
              "      <td>0</td>\n",
              "      <td>373450</td>\n",
              "      <td>8.0500</td>\n",
              "      <td>NaN</td>\n",
              "      <td>S</td>\n",
              "      <td>2</td>\n",
              "      <td>Allen</td>\n",
              "      <td>4</td>\n",
              "      <td>(33.0, 39.0]</td>\n",
              "      <td>36</td>\n",
              "      <td>1.0</td>\n",
              "      <td>1</td>\n",
              "    </tr>\n",
              "  </tbody>\n",
              "</table>\n",
              "</div>"
            ],
            "text/plain": [
              "   PassengerId  Survived  Pclass  ... Agroup Alone  Family\n",
              "0            1       0.0       3  ...     21   NaN       2\n",
              "1            2       1.0       1  ...     36   NaN       2\n",
              "2            3       1.0       3  ...     24   1.0       1\n",
              "3            4       1.0       1  ...     36   NaN       2\n",
              "4            5       0.0       3  ...     36   1.0       1\n",
              "\n",
              "[5 rows x 19 columns]"
            ]
          },
          "metadata": {
            "tags": []
          },
          "execution_count": 66
        }
      ]
    },
    {
      "cell_type": "code",
      "metadata": {
        "_uuid": "8246a524-eaea-43ee-88a9-7c6a166b5c6c",
        "_cell_guid": "833f64b6-7c9f-4ec5-8e3d-408035e6fd8c",
        "trusted": true,
        "id": "yb0gSaG_e5Mp",
        "colab_type": "code",
        "colab": {
          "base_uri": "https://localhost:8080/",
          "height": 212
        },
        "outputId": "3d754d77-ffce-4d03-e3a4-951ef3c719c5"
      },
      "source": [
        "survpct('Family')"
      ],
      "execution_count": null,
      "outputs": [
        {
          "output_type": "execute_result",
          "data": {
            "text/plain": [
              "Family\n",
              "1     0.303538\n",
              "2     0.552795\n",
              "3     0.578431\n",
              "4     0.724138\n",
              "5     0.200000\n",
              "6     0.136364\n",
              "7     0.333333\n",
              "8     0.000000\n",
              "11    0.000000\n",
              "Name: Survived, dtype: float64"
            ]
          },
          "metadata": {
            "tags": []
          },
          "execution_count": 67
        }
      ]
    },
    {
      "cell_type": "code",
      "metadata": {
        "_uuid": "5c4ba566-9d9a-4122-b7ff-d99ea2dcd1e1",
        "_cell_guid": "9cd6dc91-0a63-44b4-a51e-ff8591ba24d3",
        "trusted": true,
        "id": "GuBaGD05e5Mt",
        "colab_type": "code",
        "colab": {
          "base_uri": "https://localhost:8080/",
          "height": 123
        },
        "outputId": "aaa542fa-35e1-4f37-9748-1d651a48489b"
      },
      "source": [
        "temp.Ticket.head()"
      ],
      "execution_count": null,
      "outputs": [
        {
          "output_type": "execute_result",
          "data": {
            "text/plain": [
              "0           A/5 21171\n",
              "1            PC 17599\n",
              "2    STON/O2. 3101282\n",
              "3              113803\n",
              "4              373450\n",
              "Name: Ticket, dtype: object"
            ]
          },
          "metadata": {
            "tags": []
          },
          "execution_count": 70
        }
      ]
    },
    {
      "cell_type": "markdown",
      "metadata": {
        "_uuid": "eca75170-1327-41a3-9041-f493e69ac8c1",
        "_cell_guid": "c189f4d5-6d75-4f88-ab82-6e3de2d195cd",
        "trusted": true,
        "id": "LaQ8RHq1e5My",
        "colab_type": "text"
      },
      "source": [
        "* 티켓에서 영문있는 것과 숫자만 있는 것을 따봅니다."
      ]
    },
    {
      "cell_type": "code",
      "metadata": {
        "_uuid": "28b7b708-22ba-410b-8f6d-bf00a70904b7",
        "_cell_guid": "987531b3-64ac-4d08-a9df-938f76509eb6",
        "trusted": true,
        "id": "pwr9h-Lae5My",
        "colab_type": "code",
        "colab": {
          "base_uri": "https://localhost:8080/",
          "height": 497
        },
        "outputId": "71282214-f5ec-440e-e960-048d678ea7bd"
      },
      "source": [
        "temp['Initick'] = temp.Ticket.str.extract('^([A-Za-z0-9]+)')\n",
        "temp = temp.reset_index(drop=True)  \n",
        "# 복사한 항목들을 사용하다보면 'ValueError: cannot reindex from a duplicate axis` 요런 에러가 나오는 경우가 많은데 이런 것은 요 코드로 리셋을 한 번 해주면 됩니다.\n",
        "temp.head()"
      ],
      "execution_count": null,
      "outputs": [
        {
          "output_type": "execute_result",
          "data": {
            "text/html": [
              "<div>\n",
              "<style scoped>\n",
              "    .dataframe tbody tr th:only-of-type {\n",
              "        vertical-align: middle;\n",
              "    }\n",
              "\n",
              "    .dataframe tbody tr th {\n",
              "        vertical-align: top;\n",
              "    }\n",
              "\n",
              "    .dataframe thead th {\n",
              "        text-align: right;\n",
              "    }\n",
              "</style>\n",
              "<table border=\"1\" class=\"dataframe\">\n",
              "  <thead>\n",
              "    <tr style=\"text-align: right;\">\n",
              "      <th></th>\n",
              "      <th>PassengerId</th>\n",
              "      <th>Survived</th>\n",
              "      <th>Pclass</th>\n",
              "      <th>Name</th>\n",
              "      <th>Sex</th>\n",
              "      <th>Age</th>\n",
              "      <th>SibSp</th>\n",
              "      <th>Parch</th>\n",
              "      <th>Ticket</th>\n",
              "      <th>Fare</th>\n",
              "      <th>Cabin</th>\n",
              "      <th>Embarked</th>\n",
              "      <th>Initial</th>\n",
              "      <th>LastName</th>\n",
              "      <th>NumName</th>\n",
              "      <th>Age_Range</th>\n",
              "      <th>Agroup</th>\n",
              "      <th>Alone</th>\n",
              "      <th>Family</th>\n",
              "      <th>Initick</th>\n",
              "    </tr>\n",
              "  </thead>\n",
              "  <tbody>\n",
              "    <tr>\n",
              "      <th>0</th>\n",
              "      <td>1</td>\n",
              "      <td>0.0</td>\n",
              "      <td>3</td>\n",
              "      <td>Braund, Mr. Owen Harris</td>\n",
              "      <td>1</td>\n",
              "      <td>22.0</td>\n",
              "      <td>1</td>\n",
              "      <td>0</td>\n",
              "      <td>A/5 21171</td>\n",
              "      <td>7.2500</td>\n",
              "      <td>NaN</td>\n",
              "      <td>S</td>\n",
              "      <td>2</td>\n",
              "      <td>Braund</td>\n",
              "      <td>0</td>\n",
              "      <td>(21.0, 23.0]</td>\n",
              "      <td>21</td>\n",
              "      <td>NaN</td>\n",
              "      <td>2</td>\n",
              "      <td>A</td>\n",
              "    </tr>\n",
              "    <tr>\n",
              "      <th>1</th>\n",
              "      <td>2</td>\n",
              "      <td>1.0</td>\n",
              "      <td>1</td>\n",
              "      <td>Cumings, Mrs. John Bradley (Florence Briggs Th...</td>\n",
              "      <td>2</td>\n",
              "      <td>38.0</td>\n",
              "      <td>1</td>\n",
              "      <td>0</td>\n",
              "      <td>PC 17599</td>\n",
              "      <td>71.2833</td>\n",
              "      <td>C85</td>\n",
              "      <td>C</td>\n",
              "      <td>5</td>\n",
              "      <td>Cumings</td>\n",
              "      <td>1</td>\n",
              "      <td>(33.0, 39.0]</td>\n",
              "      <td>36</td>\n",
              "      <td>NaN</td>\n",
              "      <td>2</td>\n",
              "      <td>PC</td>\n",
              "    </tr>\n",
              "    <tr>\n",
              "      <th>2</th>\n",
              "      <td>3</td>\n",
              "      <td>1.0</td>\n",
              "      <td>3</td>\n",
              "      <td>Heikkinen, Miss. Laina</td>\n",
              "      <td>2</td>\n",
              "      <td>26.0</td>\n",
              "      <td>0</td>\n",
              "      <td>0</td>\n",
              "      <td>STON/O2. 3101282</td>\n",
              "      <td>7.9250</td>\n",
              "      <td>NaN</td>\n",
              "      <td>S</td>\n",
              "      <td>4</td>\n",
              "      <td>Heikkinen</td>\n",
              "      <td>2</td>\n",
              "      <td>(23.0, 26.0]</td>\n",
              "      <td>24</td>\n",
              "      <td>1.0</td>\n",
              "      <td>1</td>\n",
              "      <td>STON</td>\n",
              "    </tr>\n",
              "    <tr>\n",
              "      <th>3</th>\n",
              "      <td>4</td>\n",
              "      <td>1.0</td>\n",
              "      <td>1</td>\n",
              "      <td>Futrelle, Mrs. Jacques Heath (Lily May Peel)</td>\n",
              "      <td>2</td>\n",
              "      <td>35.0</td>\n",
              "      <td>1</td>\n",
              "      <td>0</td>\n",
              "      <td>113803</td>\n",
              "      <td>53.1000</td>\n",
              "      <td>C123</td>\n",
              "      <td>S</td>\n",
              "      <td>5</td>\n",
              "      <td>Futrelle</td>\n",
              "      <td>3</td>\n",
              "      <td>(33.0, 39.0]</td>\n",
              "      <td>36</td>\n",
              "      <td>NaN</td>\n",
              "      <td>2</td>\n",
              "      <td>113803</td>\n",
              "    </tr>\n",
              "    <tr>\n",
              "      <th>4</th>\n",
              "      <td>5</td>\n",
              "      <td>0.0</td>\n",
              "      <td>3</td>\n",
              "      <td>Allen, Mr. William Henry</td>\n",
              "      <td>1</td>\n",
              "      <td>35.0</td>\n",
              "      <td>0</td>\n",
              "      <td>0</td>\n",
              "      <td>373450</td>\n",
              "      <td>8.0500</td>\n",
              "      <td>NaN</td>\n",
              "      <td>S</td>\n",
              "      <td>2</td>\n",
              "      <td>Allen</td>\n",
              "      <td>4</td>\n",
              "      <td>(33.0, 39.0]</td>\n",
              "      <td>36</td>\n",
              "      <td>1.0</td>\n",
              "      <td>1</td>\n",
              "      <td>373450</td>\n",
              "    </tr>\n",
              "  </tbody>\n",
              "</table>\n",
              "</div>"
            ],
            "text/plain": [
              "   PassengerId  Survived  Pclass  ... Alone Family  Initick\n",
              "0            1       0.0       3  ...   NaN      2        A\n",
              "1            2       1.0       1  ...   NaN      2       PC\n",
              "2            3       1.0       3  ...   1.0      1     STON\n",
              "3            4       1.0       1  ...   NaN      2   113803\n",
              "4            5       0.0       3  ...   1.0      1   373450\n",
              "\n",
              "[5 rows x 20 columns]"
            ]
          },
          "metadata": {
            "tags": []
          },
          "execution_count": 72
        }
      ]
    },
    {
      "cell_type": "code",
      "metadata": {
        "_uuid": "0283c6c8-8b8d-4888-8f29-6e5ed5191328",
        "_cell_guid": "705b27bc-a931-4a48-8d14-6c97f11ae486",
        "trusted": true,
        "id": "YN1QEcsIe5Mz",
        "colab_type": "code",
        "colab": {}
      },
      "source": [
        "temp['Initick'] = temp.Ticket.str.extract('^([A-Za-z]+)')"
      ],
      "execution_count": null,
      "outputs": []
    },
    {
      "cell_type": "code",
      "metadata": {
        "_uuid": "f76465d8-85dd-411e-aa46-0a8b2bdcf704",
        "_cell_guid": "e7cbfd9c-b14d-4f56-a9d8-6b0cf75a9fb2",
        "trusted": true,
        "id": "m7dhsWXRe5M1",
        "colab_type": "code",
        "colab": {}
      },
      "source": [
        "temp['NumTicket'] = temp['Initick'].factorize()[0]"
      ],
      "execution_count": null,
      "outputs": []
    },
    {
      "cell_type": "code",
      "metadata": {
        "_uuid": "aeb93e90-7cfb-4895-a7ce-daa5287578b3",
        "_cell_guid": "9730221b-95e4-4648-8aa1-15906c1626b0",
        "trusted": true,
        "id": "04Cb_R3Le5M2",
        "colab_type": "code",
        "colab": {
          "base_uri": "https://localhost:8080/",
          "height": 497
        },
        "outputId": "4aa3595d-ac96-4ecc-f535-6a86e795c4d4"
      },
      "source": [
        "temp.head(n=5)"
      ],
      "execution_count": null,
      "outputs": [
        {
          "output_type": "execute_result",
          "data": {
            "text/html": [
              "<div>\n",
              "<style scoped>\n",
              "    .dataframe tbody tr th:only-of-type {\n",
              "        vertical-align: middle;\n",
              "    }\n",
              "\n",
              "    .dataframe tbody tr th {\n",
              "        vertical-align: top;\n",
              "    }\n",
              "\n",
              "    .dataframe thead th {\n",
              "        text-align: right;\n",
              "    }\n",
              "</style>\n",
              "<table border=\"1\" class=\"dataframe\">\n",
              "  <thead>\n",
              "    <tr style=\"text-align: right;\">\n",
              "      <th></th>\n",
              "      <th>PassengerId</th>\n",
              "      <th>Survived</th>\n",
              "      <th>Pclass</th>\n",
              "      <th>Name</th>\n",
              "      <th>Sex</th>\n",
              "      <th>Age</th>\n",
              "      <th>SibSp</th>\n",
              "      <th>Parch</th>\n",
              "      <th>Ticket</th>\n",
              "      <th>Fare</th>\n",
              "      <th>Cabin</th>\n",
              "      <th>Embarked</th>\n",
              "      <th>Initial</th>\n",
              "      <th>LastName</th>\n",
              "      <th>NumName</th>\n",
              "      <th>Age_Range</th>\n",
              "      <th>Agroup</th>\n",
              "      <th>Alone</th>\n",
              "      <th>Family</th>\n",
              "      <th>Initick</th>\n",
              "      <th>NumTicket</th>\n",
              "    </tr>\n",
              "  </thead>\n",
              "  <tbody>\n",
              "    <tr>\n",
              "      <th>0</th>\n",
              "      <td>1</td>\n",
              "      <td>0.0</td>\n",
              "      <td>3</td>\n",
              "      <td>Braund, Mr. Owen Harris</td>\n",
              "      <td>1</td>\n",
              "      <td>22.0</td>\n",
              "      <td>1</td>\n",
              "      <td>0</td>\n",
              "      <td>A/5 21171</td>\n",
              "      <td>7.2500</td>\n",
              "      <td>NaN</td>\n",
              "      <td>S</td>\n",
              "      <td>2</td>\n",
              "      <td>Braund</td>\n",
              "      <td>0</td>\n",
              "      <td>(21.0, 23.0]</td>\n",
              "      <td>21</td>\n",
              "      <td>NaN</td>\n",
              "      <td>2</td>\n",
              "      <td>A</td>\n",
              "      <td>0</td>\n",
              "    </tr>\n",
              "    <tr>\n",
              "      <th>1</th>\n",
              "      <td>2</td>\n",
              "      <td>1.0</td>\n",
              "      <td>1</td>\n",
              "      <td>Cumings, Mrs. John Bradley (Florence Briggs Th...</td>\n",
              "      <td>2</td>\n",
              "      <td>38.0</td>\n",
              "      <td>1</td>\n",
              "      <td>0</td>\n",
              "      <td>PC 17599</td>\n",
              "      <td>71.2833</td>\n",
              "      <td>C85</td>\n",
              "      <td>C</td>\n",
              "      <td>5</td>\n",
              "      <td>Cumings</td>\n",
              "      <td>1</td>\n",
              "      <td>(33.0, 39.0]</td>\n",
              "      <td>36</td>\n",
              "      <td>NaN</td>\n",
              "      <td>2</td>\n",
              "      <td>PC</td>\n",
              "      <td>1</td>\n",
              "    </tr>\n",
              "    <tr>\n",
              "      <th>2</th>\n",
              "      <td>3</td>\n",
              "      <td>1.0</td>\n",
              "      <td>3</td>\n",
              "      <td>Heikkinen, Miss. Laina</td>\n",
              "      <td>2</td>\n",
              "      <td>26.0</td>\n",
              "      <td>0</td>\n",
              "      <td>0</td>\n",
              "      <td>STON/O2. 3101282</td>\n",
              "      <td>7.9250</td>\n",
              "      <td>NaN</td>\n",
              "      <td>S</td>\n",
              "      <td>4</td>\n",
              "      <td>Heikkinen</td>\n",
              "      <td>2</td>\n",
              "      <td>(23.0, 26.0]</td>\n",
              "      <td>24</td>\n",
              "      <td>1.0</td>\n",
              "      <td>1</td>\n",
              "      <td>STON</td>\n",
              "      <td>2</td>\n",
              "    </tr>\n",
              "    <tr>\n",
              "      <th>3</th>\n",
              "      <td>4</td>\n",
              "      <td>1.0</td>\n",
              "      <td>1</td>\n",
              "      <td>Futrelle, Mrs. Jacques Heath (Lily May Peel)</td>\n",
              "      <td>2</td>\n",
              "      <td>35.0</td>\n",
              "      <td>1</td>\n",
              "      <td>0</td>\n",
              "      <td>113803</td>\n",
              "      <td>53.1000</td>\n",
              "      <td>C123</td>\n",
              "      <td>S</td>\n",
              "      <td>5</td>\n",
              "      <td>Futrelle</td>\n",
              "      <td>3</td>\n",
              "      <td>(33.0, 39.0]</td>\n",
              "      <td>36</td>\n",
              "      <td>NaN</td>\n",
              "      <td>2</td>\n",
              "      <td>NaN</td>\n",
              "      <td>-1</td>\n",
              "    </tr>\n",
              "    <tr>\n",
              "      <th>4</th>\n",
              "      <td>5</td>\n",
              "      <td>0.0</td>\n",
              "      <td>3</td>\n",
              "      <td>Allen, Mr. William Henry</td>\n",
              "      <td>1</td>\n",
              "      <td>35.0</td>\n",
              "      <td>0</td>\n",
              "      <td>0</td>\n",
              "      <td>373450</td>\n",
              "      <td>8.0500</td>\n",
              "      <td>NaN</td>\n",
              "      <td>S</td>\n",
              "      <td>2</td>\n",
              "      <td>Allen</td>\n",
              "      <td>4</td>\n",
              "      <td>(33.0, 39.0]</td>\n",
              "      <td>36</td>\n",
              "      <td>1.0</td>\n",
              "      <td>1</td>\n",
              "      <td>NaN</td>\n",
              "      <td>-1</td>\n",
              "    </tr>\n",
              "  </tbody>\n",
              "</table>\n",
              "</div>"
            ],
            "text/plain": [
              "   PassengerId  Survived  Pclass  ... Family Initick  NumTicket\n",
              "0            1       0.0       3  ...      2       A          0\n",
              "1            2       1.0       1  ...      2      PC          1\n",
              "2            3       1.0       3  ...      1    STON          2\n",
              "3            4       1.0       1  ...      2     NaN         -1\n",
              "4            5       0.0       3  ...      1     NaN         -1\n",
              "\n",
              "[5 rows x 21 columns]"
            ]
          },
          "metadata": {
            "tags": []
          },
          "execution_count": 76
        }
      ]
    },
    {
      "cell_type": "markdown",
      "metadata": {
        "_uuid": "ec185cd2-4f49-426e-808b-340fb278ae8e",
        "_cell_guid": "3460fa6c-1cf0-40d1-a052-2413b0b1544a",
        "trusted": true,
        "id": "TraOr2IFe5M4",
        "colab_type": "text"
      },
      "source": [
        "### \"Fare\" 분석"
      ]
    },
    {
      "cell_type": "code",
      "metadata": {
        "_uuid": "3de56e45-9b97-434d-b6ea-e57c82ec542d",
        "_cell_guid": "90ebbc04-47b2-4ea5-9321-18cdfd13691d",
        "trusted": true,
        "id": "CobfNH_Ne5M5",
        "colab_type": "code",
        "colab": {
          "base_uri": "https://localhost:8080/",
          "height": 70
        },
        "outputId": "56665255-1e85-4f0f-d897-94ae677f2d4e"
      },
      "source": [
        "print('Highest Fare was:', temp['Fare'].max())\n",
        "print('Lowest Fare was:', temp['Fare'].min())\n",
        "print('Average Fare was:', temp['Fare'].mean())"
      ],
      "execution_count": null,
      "outputs": [
        {
          "output_type": "stream",
          "text": [
            "Highest Fare was: 512.3292\n",
            "Lowest Fare was: 0.0\n",
            "Average Fare was: 33.2954792813456\n"
          ],
          "name": "stdout"
        }
      ]
    },
    {
      "cell_type": "code",
      "metadata": {
        "_uuid": "608e0c28-12b8-4f2b-96e6-c644fef3a708",
        "_cell_guid": "672eb7e9-0aa1-4020-95c2-81a2005134f8",
        "trusted": true,
        "id": "ygIqER1pe5M6",
        "colab_type": "code",
        "colab": {
          "base_uri": "https://localhost:8080/",
          "height": 339
        },
        "outputId": "673641df-e8f8-43fb-b654-4d60b37b72dd"
      },
      "source": [
        "f,ax=plt.subplots(1, 3, figsize=(20, 6))\n",
        "sns.distplot(train[train['Pclass'] == 1].Fare,ax=ax[0])\n",
        "ax[0].set_title('Fares in Pclass 1')\n",
        "sns.distplot(train[train['Pclass'] == 2].Fare,ax=ax[1])\n",
        "ax[1].set_title('Fares in Pclass 2')\n",
        "sns.distplot(train[train['Pclass'] == 3].Fare,ax=ax[2])\n",
        "ax[2].set_title('Fares in Pclass 3')\n",
        "plt.show()"
      ],
      "execution_count": null,
      "outputs": [
        {
          "output_type": "display_data",
          "data": {
            "image/png": "[encoded data removed]",
            "text/plain": [
              "<Figure size 1440x432 with 3 Axes>"
            ]
          },
          "metadata": {
            "tags": [],
            "needs_background": "light"
          }
        }
      ]
    },
    {
      "cell_type": "markdown",
      "metadata": {
        "_uuid": "9e341c0b-4b21-4fc0-8cbb-e93a5a0c90ca",
        "_cell_guid": "31509983-22a4-4dcc-80e7-52bc4b8acbd5",
        "trusted": true,
        "id": "tff_0dIWe5M8",
        "colab_type": "text"
      },
      "source": [
        "* Pclass1의 승객 요금에는 큰 분포가있는 것으로 보이며 불연속 값으로 변환 할 수 있습니다.\n",
        "* Fare를 그룹으로 나누어 놓겠습니다.\n",
        "* qcut을 활용하면 원하는 조각으로 데이터를 나누어 줍니다.\n",
        "* cut와 qcut의 차이"
      ]
    },
    {
      "cell_type": "code",
      "metadata": {
        "_uuid": "70e7561c-e567-43e8-a991-3c9ebe02be68",
        "_cell_guid": "2bd363ed-781a-4f78-a787-a3e6f69a0f73",
        "trusted": true,
        "id": "W_9UdWuze5M8",
        "colab_type": "code",
        "colab": {}
      },
      "source": [
        "def groupmean(a,b):\n",
        "    return temp.groupby([a])[b].mean().to_frame().style.background_gradient(cmap='summer_r')\n",
        "temp['Fare_Range'] = pd.qcut(train['Fare'], 10)\n",
        "groupmean('Fare_Range', 'Fare')"
      ],
      "execution_count": null,
      "outputs": []
    },
    {
      "cell_type": "markdown",
      "metadata": {
        "_uuid": "ed52cd71-a5e8-4b66-b876-97891eb0c90c",
        "_cell_guid": "844c0486-90c6-4c05-bd03-c409d0f60b7a",
        "trusted": true,
        "id": "zyQp6lX7e5M-",
        "colab_type": "text"
      },
      "source": [
        "* Fare를 그룹화 시킵니다. Fgroup이라고 이름 짓겠습니다."
      ]
    },
    {
      "cell_type": "markdown",
      "metadata": {
        "_uuid": "0d3aba7e-6ec3-4246-96d1-9b0fdd1c997d",
        "_cell_guid": "1adba71f-faae-48eb-a44e-f538d28ab29c",
        "trusted": true,
        "id": "Lh5C0WgMe5M-",
        "colab_type": "text"
      },
      "source": [
        "0 and below -> 0\n",
        "\n",
        "7.125 and below-> 5.0\n",
        "\n",
        "7.9 and below-> 7.5\n",
        "\n",
        "8.03 or less-> 8.0\n",
        "\n",
        "Less than 10.5-> 9.5\n",
        "\n",
        "Less than 23-> 16.0\n",
        "\n",
        "27.8 and below-> 25.5\n",
        "\n",
        "51 and below-> 38\n",
        "\n",
        "73.5 and below-> 62\n",
        "\n",
        "Over 73.5-> 100"
      ]
    },
    {
      "cell_type": "code",
      "metadata": {
        "_uuid": "38bb04f8-d5d8-4122-932f-8ba3d59aa641",
        "_cell_guid": "2e048fef-9daf-4ee0-b143-86abc260c70d",
        "trusted": true,
        "id": "7DczOILIe5M-",
        "colab_type": "code",
        "colab": {
          "base_uri": "https://localhost:8080/",
          "height": 497
        },
        "outputId": "cb3901b6-63da-4a3a-b625-8fefd72b1e48"
      },
      "source": [
        "temp['Fgroup'] = 0\n",
        "\n",
        "temp.loc[temp['Fare'] <= 0,'Fgroup'] = 0\n",
        "temp.loc[(temp['Fare'] > 0) & (temp['Fare'] <= 7.125), 'Fgroup'] = 1\n",
        "temp.loc[(temp['Fare'] > 7.125) & (temp['Fare'] <= 7.9), 'Fgroup'] = 2\n",
        "temp.loc[(temp['Fare'] > 7.9) & (temp['Fare'] <= 8.03), 'Fgroup'] = 3\n",
        "temp.loc[(temp['Fare'] > 8.03) & (temp['Fare'] < 10.5), 'Fgroup'] = 4\n",
        "temp.loc[(temp['Fare'] >= 10.5) & (temp['Fare'] < 23.0), 'Fgroup'] = 5\n",
        "temp.loc[(temp['Fare'] >= 23.0) & (temp['Fare'] <= 27.8), 'Fgroup'] = 6\n",
        "temp.loc[(temp['Fare'] > 27.8) & (temp['Fare'] <= 51.0), 'Fgroup'] = 7\n",
        "temp.loc[(temp['Fare'] > 51.0) & (temp['Fare'] <= 73.5), 'Fgroup'] = 8\n",
        "temp.loc[temp['Fare'] > 73.5, 'Fgroup'] = 9"
      ],
      "execution_count": null,
      "outputs": [
        {
          "output_type": "execute_result",
          "data": {
            "text/html": [
              "<div>\n",
              "<style scoped>\n",
              "    .dataframe tbody tr th:only-of-type {\n",
              "        vertical-align: middle;\n",
              "    }\n",
              "\n",
              "    .dataframe tbody tr th {\n",
              "        vertical-align: top;\n",
              "    }\n",
              "\n",
              "    .dataframe thead th {\n",
              "        text-align: right;\n",
              "    }\n",
              "</style>\n",
              "<table border=\"1\" class=\"dataframe\">\n",
              "  <thead>\n",
              "    <tr style=\"text-align: right;\">\n",
              "      <th></th>\n",
              "      <th>PassengerId</th>\n",
              "      <th>Survived</th>\n",
              "      <th>Pclass</th>\n",
              "      <th>Name</th>\n",
              "      <th>Sex</th>\n",
              "      <th>Age</th>\n",
              "      <th>SibSp</th>\n",
              "      <th>Parch</th>\n",
              "      <th>Ticket</th>\n",
              "      <th>Fare</th>\n",
              "      <th>Cabin</th>\n",
              "      <th>Embarked</th>\n",
              "      <th>Initial</th>\n",
              "      <th>LastName</th>\n",
              "      <th>NumName</th>\n",
              "      <th>Age_Range</th>\n",
              "      <th>Agroup</th>\n",
              "      <th>Alone</th>\n",
              "      <th>Family</th>\n",
              "      <th>Initick</th>\n",
              "      <th>NumTicket</th>\n",
              "      <th>Fare_Range</th>\n",
              "      <th>Fgroup</th>\n",
              "    </tr>\n",
              "  </thead>\n",
              "  <tbody>\n",
              "    <tr>\n",
              "      <th>0</th>\n",
              "      <td>1</td>\n",
              "      <td>0.0</td>\n",
              "      <td>3</td>\n",
              "      <td>Braund, Mr. Owen Harris</td>\n",
              "      <td>1</td>\n",
              "      <td>22.0</td>\n",
              "      <td>1</td>\n",
              "      <td>0</td>\n",
              "      <td>A/5 21171</td>\n",
              "      <td>7.2500</td>\n",
              "      <td>NaN</td>\n",
              "      <td>S</td>\n",
              "      <td>2</td>\n",
              "      <td>Braund</td>\n",
              "      <td>0</td>\n",
              "      <td>(21.0, 23.0]</td>\n",
              "      <td>21</td>\n",
              "      <td>NaN</td>\n",
              "      <td>2</td>\n",
              "      <td>A</td>\n",
              "      <td>0</td>\n",
              "      <td>(-0.001, 7.55]</td>\n",
              "      <td>2</td>\n",
              "    </tr>\n",
              "    <tr>\n",
              "      <th>1</th>\n",
              "      <td>2</td>\n",
              "      <td>1.0</td>\n",
              "      <td>1</td>\n",
              "      <td>Cumings, Mrs. John Bradley (Florence Briggs Th...</td>\n",
              "      <td>2</td>\n",
              "      <td>38.0</td>\n",
              "      <td>1</td>\n",
              "      <td>0</td>\n",
              "      <td>PC 17599</td>\n",
              "      <td>71.2833</td>\n",
              "      <td>C85</td>\n",
              "      <td>C</td>\n",
              "      <td>5</td>\n",
              "      <td>Cumings</td>\n",
              "      <td>1</td>\n",
              "      <td>(33.0, 39.0]</td>\n",
              "      <td>36</td>\n",
              "      <td>NaN</td>\n",
              "      <td>2</td>\n",
              "      <td>PC</td>\n",
              "      <td>1</td>\n",
              "      <td>(39.688, 77.958]</td>\n",
              "      <td>8</td>\n",
              "    </tr>\n",
              "    <tr>\n",
              "      <th>2</th>\n",
              "      <td>3</td>\n",
              "      <td>1.0</td>\n",
              "      <td>3</td>\n",
              "      <td>Heikkinen, Miss. Laina</td>\n",
              "      <td>2</td>\n",
              "      <td>26.0</td>\n",
              "      <td>0</td>\n",
              "      <td>0</td>\n",
              "      <td>STON/O2. 3101282</td>\n",
              "      <td>7.9250</td>\n",
              "      <td>NaN</td>\n",
              "      <td>S</td>\n",
              "      <td>4</td>\n",
              "      <td>Heikkinen</td>\n",
              "      <td>2</td>\n",
              "      <td>(23.0, 26.0]</td>\n",
              "      <td>24</td>\n",
              "      <td>1.0</td>\n",
              "      <td>1</td>\n",
              "      <td>STON</td>\n",
              "      <td>2</td>\n",
              "      <td>(7.854, 8.05]</td>\n",
              "      <td>3</td>\n",
              "    </tr>\n",
              "    <tr>\n",
              "      <th>3</th>\n",
              "      <td>4</td>\n",
              "      <td>1.0</td>\n",
              "      <td>1</td>\n",
              "      <td>Futrelle, Mrs. Jacques Heath (Lily May Peel)</td>\n",
              "      <td>2</td>\n",
              "      <td>35.0</td>\n",
              "      <td>1</td>\n",
              "      <td>0</td>\n",
              "      <td>113803</td>\n",
              "      <td>53.1000</td>\n",
              "      <td>C123</td>\n",
              "      <td>S</td>\n",
              "      <td>5</td>\n",
              "      <td>Futrelle</td>\n",
              "      <td>3</td>\n",
              "      <td>(33.0, 39.0]</td>\n",
              "      <td>36</td>\n",
              "      <td>NaN</td>\n",
              "      <td>2</td>\n",
              "      <td>NaN</td>\n",
              "      <td>-1</td>\n",
              "      <td>(39.688, 77.958]</td>\n",
              "      <td>8</td>\n",
              "    </tr>\n",
              "    <tr>\n",
              "      <th>4</th>\n",
              "      <td>5</td>\n",
              "      <td>0.0</td>\n",
              "      <td>3</td>\n",
              "      <td>Allen, Mr. William Henry</td>\n",
              "      <td>1</td>\n",
              "      <td>35.0</td>\n",
              "      <td>0</td>\n",
              "      <td>0</td>\n",
              "      <td>373450</td>\n",
              "      <td>8.0500</td>\n",
              "      <td>NaN</td>\n",
              "      <td>S</td>\n",
              "      <td>2</td>\n",
              "      <td>Allen</td>\n",
              "      <td>4</td>\n",
              "      <td>(33.0, 39.0]</td>\n",
              "      <td>36</td>\n",
              "      <td>1.0</td>\n",
              "      <td>1</td>\n",
              "      <td>NaN</td>\n",
              "      <td>-1</td>\n",
              "      <td>(7.854, 8.05]</td>\n",
              "      <td>4</td>\n",
              "    </tr>\n",
              "  </tbody>\n",
              "</table>\n",
              "</div>"
            ],
            "text/plain": [
              "   PassengerId  Survived  Pclass  ... NumTicket        Fare_Range  Fgroup\n",
              "0            1       0.0       3  ...         0    (-0.001, 7.55]       2\n",
              "1            2       1.0       1  ...         1  (39.688, 77.958]       8\n",
              "2            3       1.0       3  ...         2     (7.854, 8.05]       3\n",
              "3            4       1.0       1  ...        -1  (39.688, 77.958]       8\n",
              "4            5       0.0       3  ...        -1     (7.854, 8.05]       4\n",
              "\n",
              "[5 rows x 23 columns]"
            ]
          },
          "metadata": {
            "tags": []
          },
          "execution_count": 81
        }
      ]
    },
    {
      "cell_type": "markdown",
      "metadata": {
        "_uuid": "93c0408c-da95-4f60-b3c0-87f11165871b",
        "_cell_guid": "f4cd9f73-f4a1-4ef7-b27f-0dab64b77173",
        "trusted": true,
        "id": "R9OnNCske5M_",
        "colab_type": "text"
      },
      "source": [
        "### \"Cabin\" 분석\n",
        "* cabin 의 위치에 따라 달라지는 것이 있는지 보겠습니다."
      ]
    },
    {
      "cell_type": "code",
      "metadata": {
        "_uuid": "31f59458-29a4-4d28-a3bd-64066db9cef6",
        "_cell_guid": "7876f062-6171-4f99-9b8c-6620729fe9ae",
        "trusted": true,
        "id": "_2TSWYJIe5M_",
        "colab_type": "code",
        "colab": {
          "base_uri": "https://localhost:8080/",
          "height": 212
        },
        "outputId": "d585d35e-6fdf-467b-dba9-c421f433331e"
      },
      "source": [
        "temp.Cabin.value_counts().head(10)"
      ],
      "execution_count": null,
      "outputs": [
        {
          "output_type": "execute_result",
          "data": {
            "text/plain": [
              "C23 C25 C27        6\n",
              "B57 B59 B63 B66    5\n",
              "G6                 5\n",
              "C78                4\n",
              "C22 C26            4\n",
              "B96 B98            4\n",
              "F2                 4\n",
              "D                  4\n",
              "F4                 4\n",
              "F33                4\n",
              "Name: Cabin, dtype: int64"
            ]
          },
          "metadata": {
            "tags": []
          },
          "execution_count": 82
        }
      ]
    },
    {
      "cell_type": "code",
      "metadata": {
        "_uuid": "568d22f5-b17d-45f8-9ded-a91e699b6250",
        "_cell_guid": "bd1f9174-dd14-4ff9-b6a7-5b7f9af43cbb",
        "trusted": true,
        "id": "x_UQdd_me5NA",
        "colab_type": "code",
        "colab": {
          "base_uri": "https://localhost:8080/",
          "height": 35
        },
        "outputId": "f803075f-145c-4433-b006-ea9b75f7f814"
      },
      "source": [
        "temp.Cabin.isnull().sum()"
      ],
      "execution_count": null,
      "outputs": [
        {
          "output_type": "execute_result",
          "data": {
            "text/plain": [
              "1014"
            ]
          },
          "metadata": {
            "tags": []
          },
          "execution_count": 83
        }
      ]
    },
    {
      "cell_type": "markdown",
      "metadata": {
        "_uuid": "ae4d26e2-9eaf-4d1d-93f6-664ed6b88ce8",
        "_cell_guid": "3b7bd0f7-3aa0-482e-8dd1-145c179bf451",
        "trusted": true,
        "id": "4MPDN6m1e5NB",
        "colab_type": "text"
      },
      "source": [
        "* 빈칸이 무척 많습니다.\n",
        "* Cabin에 비어 있는 것이 많아 이를 다른 분류로 일단 잡고 기존 것은 이니셜로 분류합니다.\n",
        "* 빈 것은 X로 구분하려는데 이 또한 1,2,3 Pclass와 연동될 것 같으니 비어있고 1등급은 X, 2등급은 Y, 3등급은 Z로 하겠습니다."
      ]
    },
    {
      "cell_type": "code",
      "metadata": {
        "_uuid": "65839b79-4882-4e78-8517-04aef7161b50",
        "_cell_guid": "3c060915-887c-453d-b94d-32bd4dc02b2d",
        "trusted": true,
        "id": "lt6MtCGQe5NB",
        "colab_type": "code",
        "colab": {
          "base_uri": "https://localhost:8080/",
          "height": 497
        },
        "outputId": "299242e4-ead9-4017-cf08-6d55c6706cb2"
      },
      "source": [
        "temp['Inicab'] = 0\n",
        "temp['Inicab'] = temp['Cabin'].str.extract('^([A-Za-z]+)')\n",
        "temp.loc[((temp['Cabin'].isnull()) & (temp['Pclass'].values == 1)), 'Inicab'] = 'X'\n",
        "temp.loc[((temp['Cabin'].isnull()) & (temp['Pclass'].values == 2)), 'Inicab'] = 'Y'\n",
        "temp.loc[((temp['Cabin'].isnull()) & (temp['Pclass'].values == 3)), 'Inicab'] = 'Z'\n",
        "    \n",
        "temp.head()"
      ],
      "execution_count": null,
      "outputs": [
        {
          "output_type": "execute_result",
          "data": {
            "text/html": [
              "<div>\n",
              "<style scoped>\n",
              "    .dataframe tbody tr th:only-of-type {\n",
              "        vertical-align: middle;\n",
              "    }\n",
              "\n",
              "    .dataframe tbody tr th {\n",
              "        vertical-align: top;\n",
              "    }\n",
              "\n",
              "    .dataframe thead th {\n",
              "        text-align: right;\n",
              "    }\n",
              "</style>\n",
              "<table border=\"1\" class=\"dataframe\">\n",
              "  <thead>\n",
              "    <tr style=\"text-align: right;\">\n",
              "      <th></th>\n",
              "      <th>PassengerId</th>\n",
              "      <th>Survived</th>\n",
              "      <th>Pclass</th>\n",
              "      <th>Name</th>\n",
              "      <th>Sex</th>\n",
              "      <th>Age</th>\n",
              "      <th>SibSp</th>\n",
              "      <th>Parch</th>\n",
              "      <th>Ticket</th>\n",
              "      <th>Fare</th>\n",
              "      <th>Cabin</th>\n",
              "      <th>Embarked</th>\n",
              "      <th>Initial</th>\n",
              "      <th>LastName</th>\n",
              "      <th>NumName</th>\n",
              "      <th>Age_Range</th>\n",
              "      <th>Agroup</th>\n",
              "      <th>Alone</th>\n",
              "      <th>Family</th>\n",
              "      <th>Initick</th>\n",
              "      <th>NumTicket</th>\n",
              "      <th>Fare_Range</th>\n",
              "      <th>Fgroup</th>\n",
              "      <th>Inicab</th>\n",
              "    </tr>\n",
              "  </thead>\n",
              "  <tbody>\n",
              "    <tr>\n",
              "      <th>0</th>\n",
              "      <td>1</td>\n",
              "      <td>0.0</td>\n",
              "      <td>3</td>\n",
              "      <td>Braund, Mr. Owen Harris</td>\n",
              "      <td>1</td>\n",
              "      <td>22.0</td>\n",
              "      <td>1</td>\n",
              "      <td>0</td>\n",
              "      <td>A/5 21171</td>\n",
              "      <td>7.2500</td>\n",
              "      <td>NaN</td>\n",
              "      <td>S</td>\n",
              "      <td>2</td>\n",
              "      <td>Braund</td>\n",
              "      <td>0</td>\n",
              "      <td>(21.0, 23.0]</td>\n",
              "      <td>21</td>\n",
              "      <td>NaN</td>\n",
              "      <td>2</td>\n",
              "      <td>A</td>\n",
              "      <td>0</td>\n",
              "      <td>(-0.001, 7.55]</td>\n",
              "      <td>2</td>\n",
              "      <td>Z</td>\n",
              "    </tr>\n",
              "    <tr>\n",
              "      <th>1</th>\n",
              "      <td>2</td>\n",
              "      <td>1.0</td>\n",
              "      <td>1</td>\n",
              "      <td>Cumings, Mrs. John Bradley (Florence Briggs Th...</td>\n",
              "      <td>2</td>\n",
              "      <td>38.0</td>\n",
              "      <td>1</td>\n",
              "      <td>0</td>\n",
              "      <td>PC 17599</td>\n",
              "      <td>71.2833</td>\n",
              "      <td>C85</td>\n",
              "      <td>C</td>\n",
              "      <td>5</td>\n",
              "      <td>Cumings</td>\n",
              "      <td>1</td>\n",
              "      <td>(33.0, 39.0]</td>\n",
              "      <td>36</td>\n",
              "      <td>NaN</td>\n",
              "      <td>2</td>\n",
              "      <td>PC</td>\n",
              "      <td>1</td>\n",
              "      <td>(39.688, 77.958]</td>\n",
              "      <td>8</td>\n",
              "      <td>C</td>\n",
              "    </tr>\n",
              "    <tr>\n",
              "      <th>2</th>\n",
              "      <td>3</td>\n",
              "      <td>1.0</td>\n",
              "      <td>3</td>\n",
              "      <td>Heikkinen, Miss. Laina</td>\n",
              "      <td>2</td>\n",
              "      <td>26.0</td>\n",
              "      <td>0</td>\n",
              "      <td>0</td>\n",
              "      <td>STON/O2. 3101282</td>\n",
              "      <td>7.9250</td>\n",
              "      <td>NaN</td>\n",
              "      <td>S</td>\n",
              "      <td>4</td>\n",
              "      <td>Heikkinen</td>\n",
              "      <td>2</td>\n",
              "      <td>(23.0, 26.0]</td>\n",
              "      <td>24</td>\n",
              "      <td>1.0</td>\n",
              "      <td>1</td>\n",
              "      <td>STON</td>\n",
              "      <td>2</td>\n",
              "      <td>(7.854, 8.05]</td>\n",
              "      <td>3</td>\n",
              "      <td>Z</td>\n",
              "    </tr>\n",
              "    <tr>\n",
              "      <th>3</th>\n",
              "      <td>4</td>\n",
              "      <td>1.0</td>\n",
              "      <td>1</td>\n",
              "      <td>Futrelle, Mrs. Jacques Heath (Lily May Peel)</td>\n",
              "      <td>2</td>\n",
              "      <td>35.0</td>\n",
              "      <td>1</td>\n",
              "      <td>0</td>\n",
              "      <td>113803</td>\n",
              "      <td>53.1000</td>\n",
              "      <td>C123</td>\n",
              "      <td>S</td>\n",
              "      <td>5</td>\n",
              "      <td>Futrelle</td>\n",
              "      <td>3</td>\n",
              "      <td>(33.0, 39.0]</td>\n",
              "      <td>36</td>\n",
              "      <td>NaN</td>\n",
              "      <td>2</td>\n",
              "      <td>NaN</td>\n",
              "      <td>-1</td>\n",
              "      <td>(39.688, 77.958]</td>\n",
              "      <td>8</td>\n",
              "      <td>C</td>\n",
              "    </tr>\n",
              "    <tr>\n",
              "      <th>4</th>\n",
              "      <td>5</td>\n",
              "      <td>0.0</td>\n",
              "      <td>3</td>\n",
              "      <td>Allen, Mr. William Henry</td>\n",
              "      <td>1</td>\n",
              "      <td>35.0</td>\n",
              "      <td>0</td>\n",
              "      <td>0</td>\n",
              "      <td>373450</td>\n",
              "      <td>8.0500</td>\n",
              "      <td>NaN</td>\n",
              "      <td>S</td>\n",
              "      <td>2</td>\n",
              "      <td>Allen</td>\n",
              "      <td>4</td>\n",
              "      <td>(33.0, 39.0]</td>\n",
              "      <td>36</td>\n",
              "      <td>1.0</td>\n",
              "      <td>1</td>\n",
              "      <td>NaN</td>\n",
              "      <td>-1</td>\n",
              "      <td>(7.854, 8.05]</td>\n",
              "      <td>4</td>\n",
              "      <td>Z</td>\n",
              "    </tr>\n",
              "  </tbody>\n",
              "</table>\n",
              "</div>"
            ],
            "text/plain": [
              "   PassengerId  Survived  Pclass  ...        Fare_Range Fgroup  Inicab\n",
              "0            1       0.0       3  ...    (-0.001, 7.55]      2       Z\n",
              "1            2       1.0       1  ...  (39.688, 77.958]      8       C\n",
              "2            3       1.0       3  ...     (7.854, 8.05]      3       Z\n",
              "3            4       1.0       1  ...  (39.688, 77.958]      8       C\n",
              "4            5       0.0       3  ...     (7.854, 8.05]      4       Z\n",
              "\n",
              "[5 rows x 24 columns]"
            ]
          },
          "metadata": {
            "tags": []
          },
          "execution_count": 84
        }
      ]
    },
    {
      "cell_type": "code",
      "metadata": {
        "_uuid": "c0335f54-adc4-4658-9833-78cb4e3bc09a",
        "_cell_guid": "1fb288ae-a5eb-47e5-85bb-1805dc38c8e5",
        "trusted": true,
        "id": "QMZvFcKle5NC",
        "colab_type": "code",
        "colab": {
          "base_uri": "https://localhost:8080/",
          "height": 689
        },
        "outputId": "813b280e-d594-49b6-ca5f-63fd1cc06318"
      },
      "source": [
        "temp['Inicab'] = temp['Inicab'].factorize()[0]\n",
        "    \n",
        "temp[11:20]"
      ],
      "execution_count": null,
      "outputs": [
        {
          "output_type": "execute_result",
          "data": {
            "text/html": [
              "<div>\n",
              "<style scoped>\n",
              "    .dataframe tbody tr th:only-of-type {\n",
              "        vertical-align: middle;\n",
              "    }\n",
              "\n",
              "    .dataframe tbody tr th {\n",
              "        vertical-align: top;\n",
              "    }\n",
              "\n",
              "    .dataframe thead th {\n",
              "        text-align: right;\n",
              "    }\n",
              "</style>\n",
              "<table border=\"1\" class=\"dataframe\">\n",
              "  <thead>\n",
              "    <tr style=\"text-align: right;\">\n",
              "      <th></th>\n",
              "      <th>PassengerId</th>\n",
              "      <th>Survived</th>\n",
              "      <th>Pclass</th>\n",
              "      <th>Name</th>\n",
              "      <th>Sex</th>\n",
              "      <th>Age</th>\n",
              "      <th>SibSp</th>\n",
              "      <th>Parch</th>\n",
              "      <th>Ticket</th>\n",
              "      <th>Fare</th>\n",
              "      <th>Cabin</th>\n",
              "      <th>Embarked</th>\n",
              "      <th>Initial</th>\n",
              "      <th>LastName</th>\n",
              "      <th>NumName</th>\n",
              "      <th>Age_Range</th>\n",
              "      <th>Agroup</th>\n",
              "      <th>Alone</th>\n",
              "      <th>Family</th>\n",
              "      <th>Initick</th>\n",
              "      <th>NumTicket</th>\n",
              "      <th>Fare_Range</th>\n",
              "      <th>Fgroup</th>\n",
              "      <th>Inicab</th>\n",
              "    </tr>\n",
              "  </thead>\n",
              "  <tbody>\n",
              "    <tr>\n",
              "      <th>11</th>\n",
              "      <td>12</td>\n",
              "      <td>1.0</td>\n",
              "      <td>1</td>\n",
              "      <td>Bonnell, Miss. Elizabeth</td>\n",
              "      <td>2</td>\n",
              "      <td>58.000000</td>\n",
              "      <td>0</td>\n",
              "      <td>0</td>\n",
              "      <td>113783</td>\n",
              "      <td>26.5500</td>\n",
              "      <td>C103</td>\n",
              "      <td>S</td>\n",
              "      <td>4</td>\n",
              "      <td>Bonnell</td>\n",
              "      <td>11</td>\n",
              "      <td>(48.0, 80.0]</td>\n",
              "      <td>60</td>\n",
              "      <td>1.0</td>\n",
              "      <td>1</td>\n",
              "      <td>NaN</td>\n",
              "      <td>-1</td>\n",
              "      <td>(21.679, 27.0]</td>\n",
              "      <td>6</td>\n",
              "      <td>1</td>\n",
              "    </tr>\n",
              "    <tr>\n",
              "      <th>12</th>\n",
              "      <td>13</td>\n",
              "      <td>0.0</td>\n",
              "      <td>3</td>\n",
              "      <td>Saundercock, Mr. William Henry</td>\n",
              "      <td>1</td>\n",
              "      <td>20.000000</td>\n",
              "      <td>0</td>\n",
              "      <td>0</td>\n",
              "      <td>A/5. 2151</td>\n",
              "      <td>8.0500</td>\n",
              "      <td>NaN</td>\n",
              "      <td>S</td>\n",
              "      <td>2</td>\n",
              "      <td>Saundercock</td>\n",
              "      <td>12</td>\n",
              "      <td>(16.0, 21.0]</td>\n",
              "      <td>18</td>\n",
              "      <td>1.0</td>\n",
              "      <td>1</td>\n",
              "      <td>A</td>\n",
              "      <td>0</td>\n",
              "      <td>(7.854, 8.05]</td>\n",
              "      <td>4</td>\n",
              "      <td>0</td>\n",
              "    </tr>\n",
              "    <tr>\n",
              "      <th>13</th>\n",
              "      <td>14</td>\n",
              "      <td>0.0</td>\n",
              "      <td>3</td>\n",
              "      <td>Andersson, Mr. Anders Johan</td>\n",
              "      <td>1</td>\n",
              "      <td>39.000000</td>\n",
              "      <td>1</td>\n",
              "      <td>5</td>\n",
              "      <td>347082</td>\n",
              "      <td>31.2750</td>\n",
              "      <td>NaN</td>\n",
              "      <td>S</td>\n",
              "      <td>2</td>\n",
              "      <td>Andersson</td>\n",
              "      <td>13</td>\n",
              "      <td>(33.0, 39.0]</td>\n",
              "      <td>45</td>\n",
              "      <td>NaN</td>\n",
              "      <td>7</td>\n",
              "      <td>NaN</td>\n",
              "      <td>-1</td>\n",
              "      <td>(27.0, 39.688]</td>\n",
              "      <td>7</td>\n",
              "      <td>0</td>\n",
              "    </tr>\n",
              "    <tr>\n",
              "      <th>14</th>\n",
              "      <td>15</td>\n",
              "      <td>0.0</td>\n",
              "      <td>3</td>\n",
              "      <td>Vestrom, Miss. Hulda Amanda Adolfina</td>\n",
              "      <td>2</td>\n",
              "      <td>14.000000</td>\n",
              "      <td>0</td>\n",
              "      <td>0</td>\n",
              "      <td>350406</td>\n",
              "      <td>7.8542</td>\n",
              "      <td>NaN</td>\n",
              "      <td>S</td>\n",
              "      <td>4</td>\n",
              "      <td>Vestrom</td>\n",
              "      <td>14</td>\n",
              "      <td>(0.169, 16.0]</td>\n",
              "      <td>13</td>\n",
              "      <td>1.0</td>\n",
              "      <td>1</td>\n",
              "      <td>NaN</td>\n",
              "      <td>-1</td>\n",
              "      <td>(7.55, 7.854]</td>\n",
              "      <td>2</td>\n",
              "      <td>0</td>\n",
              "    </tr>\n",
              "    <tr>\n",
              "      <th>15</th>\n",
              "      <td>16</td>\n",
              "      <td>1.0</td>\n",
              "      <td>2</td>\n",
              "      <td>Hewlett, Mrs. (Mary D Kingcome)</td>\n",
              "      <td>2</td>\n",
              "      <td>55.000000</td>\n",
              "      <td>0</td>\n",
              "      <td>0</td>\n",
              "      <td>248706</td>\n",
              "      <td>16.0000</td>\n",
              "      <td>NaN</td>\n",
              "      <td>S</td>\n",
              "      <td>5</td>\n",
              "      <td>Hewlett</td>\n",
              "      <td>15</td>\n",
              "      <td>(48.0, 80.0]</td>\n",
              "      <td>60</td>\n",
              "      <td>1.0</td>\n",
              "      <td>1</td>\n",
              "      <td>NaN</td>\n",
              "      <td>-1</td>\n",
              "      <td>(14.454, 21.679]</td>\n",
              "      <td>5</td>\n",
              "      <td>3</td>\n",
              "    </tr>\n",
              "    <tr>\n",
              "      <th>16</th>\n",
              "      <td>17</td>\n",
              "      <td>0.0</td>\n",
              "      <td>3</td>\n",
              "      <td>Rice, Master. Eugene</td>\n",
              "      <td>1</td>\n",
              "      <td>2.000000</td>\n",
              "      <td>4</td>\n",
              "      <td>1</td>\n",
              "      <td>382652</td>\n",
              "      <td>29.1250</td>\n",
              "      <td>NaN</td>\n",
              "      <td>Q</td>\n",
              "      <td>4</td>\n",
              "      <td>Rice</td>\n",
              "      <td>16</td>\n",
              "      <td>(0.169, 16.0]</td>\n",
              "      <td>2</td>\n",
              "      <td>NaN</td>\n",
              "      <td>6</td>\n",
              "      <td>NaN</td>\n",
              "      <td>-1</td>\n",
              "      <td>(27.0, 39.688]</td>\n",
              "      <td>7</td>\n",
              "      <td>0</td>\n",
              "    </tr>\n",
              "    <tr>\n",
              "      <th>17</th>\n",
              "      <td>18</td>\n",
              "      <td>1.0</td>\n",
              "      <td>2</td>\n",
              "      <td>Williams, Mr. Charles Eugene</td>\n",
              "      <td>1</td>\n",
              "      <td>32.252151</td>\n",
              "      <td>0</td>\n",
              "      <td>0</td>\n",
              "      <td>244373</td>\n",
              "      <td>13.0000</td>\n",
              "      <td>NaN</td>\n",
              "      <td>S</td>\n",
              "      <td>2</td>\n",
              "      <td>Williams</td>\n",
              "      <td>17</td>\n",
              "      <td>(30.0, 32.252]</td>\n",
              "      <td>33</td>\n",
              "      <td>1.0</td>\n",
              "      <td>1</td>\n",
              "      <td>NaN</td>\n",
              "      <td>-1</td>\n",
              "      <td>(10.5, 14.454]</td>\n",
              "      <td>5</td>\n",
              "      <td>3</td>\n",
              "    </tr>\n",
              "    <tr>\n",
              "      <th>18</th>\n",
              "      <td>19</td>\n",
              "      <td>0.0</td>\n",
              "      <td>3</td>\n",
              "      <td>Vander Planke, Mrs. Julius (Emelia Maria Vande...</td>\n",
              "      <td>2</td>\n",
              "      <td>31.000000</td>\n",
              "      <td>1</td>\n",
              "      <td>0</td>\n",
              "      <td>345763</td>\n",
              "      <td>18.0000</td>\n",
              "      <td>NaN</td>\n",
              "      <td>S</td>\n",
              "      <td>5</td>\n",
              "      <td>Vander</td>\n",
              "      <td>18</td>\n",
              "      <td>(30.0, 32.252]</td>\n",
              "      <td>31</td>\n",
              "      <td>NaN</td>\n",
              "      <td>2</td>\n",
              "      <td>NaN</td>\n",
              "      <td>-1</td>\n",
              "      <td>(14.454, 21.679]</td>\n",
              "      <td>5</td>\n",
              "      <td>0</td>\n",
              "    </tr>\n",
              "    <tr>\n",
              "      <th>19</th>\n",
              "      <td>20</td>\n",
              "      <td>1.0</td>\n",
              "      <td>3</td>\n",
              "      <td>Masselmani, Mrs. Fatima</td>\n",
              "      <td>2</td>\n",
              "      <td>37.005848</td>\n",
              "      <td>0</td>\n",
              "      <td>0</td>\n",
              "      <td>2649</td>\n",
              "      <td>7.2250</td>\n",
              "      <td>NaN</td>\n",
              "      <td>C</td>\n",
              "      <td>5</td>\n",
              "      <td>Masselmani</td>\n",
              "      <td>19</td>\n",
              "      <td>(33.0, 39.0]</td>\n",
              "      <td>36</td>\n",
              "      <td>1.0</td>\n",
              "      <td>1</td>\n",
              "      <td>NaN</td>\n",
              "      <td>-1</td>\n",
              "      <td>(-0.001, 7.55]</td>\n",
              "      <td>2</td>\n",
              "      <td>0</td>\n",
              "    </tr>\n",
              "  </tbody>\n",
              "</table>\n",
              "</div>"
            ],
            "text/plain": [
              "    PassengerId  Survived  Pclass  ...        Fare_Range Fgroup  Inicab\n",
              "11           12       1.0       1  ...    (21.679, 27.0]      6       1\n",
              "12           13       0.0       3  ...     (7.854, 8.05]      4       0\n",
              "13           14       0.0       3  ...    (27.0, 39.688]      7       0\n",
              "14           15       0.0       3  ...     (7.55, 7.854]      2       0\n",
              "15           16       1.0       2  ...  (14.454, 21.679]      5       3\n",
              "16           17       0.0       3  ...    (27.0, 39.688]      7       0\n",
              "17           18       1.0       2  ...    (10.5, 14.454]      5       3\n",
              "18           19       0.0       3  ...  (14.454, 21.679]      5       0\n",
              "19           20       1.0       3  ...    (-0.001, 7.55]      2       0\n",
              "\n",
              "[9 rows x 24 columns]"
            ]
          },
          "metadata": {
            "tags": []
          },
          "execution_count": 85
        }
      ]
    },
    {
      "cell_type": "markdown",
      "metadata": {
        "_uuid": "fbbdc087-0b29-4d91-a10d-7a1bc62ca77a",
        "_cell_guid": "d6cd23f3-4cdc-49e9-96ff-bd3bf08ce8df",
        "trusted": true,
        "id": "DP5Q8cG4e5NE",
        "colab_type": "text"
      },
      "source": [
        "#### \"Embarked\" 분석"
      ]
    },
    {
      "cell_type": "markdown",
      "metadata": {
        "_uuid": "671bfd96-6f37-4274-88ad-f254384fa710",
        "_cell_guid": "e5f9105a-eb35-45a7-ad31-e95070e0453b",
        "trusted": true,
        "id": "LJA2oT0Se5NF",
        "colab_type": "text"
      },
      "source": [
        "* 승선 장소 별로 생존 확률"
      ]
    },
    {
      "cell_type": "code",
      "metadata": {
        "_uuid": "91fbe751-ec0e-46a4-b0d8-6e57ded51e26",
        "_cell_guid": "f9bbfcf8-c26d-4103-b0f0-a353ed447728",
        "trusted": true,
        "id": "SVdwhL_we5NG",
        "colab_type": "code",
        "colab": {
          "base_uri": "https://localhost:8080/",
          "height": 747
        },
        "outputId": "63427a00-2d6e-4a6a-d1cc-3bb82e56c61b"
      },
      "source": [
        "f,ax=plt.subplots(2,2,figsize=(20,15))\n",
        "sns.countplot('Embarked', data=temp, ax=ax[0,0])\n",
        "ax[0,0].set_title('No. Of Passengers Boarded')\n",
        "sns.countplot('Embarked', hue='Sex', data=temp, ax=ax[0,1])\n",
        "ax[0,1].set_title('Male-Female Split for Embarked')\n",
        "sns.countplot('Embarked', hue='Survived', data=temp, ax=ax[1,0])\n",
        "ax[1,0].set_title('Embarked vs Survived')\n",
        "sns.countplot('Embarked', hue='Pclass', data=temp, ax=ax[1,1])\n",
        "ax[1,1].set_title('Embarked vs Pclass')\n",
        "plt.subplots_adjust(wspace=0.2,hspace=0.5)\n",
        "plt.show()"
      ],
      "execution_count": null,
      "outputs": [
        {
          "output_type": "display_data",
          "data": {
            "image/png": "[encoded data removed]",
            "text/plain": [
              "<Figure size 1440x1080 with 4 Axes>"
            ]
          },
          "metadata": {
            "tags": [],
            "needs_background": "light"
          }
        }
      ]
    },
    {
      "cell_type": "markdown",
      "metadata": {
        "_uuid": "402fd5fa-f7e2-40c8-b7e0-be1a8d8badf3",
        "_cell_guid": "79e69f2b-fea4-4469-8b71-39f1a50465e2",
        "trusted": true,
        "id": "GGlxFnJce5NI",
        "colab_type": "text"
      },
      "source": [
        "1) 포트 C의 생존 가능성은 0.55 정도이며 S는 가장 낮습니다.S에서 탑승 최대. 대다수는 Pclass3\n",
        "\n",
        "2) C의 승객들은 많은 비율이 살아남았습니다. 그 이유는 Pclass1 및 Pclass2 승객이 많아서 일 것입니다\n",
        "\n",
        "3) Embark S는 대부분의 부자들이 탑승한 항구지만 생존 가능성은 낮습니다. Pclass3의 승객도 많았습니다.\n",
        "\n",
        "4) 포트 Q는 승객의 거의 95 %가 Pclass3\n",
        "\n",
        "* 빈칸이 두개 있는데 보겠습니다."
      ]
    },
    {
      "cell_type": "code",
      "metadata": {
        "_uuid": "66000cee-bbc2-4ae4-afc4-c458d4acb524",
        "_cell_guid": "54758510-f46f-43d2-9d86-7333898b2b78",
        "trusted": true,
        "id": "xQMf1uF-e5NI",
        "colab_type": "code",
        "colab": {
          "base_uri": "https://localhost:8080/",
          "height": 250
        },
        "outputId": "e6985fc9-ae74-47fa-fc3b-1359da32ad85"
      },
      "source": [
        "temp.loc[(temp.Embarked.isnull())]"
      ],
      "execution_count": null,
      "outputs": [
        {
          "output_type": "execute_result",
          "data": {
            "text/html": [
              "<div>\n",
              "<style scoped>\n",
              "    .dataframe tbody tr th:only-of-type {\n",
              "        vertical-align: middle;\n",
              "    }\n",
              "\n",
              "    .dataframe tbody tr th {\n",
              "        vertical-align: top;\n",
              "    }\n",
              "\n",
              "    .dataframe thead th {\n",
              "        text-align: right;\n",
              "    }\n",
              "</style>\n",
              "<table border=\"1\" class=\"dataframe\">\n",
              "  <thead>\n",
              "    <tr style=\"text-align: right;\">\n",
              "      <th></th>\n",
              "      <th>PassengerId</th>\n",
              "      <th>Survived</th>\n",
              "      <th>Pclass</th>\n",
              "      <th>Name</th>\n",
              "      <th>Sex</th>\n",
              "      <th>Age</th>\n",
              "      <th>SibSp</th>\n",
              "      <th>Parch</th>\n",
              "      <th>Ticket</th>\n",
              "      <th>Fare</th>\n",
              "      <th>Cabin</th>\n",
              "      <th>Embarked</th>\n",
              "      <th>Initial</th>\n",
              "      <th>LastName</th>\n",
              "      <th>NumName</th>\n",
              "      <th>Age_Range</th>\n",
              "      <th>Agroup</th>\n",
              "      <th>Alone</th>\n",
              "      <th>Family</th>\n",
              "      <th>Initick</th>\n",
              "      <th>NumTicket</th>\n",
              "      <th>Fare_Range</th>\n",
              "      <th>Fgroup</th>\n",
              "      <th>Inicab</th>\n",
              "    </tr>\n",
              "  </thead>\n",
              "  <tbody>\n",
              "    <tr>\n",
              "      <th>61</th>\n",
              "      <td>62</td>\n",
              "      <td>1.0</td>\n",
              "      <td>1</td>\n",
              "      <td>Icard, Miss. Amelie</td>\n",
              "      <td>2</td>\n",
              "      <td>38.0</td>\n",
              "      <td>0</td>\n",
              "      <td>0</td>\n",
              "      <td>113572</td>\n",
              "      <td>80.0</td>\n",
              "      <td>B28</td>\n",
              "      <td>NaN</td>\n",
              "      <td>4</td>\n",
              "      <td>Icard</td>\n",
              "      <td>58</td>\n",
              "      <td>(33.0, 39.0]</td>\n",
              "      <td>36</td>\n",
              "      <td>1.0</td>\n",
              "      <td>1</td>\n",
              "      <td>NaN</td>\n",
              "      <td>-1</td>\n",
              "      <td>(77.958, 512.329]</td>\n",
              "      <td>9</td>\n",
              "      <td>8</td>\n",
              "    </tr>\n",
              "    <tr>\n",
              "      <th>829</th>\n",
              "      <td>830</td>\n",
              "      <td>1.0</td>\n",
              "      <td>1</td>\n",
              "      <td>Stone, Mrs. George Nelson (Martha Evelyn)</td>\n",
              "      <td>2</td>\n",
              "      <td>62.0</td>\n",
              "      <td>0</td>\n",
              "      <td>0</td>\n",
              "      <td>113572</td>\n",
              "      <td>80.0</td>\n",
              "      <td>B28</td>\n",
              "      <td>NaN</td>\n",
              "      <td>5</td>\n",
              "      <td>Stone</td>\n",
              "      <td>616</td>\n",
              "      <td>(48.0, 80.0]</td>\n",
              "      <td>60</td>\n",
              "      <td>1.0</td>\n",
              "      <td>1</td>\n",
              "      <td>NaN</td>\n",
              "      <td>-1</td>\n",
              "      <td>(77.958, 512.329]</td>\n",
              "      <td>9</td>\n",
              "      <td>8</td>\n",
              "    </tr>\n",
              "  </tbody>\n",
              "</table>\n",
              "</div>"
            ],
            "text/plain": [
              "     PassengerId  Survived  Pclass  ...         Fare_Range Fgroup  Inicab\n",
              "61            62       1.0       1  ...  (77.958, 512.329]      9       8\n",
              "829          830       1.0       1  ...  (77.958, 512.329]      9       8\n",
              "\n",
              "[2 rows x 24 columns]"
            ]
          },
          "metadata": {
            "tags": []
          },
          "execution_count": 89
        }
      ]
    },
    {
      "cell_type": "markdown",
      "metadata": {
        "_uuid": "882be0d7-db74-41e5-ada5-fe5ac99fc8d2",
        "_cell_guid": "651291f9-c95e-4a02-ac27-423578036a21",
        "trusted": true,
        "id": "f17BfLNce5NJ",
        "colab_type": "text"
      },
      "source": [
        "* 두 사람의 티켓 번호가 같습니다.\n",
        "* 혹시 같은 티켓 번호가 있는 다른 사람이 있는지 봅니다."
      ]
    },
    {
      "cell_type": "code",
      "metadata": {
        "_uuid": "5ecf71db-c7d2-488a-8974-14aa98cdc15e",
        "_cell_guid": "1a232cec-4a47-414a-9330-9a07d3800c5a",
        "trusted": true,
        "id": "a4etrF_le5NJ",
        "colab_type": "code",
        "colab": {
          "base_uri": "https://localhost:8080/",
          "height": 250
        },
        "outputId": "26930aa4-53b6-4ddb-ab78-df93714a325e"
      },
      "source": [
        "temp.loc[(temp.Ticket == '113572')]"
      ],
      "execution_count": null,
      "outputs": [
        {
          "output_type": "execute_result",
          "data": {
            "text/html": [
              "<div>\n",
              "<style scoped>\n",
              "    .dataframe tbody tr th:only-of-type {\n",
              "        vertical-align: middle;\n",
              "    }\n",
              "\n",
              "    .dataframe tbody tr th {\n",
              "        vertical-align: top;\n",
              "    }\n",
              "\n",
              "    .dataframe thead th {\n",
              "        text-align: right;\n",
              "    }\n",
              "</style>\n",
              "<table border=\"1\" class=\"dataframe\">\n",
              "  <thead>\n",
              "    <tr style=\"text-align: right;\">\n",
              "      <th></th>\n",
              "      <th>PassengerId</th>\n",
              "      <th>Survived</th>\n",
              "      <th>Pclass</th>\n",
              "      <th>Name</th>\n",
              "      <th>Sex</th>\n",
              "      <th>Age</th>\n",
              "      <th>SibSp</th>\n",
              "      <th>Parch</th>\n",
              "      <th>Ticket</th>\n",
              "      <th>Fare</th>\n",
              "      <th>Cabin</th>\n",
              "      <th>Embarked</th>\n",
              "      <th>Initial</th>\n",
              "      <th>LastName</th>\n",
              "      <th>NumName</th>\n",
              "      <th>Age_Range</th>\n",
              "      <th>Agroup</th>\n",
              "      <th>Alone</th>\n",
              "      <th>Family</th>\n",
              "      <th>Initick</th>\n",
              "      <th>NumTicket</th>\n",
              "      <th>Fare_Range</th>\n",
              "      <th>Fgroup</th>\n",
              "      <th>Inicab</th>\n",
              "    </tr>\n",
              "  </thead>\n",
              "  <tbody>\n",
              "    <tr>\n",
              "      <th>61</th>\n",
              "      <td>62</td>\n",
              "      <td>1.0</td>\n",
              "      <td>1</td>\n",
              "      <td>Icard, Miss. Amelie</td>\n",
              "      <td>2</td>\n",
              "      <td>38.0</td>\n",
              "      <td>0</td>\n",
              "      <td>0</td>\n",
              "      <td>113572</td>\n",
              "      <td>80.0</td>\n",
              "      <td>B28</td>\n",
              "      <td>NaN</td>\n",
              "      <td>4</td>\n",
              "      <td>Icard</td>\n",
              "      <td>58</td>\n",
              "      <td>(33.0, 39.0]</td>\n",
              "      <td>36</td>\n",
              "      <td>1.0</td>\n",
              "      <td>1</td>\n",
              "      <td>NaN</td>\n",
              "      <td>-1</td>\n",
              "      <td>(77.958, 512.329]</td>\n",
              "      <td>9</td>\n",
              "      <td>8</td>\n",
              "    </tr>\n",
              "    <tr>\n",
              "      <th>829</th>\n",
              "      <td>830</td>\n",
              "      <td>1.0</td>\n",
              "      <td>1</td>\n",
              "      <td>Stone, Mrs. George Nelson (Martha Evelyn)</td>\n",
              "      <td>2</td>\n",
              "      <td>62.0</td>\n",
              "      <td>0</td>\n",
              "      <td>0</td>\n",
              "      <td>113572</td>\n",
              "      <td>80.0</td>\n",
              "      <td>B28</td>\n",
              "      <td>NaN</td>\n",
              "      <td>5</td>\n",
              "      <td>Stone</td>\n",
              "      <td>616</td>\n",
              "      <td>(48.0, 80.0]</td>\n",
              "      <td>60</td>\n",
              "      <td>1.0</td>\n",
              "      <td>1</td>\n",
              "      <td>NaN</td>\n",
              "      <td>-1</td>\n",
              "      <td>(77.958, 512.329]</td>\n",
              "      <td>9</td>\n",
              "      <td>8</td>\n",
              "    </tr>\n",
              "  </tbody>\n",
              "</table>\n",
              "</div>"
            ],
            "text/plain": [
              "     PassengerId  Survived  Pclass  ...         Fare_Range Fgroup  Inicab\n",
              "61            62       1.0       1  ...  (77.958, 512.329]      9       8\n",
              "829          830       1.0       1  ...  (77.958, 512.329]      9       8\n",
              "\n",
              "[2 rows x 24 columns]"
            ]
          },
          "metadata": {
            "tags": []
          },
          "execution_count": 90
        }
      ]
    },
    {
      "cell_type": "markdown",
      "metadata": {
        "_uuid": "dc44f6c1-3d55-44a7-b737-c7ef0f326a2a",
        "_cell_guid": "6efda1cb-c9e0-4207-bedf-37fcd5f73023",
        "trusted": true,
        "id": "2wrpC-vwe5NK",
        "colab_type": "text"
      },
      "source": [
        "* 가장 비슷한 번호를 찾아 보겠습니다."
      ]
    },
    {
      "cell_type": "code",
      "metadata": {
        "_uuid": "ed4649cc-c687-4e2c-b772-325b26f1000c",
        "_cell_guid": "ce2d7a5a-baef-41ef-89bf-72f97f0d52b7",
        "trusted": true,
        "id": "K_8_Mpc-e5NK",
        "colab_type": "code",
        "colab": {
          "base_uri": "https://localhost:8080/",
          "height": 1000
        },
        "outputId": "074005cf-b942-41f4-bdc7-6b377ae685f0"
      },
      "source": [
        "temp.sort_values(['Ticket'], ascending = True)[55:70]"
      ],
      "execution_count": null,
      "outputs": [
        {
          "output_type": "execute_result",
          "data": {
            "text/html": [
              "<div>\n",
              "<style scoped>\n",
              "    .dataframe tbody tr th:only-of-type {\n",
              "        vertical-align: middle;\n",
              "    }\n",
              "\n",
              "    .dataframe tbody tr th {\n",
              "        vertical-align: top;\n",
              "    }\n",
              "\n",
              "    .dataframe thead th {\n",
              "        text-align: right;\n",
              "    }\n",
              "</style>\n",
              "<table border=\"1\" class=\"dataframe\">\n",
              "  <thead>\n",
              "    <tr style=\"text-align: right;\">\n",
              "      <th></th>\n",
              "      <th>PassengerId</th>\n",
              "      <th>Survived</th>\n",
              "      <th>Pclass</th>\n",
              "      <th>Name</th>\n",
              "      <th>Sex</th>\n",
              "      <th>Age</th>\n",
              "      <th>SibSp</th>\n",
              "      <th>Parch</th>\n",
              "      <th>Ticket</th>\n",
              "      <th>Fare</th>\n",
              "      <th>Cabin</th>\n",
              "      <th>Embarked</th>\n",
              "      <th>Initial</th>\n",
              "      <th>LastName</th>\n",
              "      <th>NumName</th>\n",
              "      <th>Age_Range</th>\n",
              "      <th>Agroup</th>\n",
              "      <th>Alone</th>\n",
              "      <th>Family</th>\n",
              "      <th>Initick</th>\n",
              "      <th>NumTicket</th>\n",
              "      <th>Fare_Range</th>\n",
              "      <th>Fgroup</th>\n",
              "      <th>Inicab</th>\n",
              "    </tr>\n",
              "  </thead>\n",
              "  <tbody>\n",
              "    <tr>\n",
              "      <th>54</th>\n",
              "      <td>55</td>\n",
              "      <td>0.0</td>\n",
              "      <td>1</td>\n",
              "      <td>Ostby, Mr. Engelhart Cornelius</td>\n",
              "      <td>1</td>\n",
              "      <td>65.000000</td>\n",
              "      <td>0</td>\n",
              "      <td>1</td>\n",
              "      <td>113509</td>\n",
              "      <td>61.9792</td>\n",
              "      <td>B30</td>\n",
              "      <td>C</td>\n",
              "      <td>2</td>\n",
              "      <td>Ostby</td>\n",
              "      <td>51</td>\n",
              "      <td>(48.0, 80.0]</td>\n",
              "      <td>60</td>\n",
              "      <td>NaN</td>\n",
              "      <td>2</td>\n",
              "      <td>NaN</td>\n",
              "      <td>-1</td>\n",
              "      <td>(39.688, 77.958]</td>\n",
              "      <td>8</td>\n",
              "      <td>8</td>\n",
              "    </tr>\n",
              "    <tr>\n",
              "      <th>351</th>\n",
              "      <td>352</td>\n",
              "      <td>0.0</td>\n",
              "      <td>1</td>\n",
              "      <td>Williams-Lambert, Mr. Fletcher Fellows</td>\n",
              "      <td>1</td>\n",
              "      <td>32.252151</td>\n",
              "      <td>0</td>\n",
              "      <td>0</td>\n",
              "      <td>113510</td>\n",
              "      <td>35.0000</td>\n",
              "      <td>C128</td>\n",
              "      <td>S</td>\n",
              "      <td>2</td>\n",
              "      <td>Williams</td>\n",
              "      <td>17</td>\n",
              "      <td>(30.0, 32.252]</td>\n",
              "      <td>33</td>\n",
              "      <td>1.0</td>\n",
              "      <td>1</td>\n",
              "      <td>NaN</td>\n",
              "      <td>-1</td>\n",
              "      <td>(27.0, 39.688]</td>\n",
              "      <td>7</td>\n",
              "      <td>1</td>\n",
              "    </tr>\n",
              "    <tr>\n",
              "      <th>252</th>\n",
              "      <td>253</td>\n",
              "      <td>0.0</td>\n",
              "      <td>1</td>\n",
              "      <td>Stead, Mr. William Thomas</td>\n",
              "      <td>1</td>\n",
              "      <td>62.000000</td>\n",
              "      <td>0</td>\n",
              "      <td>0</td>\n",
              "      <td>113514</td>\n",
              "      <td>26.5500</td>\n",
              "      <td>C87</td>\n",
              "      <td>S</td>\n",
              "      <td>2</td>\n",
              "      <td>Stead</td>\n",
              "      <td>217</td>\n",
              "      <td>(48.0, 80.0]</td>\n",
              "      <td>60</td>\n",
              "      <td>1.0</td>\n",
              "      <td>1</td>\n",
              "      <td>NaN</td>\n",
              "      <td>-1</td>\n",
              "      <td>(21.679, 27.0]</td>\n",
              "      <td>6</td>\n",
              "      <td>1</td>\n",
              "    </tr>\n",
              "    <tr>\n",
              "      <th>829</th>\n",
              "      <td>830</td>\n",
              "      <td>1.0</td>\n",
              "      <td>1</td>\n",
              "      <td>Stone, Mrs. George Nelson (Martha Evelyn)</td>\n",
              "      <td>2</td>\n",
              "      <td>62.000000</td>\n",
              "      <td>0</td>\n",
              "      <td>0</td>\n",
              "      <td>113572</td>\n",
              "      <td>80.0000</td>\n",
              "      <td>B28</td>\n",
              "      <td>NaN</td>\n",
              "      <td>5</td>\n",
              "      <td>Stone</td>\n",
              "      <td>616</td>\n",
              "      <td>(48.0, 80.0]</td>\n",
              "      <td>60</td>\n",
              "      <td>1.0</td>\n",
              "      <td>1</td>\n",
              "      <td>NaN</td>\n",
              "      <td>-1</td>\n",
              "      <td>(77.958, 512.329]</td>\n",
              "      <td>9</td>\n",
              "      <td>8</td>\n",
              "    </tr>\n",
              "    <tr>\n",
              "      <th>61</th>\n",
              "      <td>62</td>\n",
              "      <td>1.0</td>\n",
              "      <td>1</td>\n",
              "      <td>Icard, Miss. Amelie</td>\n",
              "      <td>2</td>\n",
              "      <td>38.000000</td>\n",
              "      <td>0</td>\n",
              "      <td>0</td>\n",
              "      <td>113572</td>\n",
              "      <td>80.0000</td>\n",
              "      <td>B28</td>\n",
              "      <td>NaN</td>\n",
              "      <td>4</td>\n",
              "      <td>Icard</td>\n",
              "      <td>58</td>\n",
              "      <td>(33.0, 39.0]</td>\n",
              "      <td>36</td>\n",
              "      <td>1.0</td>\n",
              "      <td>1</td>\n",
              "      <td>NaN</td>\n",
              "      <td>-1</td>\n",
              "      <td>(77.958, 512.329]</td>\n",
              "      <td>9</td>\n",
              "      <td>8</td>\n",
              "    </tr>\n",
              "    <tr>\n",
              "      <th>802</th>\n",
              "      <td>803</td>\n",
              "      <td>1.0</td>\n",
              "      <td>1</td>\n",
              "      <td>Carter, Master. William Thornton II</td>\n",
              "      <td>1</td>\n",
              "      <td>11.000000</td>\n",
              "      <td>1</td>\n",
              "      <td>2</td>\n",
              "      <td>113760</td>\n",
              "      <td>120.0000</td>\n",
              "      <td>B96 B98</td>\n",
              "      <td>S</td>\n",
              "      <td>4</td>\n",
              "      <td>Carter</td>\n",
              "      <td>215</td>\n",
              "      <td>(0.169, 16.0]</td>\n",
              "      <td>13</td>\n",
              "      <td>NaN</td>\n",
              "      <td>4</td>\n",
              "      <td>NaN</td>\n",
              "      <td>-1</td>\n",
              "      <td>(77.958, 512.329]</td>\n",
              "      <td>9</td>\n",
              "      <td>8</td>\n",
              "    </tr>\n",
              "    <tr>\n",
              "      <th>390</th>\n",
              "      <td>391</td>\n",
              "      <td>1.0</td>\n",
              "      <td>1</td>\n",
              "      <td>Carter, Mr. William Ernest</td>\n",
              "      <td>1</td>\n",
              "      <td>36.000000</td>\n",
              "      <td>1</td>\n",
              "      <td>2</td>\n",
              "      <td>113760</td>\n",
              "      <td>120.0000</td>\n",
              "      <td>B96 B98</td>\n",
              "      <td>S</td>\n",
              "      <td>2</td>\n",
              "      <td>Carter</td>\n",
              "      <td>215</td>\n",
              "      <td>(33.0, 39.0]</td>\n",
              "      <td>36</td>\n",
              "      <td>NaN</td>\n",
              "      <td>4</td>\n",
              "      <td>NaN</td>\n",
              "      <td>-1</td>\n",
              "      <td>(77.958, 512.329]</td>\n",
              "      <td>9</td>\n",
              "      <td>8</td>\n",
              "    </tr>\n",
              "    <tr>\n",
              "      <th>435</th>\n",
              "      <td>436</td>\n",
              "      <td>1.0</td>\n",
              "      <td>1</td>\n",
              "      <td>Carter, Miss. Lucile Polk</td>\n",
              "      <td>2</td>\n",
              "      <td>14.000000</td>\n",
              "      <td>1</td>\n",
              "      <td>2</td>\n",
              "      <td>113760</td>\n",
              "      <td>120.0000</td>\n",
              "      <td>B96 B98</td>\n",
              "      <td>S</td>\n",
              "      <td>4</td>\n",
              "      <td>Carter</td>\n",
              "      <td>215</td>\n",
              "      <td>(0.169, 16.0]</td>\n",
              "      <td>13</td>\n",
              "      <td>NaN</td>\n",
              "      <td>4</td>\n",
              "      <td>NaN</td>\n",
              "      <td>-1</td>\n",
              "      <td>(77.958, 512.329]</td>\n",
              "      <td>9</td>\n",
              "      <td>8</td>\n",
              "    </tr>\n",
              "    <tr>\n",
              "      <th>763</th>\n",
              "      <td>764</td>\n",
              "      <td>1.0</td>\n",
              "      <td>1</td>\n",
              "      <td>Carter, Mrs. William Ernest (Lucile Polk)</td>\n",
              "      <td>2</td>\n",
              "      <td>36.000000</td>\n",
              "      <td>1</td>\n",
              "      <td>2</td>\n",
              "      <td>113760</td>\n",
              "      <td>120.0000</td>\n",
              "      <td>B96 B98</td>\n",
              "      <td>S</td>\n",
              "      <td>5</td>\n",
              "      <td>Carter</td>\n",
              "      <td>215</td>\n",
              "      <td>(33.0, 39.0]</td>\n",
              "      <td>36</td>\n",
              "      <td>NaN</td>\n",
              "      <td>4</td>\n",
              "      <td>NaN</td>\n",
              "      <td>-1</td>\n",
              "      <td>(77.958, 512.329]</td>\n",
              "      <td>9</td>\n",
              "      <td>8</td>\n",
              "    </tr>\n",
              "    <tr>\n",
              "      <th>185</th>\n",
              "      <td>186</td>\n",
              "      <td>0.0</td>\n",
              "      <td>1</td>\n",
              "      <td>Rood, Mr. Hugh Roscoe</td>\n",
              "      <td>1</td>\n",
              "      <td>32.252151</td>\n",
              "      <td>0</td>\n",
              "      <td>0</td>\n",
              "      <td>113767</td>\n",
              "      <td>50.0000</td>\n",
              "      <td>A32</td>\n",
              "      <td>S</td>\n",
              "      <td>2</td>\n",
              "      <td>Rood</td>\n",
              "      <td>162</td>\n",
              "      <td>(30.0, 32.252]</td>\n",
              "      <td>33</td>\n",
              "      <td>1.0</td>\n",
              "      <td>1</td>\n",
              "      <td>NaN</td>\n",
              "      <td>-1</td>\n",
              "      <td>(39.688, 77.958]</td>\n",
              "      <td>7</td>\n",
              "      <td>6</td>\n",
              "    </tr>\n",
              "    <tr>\n",
              "      <th>1073</th>\n",
              "      <td>1074</td>\n",
              "      <td>NaN</td>\n",
              "      <td>1</td>\n",
              "      <td>Marvin, Mrs. Daniel Warner (Mary Graham Carmic...</td>\n",
              "      <td>2</td>\n",
              "      <td>18.000000</td>\n",
              "      <td>1</td>\n",
              "      <td>0</td>\n",
              "      <td>113773</td>\n",
              "      <td>53.1000</td>\n",
              "      <td>D30</td>\n",
              "      <td>S</td>\n",
              "      <td>5</td>\n",
              "      <td>Marvin</td>\n",
              "      <td>565</td>\n",
              "      <td>(16.0, 21.0]</td>\n",
              "      <td>18</td>\n",
              "      <td>NaN</td>\n",
              "      <td>2</td>\n",
              "      <td>NaN</td>\n",
              "      <td>-1</td>\n",
              "      <td>NaN</td>\n",
              "      <td>8</td>\n",
              "      <td>5</td>\n",
              "    </tr>\n",
              "    <tr>\n",
              "      <th>748</th>\n",
              "      <td>749</td>\n",
              "      <td>0.0</td>\n",
              "      <td>1</td>\n",
              "      <td>Marvin, Mr. Daniel Warner</td>\n",
              "      <td>1</td>\n",
              "      <td>19.000000</td>\n",
              "      <td>1</td>\n",
              "      <td>0</td>\n",
              "      <td>113773</td>\n",
              "      <td>53.1000</td>\n",
              "      <td>D30</td>\n",
              "      <td>S</td>\n",
              "      <td>2</td>\n",
              "      <td>Marvin</td>\n",
              "      <td>565</td>\n",
              "      <td>(16.0, 21.0]</td>\n",
              "      <td>18</td>\n",
              "      <td>NaN</td>\n",
              "      <td>2</td>\n",
              "      <td>NaN</td>\n",
              "      <td>-1</td>\n",
              "      <td>(39.688, 77.958]</td>\n",
              "      <td>8</td>\n",
              "      <td>5</td>\n",
              "    </tr>\n",
              "    <tr>\n",
              "      <th>151</th>\n",
              "      <td>152</td>\n",
              "      <td>1.0</td>\n",
              "      <td>1</td>\n",
              "      <td>Pears, Mrs. Thomas (Edith Wearne)</td>\n",
              "      <td>2</td>\n",
              "      <td>22.000000</td>\n",
              "      <td>1</td>\n",
              "      <td>0</td>\n",
              "      <td>113776</td>\n",
              "      <td>66.6000</td>\n",
              "      <td>C2</td>\n",
              "      <td>S</td>\n",
              "      <td>5</td>\n",
              "      <td>Pears</td>\n",
              "      <td>136</td>\n",
              "      <td>(21.0, 23.0]</td>\n",
              "      <td>21</td>\n",
              "      <td>NaN</td>\n",
              "      <td>2</td>\n",
              "      <td>NaN</td>\n",
              "      <td>-1</td>\n",
              "      <td>(39.688, 77.958]</td>\n",
              "      <td>8</td>\n",
              "      <td>1</td>\n",
              "    </tr>\n",
              "    <tr>\n",
              "      <th>336</th>\n",
              "      <td>337</td>\n",
              "      <td>0.0</td>\n",
              "      <td>1</td>\n",
              "      <td>Pears, Mr. Thomas Clinton</td>\n",
              "      <td>1</td>\n",
              "      <td>29.000000</td>\n",
              "      <td>1</td>\n",
              "      <td>0</td>\n",
              "      <td>113776</td>\n",
              "      <td>66.6000</td>\n",
              "      <td>C2</td>\n",
              "      <td>S</td>\n",
              "      <td>2</td>\n",
              "      <td>Pears</td>\n",
              "      <td>136</td>\n",
              "      <td>(26.0, 30.0]</td>\n",
              "      <td>28</td>\n",
              "      <td>NaN</td>\n",
              "      <td>2</td>\n",
              "      <td>NaN</td>\n",
              "      <td>-1</td>\n",
              "      <td>(39.688, 77.958]</td>\n",
              "      <td>8</td>\n",
              "      <td>1</td>\n",
              "    </tr>\n",
              "    <tr>\n",
              "      <th>932</th>\n",
              "      <td>933</td>\n",
              "      <td>NaN</td>\n",
              "      <td>1</td>\n",
              "      <td>Franklin, Mr. Thomas Parham</td>\n",
              "      <td>1</td>\n",
              "      <td>32.252151</td>\n",
              "      <td>0</td>\n",
              "      <td>0</td>\n",
              "      <td>113778</td>\n",
              "      <td>26.5500</td>\n",
              "      <td>D34</td>\n",
              "      <td>S</td>\n",
              "      <td>2</td>\n",
              "      <td>Franklin</td>\n",
              "      <td>670</td>\n",
              "      <td>(30.0, 32.252]</td>\n",
              "      <td>33</td>\n",
              "      <td>1.0</td>\n",
              "      <td>1</td>\n",
              "      <td>NaN</td>\n",
              "      <td>-1</td>\n",
              "      <td>NaN</td>\n",
              "      <td>6</td>\n",
              "      <td>5</td>\n",
              "    </tr>\n",
              "  </tbody>\n",
              "</table>\n",
              "</div>"
            ],
            "text/plain": [
              "      PassengerId  Survived  Pclass  ...         Fare_Range Fgroup  Inicab\n",
              "54             55       0.0       1  ...   (39.688, 77.958]      8       8\n",
              "351           352       0.0       1  ...     (27.0, 39.688]      7       1\n",
              "252           253       0.0       1  ...     (21.679, 27.0]      6       1\n",
              "829           830       1.0       1  ...  (77.958, 512.329]      9       8\n",
              "61             62       1.0       1  ...  (77.958, 512.329]      9       8\n",
              "802           803       1.0       1  ...  (77.958, 512.329]      9       8\n",
              "390           391       1.0       1  ...  (77.958, 512.329]      9       8\n",
              "435           436       1.0       1  ...  (77.958, 512.329]      9       8\n",
              "763           764       1.0       1  ...  (77.958, 512.329]      9       8\n",
              "185           186       0.0       1  ...   (39.688, 77.958]      7       6\n",
              "1073         1074       NaN       1  ...                NaN      8       5\n",
              "748           749       0.0       1  ...   (39.688, 77.958]      8       5\n",
              "151           152       1.0       1  ...   (39.688, 77.958]      8       1\n",
              "336           337       0.0       1  ...   (39.688, 77.958]      8       1\n",
              "932           933       NaN       1  ...                NaN      6       5\n",
              "\n",
              "[15 rows x 24 columns]"
            ]
          },
          "metadata": {
            "tags": []
          },
          "execution_count": 91
        }
      ]
    },
    {
      "cell_type": "markdown",
      "metadata": {
        "_uuid": "d47cf81c-c67a-418f-89ef-96d15ea9c304",
        "_cell_guid": "c9ba7c28-9db5-4468-861d-98d359594106",
        "trusted": true,
        "id": "C1H_KVGIe5NN",
        "colab_type": "text"
      },
      "source": [
        "* 앞 뒤로 모두 S이고 Pclass도 모두 1인 것으로 봐서 S일 가능성이 큽니다."
      ]
    },
    {
      "cell_type": "code",
      "metadata": {
        "_uuid": "2984cd7a-05b4-4c0a-a90e-b4a49f981efc",
        "_cell_guid": "c0e735cf-0af8-4c37-badd-5078c1707449",
        "trusted": true,
        "id": "3FZRjbAOe5NN",
        "colab_type": "code",
        "colab": {}
      },
      "source": [
        "temp.loc[(temp.Embarked.isnull()), 'Embarked'] = 'S'"
      ],
      "execution_count": null,
      "outputs": []
    },
    {
      "cell_type": "code",
      "metadata": {
        "_uuid": "1ca320e9-f7a3-4f75-a29c-d8f31701bea3",
        "_cell_guid": "6fd9bcd1-4866-4433-a627-b9f6470dbcc7",
        "trusted": true,
        "id": "SdlNXENqe5NP",
        "colab_type": "code",
        "colab": {
          "base_uri": "https://localhost:8080/",
          "height": 689
        },
        "outputId": "cf3a0e48-7c08-4644-b8ef-26cc5ee3288a"
      },
      "source": [
        "temp['Embarked'] = temp['Embarked'].factorize()[0]\n",
        "    \n",
        "temp[11:20]"
      ],
      "execution_count": null,
      "outputs": [
        {
          "output_type": "execute_result",
          "data": {
            "text/html": [
              "<div>\n",
              "<style scoped>\n",
              "    .dataframe tbody tr th:only-of-type {\n",
              "        vertical-align: middle;\n",
              "    }\n",
              "\n",
              "    .dataframe tbody tr th {\n",
              "        vertical-align: top;\n",
              "    }\n",
              "\n",
              "    .dataframe thead th {\n",
              "        text-align: right;\n",
              "    }\n",
              "</style>\n",
              "<table border=\"1\" class=\"dataframe\">\n",
              "  <thead>\n",
              "    <tr style=\"text-align: right;\">\n",
              "      <th></th>\n",
              "      <th>PassengerId</th>\n",
              "      <th>Survived</th>\n",
              "      <th>Pclass</th>\n",
              "      <th>Name</th>\n",
              "      <th>Sex</th>\n",
              "      <th>Age</th>\n",
              "      <th>SibSp</th>\n",
              "      <th>Parch</th>\n",
              "      <th>Ticket</th>\n",
              "      <th>Fare</th>\n",
              "      <th>Cabin</th>\n",
              "      <th>Embarked</th>\n",
              "      <th>Initial</th>\n",
              "      <th>LastName</th>\n",
              "      <th>NumName</th>\n",
              "      <th>Age_Range</th>\n",
              "      <th>Agroup</th>\n",
              "      <th>Alone</th>\n",
              "      <th>Family</th>\n",
              "      <th>Initick</th>\n",
              "      <th>NumTicket</th>\n",
              "      <th>Fare_Range</th>\n",
              "      <th>Fgroup</th>\n",
              "      <th>Inicab</th>\n",
              "    </tr>\n",
              "  </thead>\n",
              "  <tbody>\n",
              "    <tr>\n",
              "      <th>11</th>\n",
              "      <td>12</td>\n",
              "      <td>1.0</td>\n",
              "      <td>1</td>\n",
              "      <td>Bonnell, Miss. Elizabeth</td>\n",
              "      <td>2</td>\n",
              "      <td>58.000000</td>\n",
              "      <td>0</td>\n",
              "      <td>0</td>\n",
              "      <td>113783</td>\n",
              "      <td>26.5500</td>\n",
              "      <td>C103</td>\n",
              "      <td>0</td>\n",
              "      <td>4</td>\n",
              "      <td>Bonnell</td>\n",
              "      <td>11</td>\n",
              "      <td>(48.0, 80.0]</td>\n",
              "      <td>60</td>\n",
              "      <td>1.0</td>\n",
              "      <td>1</td>\n",
              "      <td>NaN</td>\n",
              "      <td>-1</td>\n",
              "      <td>(21.679, 27.0]</td>\n",
              "      <td>6</td>\n",
              "      <td>1</td>\n",
              "    </tr>\n",
              "    <tr>\n",
              "      <th>12</th>\n",
              "      <td>13</td>\n",
              "      <td>0.0</td>\n",
              "      <td>3</td>\n",
              "      <td>Saundercock, Mr. William Henry</td>\n",
              "      <td>1</td>\n",
              "      <td>20.000000</td>\n",
              "      <td>0</td>\n",
              "      <td>0</td>\n",
              "      <td>A/5. 2151</td>\n",
              "      <td>8.0500</td>\n",
              "      <td>NaN</td>\n",
              "      <td>0</td>\n",
              "      <td>2</td>\n",
              "      <td>Saundercock</td>\n",
              "      <td>12</td>\n",
              "      <td>(16.0, 21.0]</td>\n",
              "      <td>18</td>\n",
              "      <td>1.0</td>\n",
              "      <td>1</td>\n",
              "      <td>A</td>\n",
              "      <td>0</td>\n",
              "      <td>(7.854, 8.05]</td>\n",
              "      <td>4</td>\n",
              "      <td>0</td>\n",
              "    </tr>\n",
              "    <tr>\n",
              "      <th>13</th>\n",
              "      <td>14</td>\n",
              "      <td>0.0</td>\n",
              "      <td>3</td>\n",
              "      <td>Andersson, Mr. Anders Johan</td>\n",
              "      <td>1</td>\n",
              "      <td>39.000000</td>\n",
              "      <td>1</td>\n",
              "      <td>5</td>\n",
              "      <td>347082</td>\n",
              "      <td>31.2750</td>\n",
              "      <td>NaN</td>\n",
              "      <td>0</td>\n",
              "      <td>2</td>\n",
              "      <td>Andersson</td>\n",
              "      <td>13</td>\n",
              "      <td>(33.0, 39.0]</td>\n",
              "      <td>45</td>\n",
              "      <td>NaN</td>\n",
              "      <td>7</td>\n",
              "      <td>NaN</td>\n",
              "      <td>-1</td>\n",
              "      <td>(27.0, 39.688]</td>\n",
              "      <td>7</td>\n",
              "      <td>0</td>\n",
              "    </tr>\n",
              "    <tr>\n",
              "      <th>14</th>\n",
              "      <td>15</td>\n",
              "      <td>0.0</td>\n",
              "      <td>3</td>\n",
              "      <td>Vestrom, Miss. Hulda Amanda Adolfina</td>\n",
              "      <td>2</td>\n",
              "      <td>14.000000</td>\n",
              "      <td>0</td>\n",
              "      <td>0</td>\n",
              "      <td>350406</td>\n",
              "      <td>7.8542</td>\n",
              "      <td>NaN</td>\n",
              "      <td>0</td>\n",
              "      <td>4</td>\n",
              "      <td>Vestrom</td>\n",
              "      <td>14</td>\n",
              "      <td>(0.169, 16.0]</td>\n",
              "      <td>13</td>\n",
              "      <td>1.0</td>\n",
              "      <td>1</td>\n",
              "      <td>NaN</td>\n",
              "      <td>-1</td>\n",
              "      <td>(7.55, 7.854]</td>\n",
              "      <td>2</td>\n",
              "      <td>0</td>\n",
              "    </tr>\n",
              "    <tr>\n",
              "      <th>15</th>\n",
              "      <td>16</td>\n",
              "      <td>1.0</td>\n",
              "      <td>2</td>\n",
              "      <td>Hewlett, Mrs. (Mary D Kingcome)</td>\n",
              "      <td>2</td>\n",
              "      <td>55.000000</td>\n",
              "      <td>0</td>\n",
              "      <td>0</td>\n",
              "      <td>248706</td>\n",
              "      <td>16.0000</td>\n",
              "      <td>NaN</td>\n",
              "      <td>0</td>\n",
              "      <td>5</td>\n",
              "      <td>Hewlett</td>\n",
              "      <td>15</td>\n",
              "      <td>(48.0, 80.0]</td>\n",
              "      <td>60</td>\n",
              "      <td>1.0</td>\n",
              "      <td>1</td>\n",
              "      <td>NaN</td>\n",
              "      <td>-1</td>\n",
              "      <td>(14.454, 21.679]</td>\n",
              "      <td>5</td>\n",
              "      <td>3</td>\n",
              "    </tr>\n",
              "    <tr>\n",
              "      <th>16</th>\n",
              "      <td>17</td>\n",
              "      <td>0.0</td>\n",
              "      <td>3</td>\n",
              "      <td>Rice, Master. Eugene</td>\n",
              "      <td>1</td>\n",
              "      <td>2.000000</td>\n",
              "      <td>4</td>\n",
              "      <td>1</td>\n",
              "      <td>382652</td>\n",
              "      <td>29.1250</td>\n",
              "      <td>NaN</td>\n",
              "      <td>2</td>\n",
              "      <td>4</td>\n",
              "      <td>Rice</td>\n",
              "      <td>16</td>\n",
              "      <td>(0.169, 16.0]</td>\n",
              "      <td>2</td>\n",
              "      <td>NaN</td>\n",
              "      <td>6</td>\n",
              "      <td>NaN</td>\n",
              "      <td>-1</td>\n",
              "      <td>(27.0, 39.688]</td>\n",
              "      <td>7</td>\n",
              "      <td>0</td>\n",
              "    </tr>\n",
              "    <tr>\n",
              "      <th>17</th>\n",
              "      <td>18</td>\n",
              "      <td>1.0</td>\n",
              "      <td>2</td>\n",
              "      <td>Williams, Mr. Charles Eugene</td>\n",
              "      <td>1</td>\n",
              "      <td>32.252151</td>\n",
              "      <td>0</td>\n",
              "      <td>0</td>\n",
              "      <td>244373</td>\n",
              "      <td>13.0000</td>\n",
              "      <td>NaN</td>\n",
              "      <td>0</td>\n",
              "      <td>2</td>\n",
              "      <td>Williams</td>\n",
              "      <td>17</td>\n",
              "      <td>(30.0, 32.252]</td>\n",
              "      <td>33</td>\n",
              "      <td>1.0</td>\n",
              "      <td>1</td>\n",
              "      <td>NaN</td>\n",
              "      <td>-1</td>\n",
              "      <td>(10.5, 14.454]</td>\n",
              "      <td>5</td>\n",
              "      <td>3</td>\n",
              "    </tr>\n",
              "    <tr>\n",
              "      <th>18</th>\n",
              "      <td>19</td>\n",
              "      <td>0.0</td>\n",
              "      <td>3</td>\n",
              "      <td>Vander Planke, Mrs. Julius (Emelia Maria Vande...</td>\n",
              "      <td>2</td>\n",
              "      <td>31.000000</td>\n",
              "      <td>1</td>\n",
              "      <td>0</td>\n",
              "      <td>345763</td>\n",
              "      <td>18.0000</td>\n",
              "      <td>NaN</td>\n",
              "      <td>0</td>\n",
              "      <td>5</td>\n",
              "      <td>Vander</td>\n",
              "      <td>18</td>\n",
              "      <td>(30.0, 32.252]</td>\n",
              "      <td>31</td>\n",
              "      <td>NaN</td>\n",
              "      <td>2</td>\n",
              "      <td>NaN</td>\n",
              "      <td>-1</td>\n",
              "      <td>(14.454, 21.679]</td>\n",
              "      <td>5</td>\n",
              "      <td>0</td>\n",
              "    </tr>\n",
              "    <tr>\n",
              "      <th>19</th>\n",
              "      <td>20</td>\n",
              "      <td>1.0</td>\n",
              "      <td>3</td>\n",
              "      <td>Masselmani, Mrs. Fatima</td>\n",
              "      <td>2</td>\n",
              "      <td>37.005848</td>\n",
              "      <td>0</td>\n",
              "      <td>0</td>\n",
              "      <td>2649</td>\n",
              "      <td>7.2250</td>\n",
              "      <td>NaN</td>\n",
              "      <td>1</td>\n",
              "      <td>5</td>\n",
              "      <td>Masselmani</td>\n",
              "      <td>19</td>\n",
              "      <td>(33.0, 39.0]</td>\n",
              "      <td>36</td>\n",
              "      <td>1.0</td>\n",
              "      <td>1</td>\n",
              "      <td>NaN</td>\n",
              "      <td>-1</td>\n",
              "      <td>(-0.001, 7.55]</td>\n",
              "      <td>2</td>\n",
              "      <td>0</td>\n",
              "    </tr>\n",
              "  </tbody>\n",
              "</table>\n",
              "</div>"
            ],
            "text/plain": [
              "    PassengerId  Survived  Pclass  ...        Fare_Range Fgroup  Inicab\n",
              "11           12       1.0       1  ...    (21.679, 27.0]      6       1\n",
              "12           13       0.0       3  ...     (7.854, 8.05]      4       0\n",
              "13           14       0.0       3  ...    (27.0, 39.688]      7       0\n",
              "14           15       0.0       3  ...     (7.55, 7.854]      2       0\n",
              "15           16       1.0       2  ...  (14.454, 21.679]      5       3\n",
              "16           17       0.0       3  ...    (27.0, 39.688]      7       0\n",
              "17           18       1.0       2  ...    (10.5, 14.454]      5       3\n",
              "18           19       0.0       3  ...  (14.454, 21.679]      5       0\n",
              "19           20       1.0       3  ...    (-0.001, 7.55]      2       0\n",
              "\n",
              "[9 rows x 24 columns]"
            ]
          },
          "metadata": {
            "tags": []
          },
          "execution_count": 94
        }
      ]
    },
    {
      "cell_type": "markdown",
      "metadata": {
        "_uuid": "96e63e09-b7a4-49bb-9038-28a961571c2b",
        "_cell_guid": "ec72f754-c006-401e-8e7f-9defc790cca8",
        "trusted": true,
        "id": "W06BcqbLe5NR",
        "colab_type": "text"
      },
      "source": [
        "### 항목 추가하기\n",
        "\n",
        "* 위에 추가 항목을 몇 개 만들어 보았습니다.\n",
        "\n",
        "* 그래도 몇 개 더 만들어 볼까요? \n",
        "\n",
        "* 5개 정도 만들어 봅니다.\n",
        "\n",
        "* Priority - Nobles, Women in Pclass 1 & 2, Babies under 1, Kids under 17 in Pclass 1 & 2, higher fare, Women in Pclass 3 and so on\n",
        "* FH - Female Higher Survival Group\n",
        "* MH - Male Higher Survival Group\n",
        "* FL - Female Lower Surival Group\n",
        "* ML - Male Lower Survival Group"
      ]
    },
    {
      "cell_type": "markdown",
      "metadata": {
        "_uuid": "fd9948f1-5890-4a47-bf98-2415cdeb615a",
        "_cell_guid": "9406a15b-1123-4862-84b6-ae7f3a0d1954",
        "trusted": true,
        "id": "9qYD_i98e5NR",
        "colab_type": "text"
      },
      "source": [
        "* Priority - (1) Nobles (2) Women in Pclass 1  (3) Babies under 1 (4) Kids under 17 in Pclass 1 & 2  (5) Women in Pclass 2 (6) Higher Fare"
      ]
    },
    {
      "cell_type": "code",
      "metadata": {
        "_uuid": "60073a7b-b909-4910-a55e-f3496374f2d3",
        "_cell_guid": "f44b5b0d-192e-4c91-b890-d788afa1330e",
        "trusted": true,
        "id": "5JDKnTnue5NR",
        "colab_type": "code",
        "colab": {}
      },
      "source": [
        "survpct('Initial')"
      ],
      "execution_count": null,
      "outputs": []
    },
    {
      "cell_type": "code",
      "metadata": {
        "_uuid": "b8ce3fd2-34c6-4659-aed7-538ca103c864",
        "_cell_guid": "75c2f66b-0ff3-4b1f-837f-351d43358eab",
        "trusted": true,
        "id": "QKZ-Hi-7e5NS",
        "colab_type": "code",
        "colab": {}
      },
      "source": [
        "survpct('Pclass')"
      ],
      "execution_count": null,
      "outputs": []
    },
    {
      "cell_type": "code",
      "metadata": {
        "_uuid": "02b69ad4-11f1-4053-85bb-aa4d1e2b3aa8",
        "_cell_guid": "0fc661c2-3553-45a2-a6ee-e4b5ea95bce4",
        "trusted": true,
        "id": "g4JWWIQTe5NT",
        "colab_type": "code",
        "colab": {}
      },
      "source": [
        "survpct('Sex')"
      ],
      "execution_count": null,
      "outputs": []
    },
    {
      "cell_type": "code",
      "metadata": {
        "_uuid": "786c3f87-d87c-47b1-9378-2429ca626209",
        "_cell_guid": "4d85436e-1240-4c7d-af05-3db27fe435df",
        "trusted": true,
        "id": "Ua3f60zde5NU",
        "colab_type": "code",
        "colab": {}
      },
      "source": [
        "survpct('Age').head()"
      ],
      "execution_count": null,
      "outputs": []
    },
    {
      "cell_type": "code",
      "metadata": {
        "_uuid": "feb308d1-cd8f-497f-a115-e5dda29f3a2f",
        "_cell_guid": "08b6d35c-e3bf-480e-a5c8-00f563439b04",
        "trusted": true,
        "id": "20VXRG4Be5NW",
        "colab_type": "code",
        "colab": {}
      },
      "source": [
        "survpct('Fgroup')"
      ],
      "execution_count": null,
      "outputs": []
    },
    {
      "cell_type": "code",
      "metadata": {
        "_uuid": "e3b8462d-5aeb-4a13-8178-768c7304c206",
        "_cell_guid": "fcbf76eb-cf90-4d1f-80d7-4e6b38ba5c71",
        "trusted": true,
        "id": "Lf-G4y7Ge5NX",
        "colab_type": "code",
        "colab": {}
      },
      "source": [
        "temp['Priority'] = 0\n",
        "temp.loc[(temp['Initial'] == 6), 'Priority'] = 1\n",
        "temp.loc[(temp['Pclass'] == 1) & (temp['Sex'] == 2), 'Priority'] = 2\n",
        "temp.loc[(temp['Age'] < 1), 'Priority'] = 3\n",
        "temp.loc[(temp['Pclass'] == 1) & (temp['Age'] <= 17), 'Priority'] = 4\n",
        "temp.loc[(temp['Pclass'] == 2) & (temp['Age'] <= 17), 'Priority'] = 5\n",
        "temp.loc[(temp['Pclass'] == 2) & (temp['Sex'] == 2), 'Priority'] = 6\n",
        "temp.loc[(temp['Fgroup'] == 9), 'Priority'] = 7"
      ],
      "execution_count": null,
      "outputs": []
    },
    {
      "cell_type": "code",
      "metadata": {
        "_uuid": "97a5c7e8-3115-41d3-96ad-d4b9ce076f62",
        "_cell_guid": "25364dce-44b4-46ad-8fd4-400afde84754",
        "trusted": true,
        "id": "lU9DIfuje5NY",
        "colab_type": "code",
        "colab": {}
      },
      "source": [
        "survpct('Priority')"
      ],
      "execution_count": null,
      "outputs": []
    },
    {
      "cell_type": "code",
      "metadata": {
        "_uuid": "6a458b2b-6557-4395-bad1-0e8e8c731191",
        "_cell_guid": "de659e44-d0f1-47cd-b4da-91e9c8c00733",
        "trusted": true,
        "id": "z8KbZxQ5e5NZ",
        "colab_type": "code",
        "colab": {}
      },
      "source": [
        "temp.Priority.value_counts()"
      ],
      "execution_count": null,
      "outputs": []
    },
    {
      "cell_type": "code",
      "metadata": {
        "_uuid": "efc3f5b9-f6eb-4f6f-a927-3f7b6dd9624e",
        "_cell_guid": "478dd0e6-0d34-4894-b812-d15606753a3d",
        "trusted": true,
        "id": "A2voWwoBe5NZ",
        "colab_type": "code",
        "colab": {}
      },
      "source": [
        "survpct('Family')"
      ],
      "execution_count": null,
      "outputs": []
    },
    {
      "cell_type": "code",
      "metadata": {
        "_uuid": "bf84231c-a6d1-4188-9b0c-8b817d7a8028",
        "_cell_guid": "fc48f127-ffd5-4ab0-972b-ffcec4817149",
        "trusted": true,
        "id": "t0f7-UR5e5Na",
        "colab_type": "code",
        "colab": {}
      },
      "source": [
        "survpct('Fgroup')"
      ],
      "execution_count": null,
      "outputs": []
    },
    {
      "cell_type": "code",
      "metadata": {
        "_uuid": "5858dc7e-3a34-42f6-a06c-17d51e6d4619",
        "_cell_guid": "1f0f127f-127b-4118-a73b-0e751c96bf73",
        "trusted": true,
        "id": "dtDjbHjXe5Nb",
        "colab_type": "code",
        "colab": {}
      },
      "source": [
        "temp['FH'] = 0\n",
        "temp.loc[(temp['Sex'] == 1), 'FH'] = 0\n",
        "temp.loc[(temp['Sex'] == 2), 'FH'] = 1\n",
        "temp.loc[(temp['Sex'] == 2) & (temp['Family'] == 2), 'FH'] = 2\n",
        "temp.loc[(temp['Sex'] == 2) & (temp['Family'] == 3), 'FH'] = 3\n",
        "temp.loc[(temp['Sex'] == 2) & (temp['Family'] == 4), 'FH'] = 4\n",
        "temp.loc[(temp['Sex'] == 2) & (temp['Family'] == 1) & (temp['Pclass'] == 1), 'FH'] = 5\n",
        "temp.loc[(temp['Sex'] == 2) & (temp['Family'] == 1) & (temp['Pclass'] == 2), 'FH'] = 6\n",
        "temp.loc[(temp['Sex'] == 2) & (temp['Fgroup'] == 3), 'FH'] = 7\n",
        "temp.loc[(temp['Sex'] == 2) & (temp['Fgroup'] >= 5), 'FH'] = 8"
      ],
      "execution_count": null,
      "outputs": []
    },
    {
      "cell_type": "code",
      "metadata": {
        "_uuid": "3457e9e0-5ef5-416f-9bb9-9ee35311d117",
        "_cell_guid": "f653d595-ad7e-4a32-9e11-4f04533beeb4",
        "trusted": true,
        "id": "-vj3w_POe5Nd",
        "colab_type": "code",
        "colab": {}
      },
      "source": [
        "survpct('FH')"
      ],
      "execution_count": null,
      "outputs": []
    },
    {
      "cell_type": "code",
      "metadata": {
        "_uuid": "9ced7423-5407-4f0f-abd3-8abf148d2e4d",
        "_cell_guid": "9371af95-6218-4240-9af2-2aa22a5d6057",
        "trusted": true,
        "id": "02W_4orRe5Nf",
        "colab_type": "code",
        "colab": {}
      },
      "source": [
        "temp.FH.value_counts()"
      ],
      "execution_count": null,
      "outputs": []
    },
    {
      "cell_type": "code",
      "metadata": {
        "_uuid": "b17124d0-ff2b-4c1b-b6c5-edc5b8539675",
        "_cell_guid": "d2414d1d-3b28-4372-aa68-5bfbe799983b",
        "trusted": true,
        "id": "cdLF2WOee5Ng",
        "colab_type": "code",
        "colab": {}
      },
      "source": [
        "temp['MH'] = 0\n",
        "temp.loc[(temp['Sex'] == 2), 'MH'] = 0\n",
        "temp.loc[(temp['Sex'] == 1), 'MH'] = 1\n",
        "temp.loc[(temp['Sex'] == 1) & (temp['Family'] == 2), 'MH'] = 2\n",
        "temp.loc[(temp['Sex'] == 1) & (temp['Family'] == 3), 'MH'] = 3\n",
        "temp.loc[(temp['Sex'] == 1) & (temp['Family'] == 4), 'MH'] = 4\n",
        "temp.loc[(temp['Sex'] == 1) & (temp['Family'] == 1) & (temp['Pclass'] == 1), 'MH'] = 5\n",
        "temp.loc[(temp['Sex'] == 1) & (temp['Family'] == 1) & (temp['Pclass'] == 2), 'MH'] = 6\n",
        "temp.loc[(temp['Sex'] == 1) & (temp['Fgroup'] == 3), 'MH'] = 7\n",
        "temp.loc[(temp['Sex'] == 1) & (temp['Fgroup'] >= 5), 'MH'] = 8"
      ],
      "execution_count": null,
      "outputs": []
    },
    {
      "cell_type": "code",
      "metadata": {
        "_uuid": "1b98fcca-0eff-482f-8371-ee212859f00f",
        "_cell_guid": "ce9a73c3-f712-45f1-a4dd-4de77e076bad",
        "trusted": true,
        "id": "6NIltWXbe5Nh",
        "colab_type": "code",
        "colab": {}
      },
      "source": [
        "survpct('MH')"
      ],
      "execution_count": null,
      "outputs": []
    },
    {
      "cell_type": "code",
      "metadata": {
        "_uuid": "35122a72-0421-448b-9683-cd8a24a75f28",
        "_cell_guid": "ee99abf8-8c26-4bfd-9f54-141d22089147",
        "trusted": true,
        "id": "sfTBkTCce5Nh",
        "colab_type": "code",
        "colab": {}
      },
      "source": [
        "temp.MH.value_counts()"
      ],
      "execution_count": null,
      "outputs": []
    },
    {
      "cell_type": "code",
      "metadata": {
        "_uuid": "8957ad7a-1177-4a12-bf01-a2609b80286c",
        "_cell_guid": "f948eef5-2ce1-4f71-9cc1-4dbb42d841d5",
        "trusted": true,
        "id": "e3DGhYqOe5Ni",
        "colab_type": "code",
        "colab": {}
      },
      "source": [
        "temp['FL'] = 0\n",
        "temp.loc[(temp['Sex'] == 1), 'FL'] = 0\n",
        "temp.loc[(temp['Sex'] == 2) & (temp['Fgroup'] < 5), 'FL'] = 1\n",
        "temp.loc[(temp['Sex'] == 2) & (temp['Fgroup'] != 3), 'FL'] = 2\n",
        "temp.loc[(temp['Sex'] == 2) & (temp['FH'] == 1), 'FL'] = 3\n",
        "temp.loc[(temp['Sex'] == 2) & (temp['Family'] < 2), 'FL'] = 4\n",
        "temp.loc[(temp['Sex'] == 2) & (temp['Family'] > 4), 'FL'] = 5\n",
        "temp.loc[(temp['Sex'] == 2) & (temp['Family'] == 1) & (temp['Pclass'] == 3), 'FL'] = 6"
      ],
      "execution_count": null,
      "outputs": []
    },
    {
      "cell_type": "code",
      "metadata": {
        "_uuid": "450d734d-954d-4485-a62a-ea2b2acaa844",
        "_cell_guid": "5008783d-7bf5-4c55-8667-f43142527516",
        "trusted": true,
        "id": "yXAYv6sKe5Nj",
        "colab_type": "code",
        "colab": {}
      },
      "source": [
        "survpct('FL')"
      ],
      "execution_count": null,
      "outputs": []
    },
    {
      "cell_type": "code",
      "metadata": {
        "_uuid": "668a230d-a378-43da-af0f-ae58bbf504d5",
        "_cell_guid": "606d2f08-8d89-467e-a86d-315143e733b0",
        "trusted": true,
        "id": "RX1-w5Due5Nk",
        "colab_type": "code",
        "colab": {}
      },
      "source": [
        "temp.FL.value_counts()"
      ],
      "execution_count": null,
      "outputs": []
    },
    {
      "cell_type": "code",
      "metadata": {
        "_uuid": "f4298a55-0bcb-4996-b385-551b76f63d18",
        "_cell_guid": "649c3afd-8628-456d-a54a-b4a5d8afebcd",
        "trusted": true,
        "id": "t7g9ks6ve5Nl",
        "colab_type": "code",
        "colab": {}
      },
      "source": [
        "temp['ML'] = 0\n",
        "temp.loc[(temp['Sex'] == 2), 'ML'] = 0\n",
        "temp.loc[(temp['Sex'] == 1) & (temp['Fgroup'] < 5), 'ML'] = 1\n",
        "temp.loc[(temp['Sex'] == 1) & (temp['Fgroup'] != 3), 'ML'] = 2\n",
        "temp.loc[(temp['Sex'] == 1) & (temp['MH'] <7), 'ML'] = 3\n",
        "temp.loc[(temp['Sex'] == 1) & (temp['Family'] < 2), 'ML'] = 4\n",
        "temp.loc[(temp['Sex'] == 1) & (temp['Family'] > 4), 'ML'] = 5\n",
        "temp.loc[(temp['Sex'] == 1) & (temp['Family'] == 1) & (temp['Pclass'] == 3), 'ML'] = 6"
      ],
      "execution_count": null,
      "outputs": []
    },
    {
      "cell_type": "code",
      "metadata": {
        "_uuid": "0ea99a54-1dd8-4f1e-9e96-ca83587b9aef",
        "_cell_guid": "7163bb08-952a-47dd-a045-b1a9ef7ede4f",
        "trusted": true,
        "id": "iREWmDjAe5Nm",
        "colab_type": "code",
        "colab": {}
      },
      "source": [
        "survpct('ML')"
      ],
      "execution_count": null,
      "outputs": []
    },
    {
      "cell_type": "code",
      "metadata": {
        "_uuid": "7e57e563-ac41-46c0-aca7-f3ebcfd4a556",
        "_cell_guid": "33f12c42-d824-4e06-8f50-b2cee7058fb3",
        "trusted": true,
        "id": "S7FySRche5Nn",
        "colab_type": "code",
        "colab": {}
      },
      "source": [
        "temp.ML.value_counts()"
      ],
      "execution_count": null,
      "outputs": []
    },
    {
      "cell_type": "code",
      "metadata": {
        "_uuid": "04f42339-a9d5-4270-ab87-3d5046c560fd",
        "_cell_guid": "6b4806d6-dbc3-42cd-a973-4968e33cb734",
        "trusted": true,
        "id": "9tK21QiSe5Nn",
        "colab_type": "code",
        "colab": {}
      },
      "source": [
        "temp['F1'] = temp['Priority']\n",
        "temp['F2'] = temp['FH']\n",
        "temp['F3'] = temp['MH']\n",
        "temp['F4'] = temp['FL']\n",
        "temp['F5'] = temp['ML']\n",
        "temp['F6'] = temp['Initial']\n",
        "temp['F7'] = temp['Fgroup']\n",
        "temp['F8'] = temp['NumName']\n",
        "temp['F9'] = temp['NumTicket']\n",
        "temp['F10'] = temp['Family']\n",
        "temp['F11'] = temp['Embarked']\n",
        "temp['F12'] = temp['Sex']\n",
        "temp['F13'] = temp['Pclass']"
      ],
      "execution_count": null,
      "outputs": []
    },
    {
      "cell_type": "code",
      "metadata": {
        "_uuid": "2f8632b6-ad01-42ed-8305-e4a16c639859",
        "_cell_guid": "f9f8d5ba-446d-47c8-a132-47ed24ed3d4f",
        "trusted": true,
        "id": "HfKEPq6Ge5Np",
        "colab_type": "code",
        "colab": {}
      },
      "source": [
        "from sklearn.preprocessing import OneHotEncoder, LabelEncoder"
      ],
      "execution_count": null,
      "outputs": []
    },
    {
      "cell_type": "code",
      "metadata": {
        "_uuid": "b4b726eb-f1e4-465c-a006-04a859c40bf4",
        "_cell_guid": "129fed72-8341-4f69-9cfd-0ebcd7a537c8",
        "trusted": true,
        "id": "OB-wOHwSe5Nq",
        "colab_type": "code",
        "colab": {}
      },
      "source": [
        "dfl = pd.DataFrame() \n",
        "# for label encoding"
      ],
      "execution_count": null,
      "outputs": []
    },
    {
      "cell_type": "code",
      "metadata": {
        "_uuid": "7581a210-d1e8-4c57-bd16-09be6c2e2e9e",
        "_cell_guid": "aaddbce4-53b2-450a-997f-1399f54e9296",
        "trusted": true,
        "id": "fUVsz8nLe5Nr",
        "colab_type": "code",
        "colab": {}
      },
      "source": [
        "good_columns = ['F1', 'F2', 'F3', 'F4', 'F5', 'F6', 'F7', 'F8', 'F9', 'F10', 'F11', 'F12', 'F13']\n",
        "dfl[good_columns] = temp[good_columns]"
      ],
      "execution_count": null,
      "outputs": []
    },
    {
      "cell_type": "code",
      "metadata": {
        "_uuid": "7bd54b47-b6cc-41c1-94fd-482191b8600d",
        "_cell_guid": "79e5c5ee-3ff7-4b3e-a289-29e3c02517b3",
        "trusted": true,
        "id": "wLDN2Sj_e5Nr",
        "colab_type": "code",
        "colab": {}
      },
      "source": [
        "dfl.head()"
      ],
      "execution_count": null,
      "outputs": []
    },
    {
      "cell_type": "code",
      "metadata": {
        "_uuid": "8f651980-4f94-4bb4-9255-8a1260ac83d0",
        "_cell_guid": "6cc76751-9af3-406e-8069-43a3b1184a33",
        "trusted": true,
        "id": "iCm1EY7De5Ns",
        "colab_type": "code",
        "colab": {}
      },
      "source": [
        "dfh = dfl.copy()"
      ],
      "execution_count": null,
      "outputs": []
    },
    {
      "cell_type": "code",
      "metadata": {
        "_uuid": "0f0020f3-dff2-4955-ab5f-4e4ed1f6d426",
        "_cell_guid": "bf77ce2b-1673-4327-bed7-6adea2b671c8",
        "trusted": true,
        "id": "USiOzZ4pe5Nu",
        "colab_type": "code",
        "colab": {}
      },
      "source": [
        "dfl_enc = dfl.apply(LabelEncoder().fit_transform)\n",
        "dfl_enc.head()"
      ],
      "execution_count": null,
      "outputs": []
    },
    {
      "cell_type": "code",
      "metadata": {
        "_uuid": "a260b3d3-d112-438e-86d7-2c6af1a46a42",
        "_cell_guid": "8963333c-256d-41e3-9f3c-69ed9a1c2f39",
        "trusted": true,
        "id": "vdezQlc8e5Nv",
        "colab_type": "code",
        "colab": {}
      },
      "source": [
        "one_hot_cols = dfh.columns.tolist()\n",
        "dfh_enc = pd.get_dummies(dfh, columns=one_hot_cols)\n",
        "dfh_enc.head()"
      ],
      "execution_count": null,
      "outputs": []
    },
    {
      "cell_type": "code",
      "metadata": {
        "_uuid": "db061f49-8d37-43ea-8d97-88721210e4a3",
        "_cell_guid": "e23b694f-3d9f-4a49-a41a-6972c9014d5e",
        "trusted": true,
        "id": "VpOXhNiPe5Nx",
        "colab_type": "code",
        "colab": {}
      },
      "source": [
        "train = dfh_enc[:ntrain]\n",
        "test = dfh_enc[ntrain:]"
      ],
      "execution_count": null,
      "outputs": []
    },
    {
      "cell_type": "code",
      "metadata": {
        "_uuid": "c212268a-022d-49cf-b285-ab1f9d2cdf6a",
        "_cell_guid": "4fec1a72-d3e8-4f64-9a86-c36ebea86f68",
        "trusted": true,
        "id": "qyW5o4Z9e5Ny",
        "colab_type": "code",
        "colab": {}
      },
      "source": [
        "X_test = test\n",
        "X_train = train"
      ],
      "execution_count": null,
      "outputs": []
    },
    {
      "cell_type": "code",
      "metadata": {
        "_uuid": "cc504a21-67b3-43d8-877a-e63ff3724924",
        "_cell_guid": "cdcf4cb8-e8d4-4ca5-8e2f-803cfe8c5fa4",
        "trusted": true,
        "id": "dG5YIHF9e5Nz",
        "colab_type": "code",
        "colab": {}
      },
      "source": [
        "scaler = StandardScaler()\n",
        "X_train = scaler.fit_transform(X_train)\n",
        "X_test = scaler.transform(X_test)"
      ],
      "execution_count": null,
      "outputs": []
    },
    {
      "cell_type": "code",
      "metadata": {
        "_uuid": "1c5f1dcb-77ac-41d5-818c-fcb7cb0fbf29",
        "_cell_guid": "326f1a0f-1d3a-441f-adf1-9aff0ddd6a44",
        "trusted": true,
        "id": "T7unfe9pe5N2",
        "colab_type": "code",
        "colab": {}
      },
      "source": [
        "ran = RandomForestClassifier(random_state=1)\n",
        "knn = KNeighborsClassifier()\n",
        "log = LogisticRegression()\n",
        "xgb = XGBClassifier()\n",
        "gbc = GradientBoostingClassifier()\n",
        "svc = SVC(probability=True)\n",
        "ext = ExtraTreesClassifier()\n",
        "ada = AdaBoostClassifier()\n",
        "gnb = GaussianNB()\n",
        "gpc = GaussianProcessClassifier()\n",
        "bag = BaggingClassifier()\n",
        "models = [ran, knn, log, xgb, gbc, svc, ext, ada, gnb, gpc, bag]         \n",
        "model_names = ['Random Forest', 'K Nearest Neighbour', 'Logistic Regression', 'XGBoost', 'Gradient Boosting', 'SVC', 'Extra Trees', 'AdaBoost', 'Gaussian Naive Bayes', 'Gaussian Process', 'Bagging Classifier']\n",
        "scores = {}\n",
        "# 이어서 연속적으로 모델을 학습 시키고 교차 검증합니다.\n",
        "for ind, mod in enumerate(models):\n",
        "    mod.fit(X_train, y_train)\n",
        "    acc = cross_val_score(mod, X_train, y_train, scoring = \"accuracy\", cv = 10)\n",
        "    scores[model_names[ind]] = acc"
      ],
      "execution_count": null,
      "outputs": []
    },
    {
      "cell_type": "code",
      "metadata": {
        "_uuid": "72f20132-7cfd-41c9-b029-ab3ef1761dc4",
        "_cell_guid": "71527848-6fca-4d30-a868-bf0078f7c59d",
        "trusted": true,
        "id": "uF0Xlqf2e5N3",
        "colab_type": "code",
        "colab": {
          "base_uri": "https://localhost:8080/",
          "height": 388
        },
        "outputId": "d4bf943d-53ab-4c8a-c23c-59f3e587df90"
      },
      "source": [
        "results = pd.DataFrame(scores).T\n",
        "results['mean'] = results.mean(1)\n",
        "result_df = results.sort_values(by='mean', ascending=False)\n",
        "#.reset_index()\n",
        "result_df.head(11)"
      ],
      "execution_count": null,
      "outputs": [
        {
          "output_type": "execute_result",
          "data": {
            "text/html": [
              "<div>\n",
              "<style scoped>\n",
              "    .dataframe tbody tr th:only-of-type {\n",
              "        vertical-align: middle;\n",
              "    }\n",
              "\n",
              "    .dataframe tbody tr th {\n",
              "        vertical-align: top;\n",
              "    }\n",
              "\n",
              "    .dataframe thead th {\n",
              "        text-align: right;\n",
              "    }\n",
              "</style>\n",
              "<table border=\"1\" class=\"dataframe\">\n",
              "  <thead>\n",
              "    <tr style=\"text-align: right;\">\n",
              "      <th></th>\n",
              "      <th>0</th>\n",
              "      <th>1</th>\n",
              "      <th>2</th>\n",
              "      <th>3</th>\n",
              "      <th>4</th>\n",
              "      <th>5</th>\n",
              "      <th>6</th>\n",
              "      <th>7</th>\n",
              "      <th>8</th>\n",
              "      <th>9</th>\n",
              "      <th>mean</th>\n",
              "    </tr>\n",
              "  </thead>\n",
              "  <tbody>\n",
              "    <tr>\n",
              "      <th>Bagging Classifier</th>\n",
              "      <td>0.855556</td>\n",
              "      <td>0.876404</td>\n",
              "      <td>0.764045</td>\n",
              "      <td>0.887640</td>\n",
              "      <td>0.887640</td>\n",
              "      <td>0.842697</td>\n",
              "      <td>0.853933</td>\n",
              "      <td>0.764045</td>\n",
              "      <td>0.842697</td>\n",
              "      <td>0.842697</td>\n",
              "      <td>0.841735</td>\n",
              "    </tr>\n",
              "    <tr>\n",
              "      <th>XGBoost</th>\n",
              "      <td>0.833333</td>\n",
              "      <td>0.820225</td>\n",
              "      <td>0.775281</td>\n",
              "      <td>0.898876</td>\n",
              "      <td>0.853933</td>\n",
              "      <td>0.831461</td>\n",
              "      <td>0.853933</td>\n",
              "      <td>0.764045</td>\n",
              "      <td>0.853933</td>\n",
              "      <td>0.842697</td>\n",
              "      <td>0.832772</td>\n",
              "    </tr>\n",
              "    <tr>\n",
              "      <th>Extra Trees</th>\n",
              "      <td>0.755556</td>\n",
              "      <td>0.865169</td>\n",
              "      <td>0.741573</td>\n",
              "      <td>0.887640</td>\n",
              "      <td>0.898876</td>\n",
              "      <td>0.865169</td>\n",
              "      <td>0.842697</td>\n",
              "      <td>0.775281</td>\n",
              "      <td>0.853933</td>\n",
              "      <td>0.831461</td>\n",
              "      <td>0.831735</td>\n",
              "    </tr>\n",
              "    <tr>\n",
              "      <th>Gradient Boosting</th>\n",
              "      <td>0.822222</td>\n",
              "      <td>0.831461</td>\n",
              "      <td>0.775281</td>\n",
              "      <td>0.887640</td>\n",
              "      <td>0.865169</td>\n",
              "      <td>0.831461</td>\n",
              "      <td>0.842697</td>\n",
              "      <td>0.797753</td>\n",
              "      <td>0.831461</td>\n",
              "      <td>0.831461</td>\n",
              "      <td>0.831660</td>\n",
              "    </tr>\n",
              "    <tr>\n",
              "      <th>SVC</th>\n",
              "      <td>0.833333</td>\n",
              "      <td>0.887640</td>\n",
              "      <td>0.797753</td>\n",
              "      <td>0.876404</td>\n",
              "      <td>0.865169</td>\n",
              "      <td>0.797753</td>\n",
              "      <td>0.808989</td>\n",
              "      <td>0.764045</td>\n",
              "      <td>0.865169</td>\n",
              "      <td>0.820225</td>\n",
              "      <td>0.831648</td>\n",
              "    </tr>\n",
              "    <tr>\n",
              "      <th>Random Forest</th>\n",
              "      <td>0.777778</td>\n",
              "      <td>0.876404</td>\n",
              "      <td>0.752809</td>\n",
              "      <td>0.887640</td>\n",
              "      <td>0.887640</td>\n",
              "      <td>0.842697</td>\n",
              "      <td>0.831461</td>\n",
              "      <td>0.775281</td>\n",
              "      <td>0.853933</td>\n",
              "      <td>0.820225</td>\n",
              "      <td>0.830587</td>\n",
              "    </tr>\n",
              "    <tr>\n",
              "      <th>Logistic Regression</th>\n",
              "      <td>0.800000</td>\n",
              "      <td>0.853933</td>\n",
              "      <td>0.797753</td>\n",
              "      <td>0.865169</td>\n",
              "      <td>0.876404</td>\n",
              "      <td>0.808989</td>\n",
              "      <td>0.820225</td>\n",
              "      <td>0.786517</td>\n",
              "      <td>0.853933</td>\n",
              "      <td>0.820225</td>\n",
              "      <td>0.828315</td>\n",
              "    </tr>\n",
              "    <tr>\n",
              "      <th>AdaBoost</th>\n",
              "      <td>0.811111</td>\n",
              "      <td>0.865169</td>\n",
              "      <td>0.786517</td>\n",
              "      <td>0.887640</td>\n",
              "      <td>0.853933</td>\n",
              "      <td>0.808989</td>\n",
              "      <td>0.808989</td>\n",
              "      <td>0.797753</td>\n",
              "      <td>0.820225</td>\n",
              "      <td>0.831461</td>\n",
              "      <td>0.827179</td>\n",
              "    </tr>\n",
              "    <tr>\n",
              "      <th>K Nearest Neighbour</th>\n",
              "      <td>0.788889</td>\n",
              "      <td>0.808989</td>\n",
              "      <td>0.786517</td>\n",
              "      <td>0.797753</td>\n",
              "      <td>0.842697</td>\n",
              "      <td>0.786517</td>\n",
              "      <td>0.786517</td>\n",
              "      <td>0.730337</td>\n",
              "      <td>0.842697</td>\n",
              "      <td>0.831461</td>\n",
              "      <td>0.800237</td>\n",
              "    </tr>\n",
              "    <tr>\n",
              "      <th>Gaussian Process</th>\n",
              "      <td>0.522222</td>\n",
              "      <td>0.696629</td>\n",
              "      <td>0.539326</td>\n",
              "      <td>0.494382</td>\n",
              "      <td>0.573034</td>\n",
              "      <td>0.528090</td>\n",
              "      <td>0.426966</td>\n",
              "      <td>0.561798</td>\n",
              "      <td>0.550562</td>\n",
              "      <td>0.606742</td>\n",
              "      <td>0.549975</td>\n",
              "    </tr>\n",
              "    <tr>\n",
              "      <th>Gaussian Naive Bayes</th>\n",
              "      <td>0.500000</td>\n",
              "      <td>0.505618</td>\n",
              "      <td>0.539326</td>\n",
              "      <td>0.483146</td>\n",
              "      <td>0.516854</td>\n",
              "      <td>0.505618</td>\n",
              "      <td>0.393258</td>\n",
              "      <td>0.561798</td>\n",
              "      <td>0.483146</td>\n",
              "      <td>0.606742</td>\n",
              "      <td>0.509551</td>\n",
              "    </tr>\n",
              "  </tbody>\n",
              "</table>\n",
              "</div>"
            ],
            "text/plain": [
              "                             0         1  ...         9      mean\n",
              "Bagging Classifier    0.855556  0.876404  ...  0.842697  0.841735\n",
              "XGBoost               0.833333  0.820225  ...  0.842697  0.832772\n",
              "Extra Trees           0.755556  0.865169  ...  0.831461  0.831735\n",
              "Gradient Boosting     0.822222  0.831461  ...  0.831461  0.831660\n",
              "SVC                   0.833333  0.887640  ...  0.820225  0.831648\n",
              "Random Forest         0.777778  0.876404  ...  0.820225  0.830587\n",
              "Logistic Regression   0.800000  0.853933  ...  0.820225  0.828315\n",
              "AdaBoost              0.811111  0.865169  ...  0.831461  0.827179\n",
              "K Nearest Neighbour   0.788889  0.808989  ...  0.831461  0.800237\n",
              "Gaussian Process      0.522222  0.696629  ...  0.606742  0.549975\n",
              "Gaussian Naive Bayes  0.500000  0.505618  ...  0.606742  0.509551\n",
              "\n",
              "[11 rows x 11 columns]"
            ]
          },
          "metadata": {
            "tags": []
          },
          "execution_count": 139
        }
      ]
    },
    {
      "cell_type": "code",
      "metadata": {
        "_uuid": "da782555-e813-442d-9202-21cea8c83ab2",
        "_cell_guid": "c57826be-f317-444c-b13c-f0b36c83c20f",
        "trusted": true,
        "id": "s9e1fdHae5N3",
        "colab_type": "code",
        "colab": {
          "base_uri": "https://localhost:8080/",
          "height": 305
        },
        "outputId": "9def12a4-ab1b-44bb-8247-8619603c0c6a"
      },
      "source": [
        "result_df = result_df.drop(['mean'], axis=1)\n",
        "sns.boxplot(data=result_df.T, orient='h')\n",
        "plt.title('Machine Learning Algorithm Accuracy Score \\n')\n",
        "plt.xlabel('Accuracy Score (%)');"
      ],
      "execution_count": null,
      "outputs": [
        {
          "output_type": "display_data",
          "data": {
            "image/png": "[encoded data removed]",
            "text/plain": [
              "<Figure size 432x288 with 1 Axes>"
            ]
          },
          "metadata": {
            "tags": [],
            "needs_background": "light"
          }
        }
      ]
    },
    {
      "cell_type": "code",
      "metadata": {
        "_uuid": "f4907e67-256c-48d9-a6a7-31c0b618b35c",
        "_cell_guid": "4397f6cb-46a7-45fa-b12d-1f81d3936d37",
        "trusted": true,
        "id": "sb2W5TqMe5N5",
        "colab_type": "code",
        "colab": {}
      },
      "source": [
        "# 중요도를 보는 함수를 만듭니다.\n",
        "def importance_plotting(data, xlabel, ylabel, title, n=20):\n",
        "    sns.set(style=\"whitegrid\")\n",
        "    ax = data.tail(n).plot(kind='barh')\n",
        "    ax.set(title=title, xlabel=xlabel, ylabel=ylabel)\n",
        "    ax.xaxis.grid(False)\n",
        "    ax.yaxis.grid(True)\n",
        "    plt.show()"
      ],
      "execution_count": null,
      "outputs": []
    },
    {
      "cell_type": "code",
      "metadata": {
        "_uuid": "0b85fb34-1255-421e-adc2-9884c7dbb6f1",
        "_cell_guid": "8234411f-6078-426a-a780-347ad625f139",
        "trusted": true,
        "id": "DEn1H6PRe5N5",
        "colab_type": "code",
        "colab": {}
      },
      "source": [
        "# 데이터 프레임에 항목 중요도를 넣습니다.\n",
        "fi = {'Features':train.columns.tolist(), 'Importance':xgb.feature_importances_}\n",
        "importance = pd.DataFrame(fi, index=fi['Features']).sort_values('Importance', ascending=True)"
      ],
      "execution_count": null,
      "outputs": []
    },
    {
      "cell_type": "code",
      "metadata": {
        "_uuid": "16c8c145-5404-441a-8238-4a6dfb76f3c5",
        "_cell_guid": "25d96047-94d0-4df5-890c-4c47d7ce20e7",
        "trusted": true,
        "id": "3GRm9Yvle5N8",
        "colab_type": "code",
        "colab": {
          "base_uri": "https://localhost:8080/",
          "height": 301
        },
        "outputId": "a3c5f43a-8262-4b67-ed30-a5f30783ccab"
      },
      "source": [
        "# 중요도를 데이터프레임에 넣습니다. Logistic regression에서는 중요도보다 coefficients를 사용합니다. \n",
        "# 아래는 Features라는 열에 트레인의 열들의 이름을 리스트로 만들어서 넣고 Importance에는 Logistic regression에는 coefficient를 바꾸어 넣어라는 넘파이 명령입니다.(즉 가로를 세로로)\n",
        "fi = {'Features':train.columns.tolist(), 'Importance':np.transpose(log.coef_[0])}\n",
        "importance = pd.DataFrame(fi, index=fi['Features']).sort_values('Importance', ascending=True)\n",
        "title = 'Top 20 important features in predicting survival on the Titanic: Logistic Regression'\n",
        "importance_plotting(importance, 'Importance', 'Features', title, 20)"
      ],
      "execution_count": null,
      "outputs": [
        {
          "output_type": "display_data",
          "data": {
            "image/png": "[encoded data removed]",
            "text/plain": [
              "<Figure size 432x288 with 1 Axes>"
            ]
          },
          "metadata": {
            "tags": []
          }
        }
      ]
    },
    {
      "cell_type": "code",
      "metadata": {
        "_uuid": "1c66280a-d412-43f8-8cdf-b7bcebc0b98d",
        "_cell_guid": "853c9d54-1f82-442d-8db5-cce4f139e7cb",
        "trusted": true,
        "id": "5q4jEbkse5N9",
        "colab_type": "code",
        "colab": {}
      },
      "source": [
        "# 5가지 모델에 대한 항목 중요도 얻기\n",
        "gbc_imp = pd.DataFrame({'Feature':train.columns, 'gbc importance':gbc.feature_importances_})\n",
        "xgb_imp = pd.DataFrame({'Feature':train.columns, 'xgb importance':xgb.feature_importances_})\n",
        "ran_imp = pd.DataFrame({'Feature':train.columns, 'ran importance':ran.feature_importances_})\n",
        "ext_imp = pd.DataFrame({'Feature':train.columns, 'ext importance':ext.feature_importances_})\n",
        "ada_imp = pd.DataFrame({'Feature':train.columns, 'ada importance':ada.feature_importances_})\n",
        "# 이를 하나의 데이터프레임으로\n",
        "importances = gbc_imp.merge(xgb_imp, on='Feature').merge(ran_imp, on='Feature').merge(ext_imp, on='Feature').merge(ada_imp, on='Feature')\n",
        "# 항목당 평균 중요도\n",
        "importances['Average'] = importances.mean(axis=1)\n",
        "# 랭킹 정하기\n",
        "importances = importances.sort_values(by='Average', ascending=False).reset_index(drop=True)"
      ],
      "execution_count": null,
      "outputs": []
    },
    {
      "cell_type": "code",
      "metadata": {
        "_uuid": "56842f9c-52e1-4b50-8e10-bc84167f0087",
        "_cell_guid": "c21ec025-aab1-406f-9a2b-26757f584779",
        "trusted": true,
        "id": "mrqrabL-e5N9",
        "colab_type": "code",
        "colab": {
          "base_uri": "https://localhost:8080/",
          "height": 301
        },
        "outputId": "1a8615f4-3e78-496e-bdf2-afd20675cdff"
      },
      "source": [
        "# 중요도를 다시 데이터 프레임에 넣기\n",
        "fi = {'Features':importances['Feature'], 'Importance':importances['Average']}\n",
        "importance = pd.DataFrame(fi).set_index('Features').sort_values('Importance', ascending=True)\n",
        "title = 'Top 20 important features in predicting survival on the Titanic: 5 model average'\n",
        "importance_plotting(importance, 'Importance', 'Features', title, 20)"
      ],
      "execution_count": null,
      "outputs": [
        {
          "output_type": "display_data",
          "data": {
            "image/png": "[encoded data removed]",
            "text/plain": [
              "<Figure size 432x288 with 1 Axes>"
            ]
          },
          "metadata": {
            "tags": []
          }
        }
      ]
    },
    {
      "cell_type": "code",
      "metadata": {
        "_uuid": "ff0b0377-6933-401d-8b05-3062b06dcf5f",
        "_cell_guid": "653a147a-b78c-4521-839f-a820dac1bb0d",
        "trusted": true,
        "id": "kS4tb1PGe5N_",
        "colab_type": "code",
        "colab": {}
      },
      "source": [
        "importance1 = importance[-381:]\n",
        "importance1[371:381]"
      ],
      "execution_count": null,
      "outputs": []
    },
    {
      "cell_type": "code",
      "metadata": {
        "_uuid": "ab817cb6-6139-451d-b537-839d12e6933a",
        "_cell_guid": "3a003ded-2405-4133-9be1-0d4637431f01",
        "trusted": true,
        "id": "0GImmqXSe5OA",
        "colab_type": "code",
        "colab": {}
      },
      "source": [
        "# 영양가 있는 380개만 넣기\n",
        "mylist = list(importance1.index)"
      ],
      "execution_count": null,
      "outputs": []
    },
    {
      "cell_type": "code",
      "metadata": {
        "_uuid": "35c1533e-c32a-496f-9ca2-e589976ebdce",
        "_cell_guid": "986b726a-baad-4d26-ab0f-b6c80446a9fd",
        "trusted": true,
        "id": "TvzcK1QGe5OA",
        "colab_type": "code",
        "colab": {}
      },
      "source": [
        "train1 = pd.DataFrame()\n",
        "test1 = pd.DataFrame()\n",
        "for i in mylist:\n",
        "    train1[i] = train[i]\n",
        "    test1[i]= test[i]"
      ],
      "execution_count": null,
      "outputs": []
    },
    {
      "cell_type": "code",
      "metadata": {
        "_uuid": "7b6f312b-d50b-46e7-85cd-e59673d3bbe4",
        "_cell_guid": "2c33874d-a1c2-4cdf-a2ad-ab22adba7043",
        "trusted": true,
        "id": "nv9ruHF9e5OC",
        "colab_type": "code",
        "colab": {}
      },
      "source": [
        "train = train1\n",
        "test = test1\n",
        "X_train = train\n",
        "X_test = test\n",
        "X_train = scaler.fit_transform(X_train)\n",
        "X_test = scaler.transform(X_test)"
      ],
      "execution_count": null,
      "outputs": []
    },
    {
      "cell_type": "code",
      "metadata": {
        "_uuid": "40b7602f-2740-42d2-9e31-3fb013dfc175",
        "_cell_guid": "a4842052-559b-46f9-bddb-23020052624c",
        "trusted": true,
        "id": "SJtrAzr0e5OD",
        "colab_type": "code",
        "colab": {}
      },
      "source": [
        "ran = RandomForestClassifier(random_state=1)\n",
        "knn = KNeighborsClassifier()\n",
        "log = LogisticRegression()\n",
        "xgb = XGBClassifier(random_state=1)\n",
        "gbc = GradientBoostingClassifier(random_state=1)\n",
        "svc = SVC(probability=True)\n",
        "ext = ExtraTreesClassifier(random_state=1)\n",
        "ada = AdaBoostClassifier(random_state=1)\n",
        "gnb = GaussianNB()\n",
        "gpc = GaussianProcessClassifier()\n",
        "bag = BaggingClassifier(random_state=1)\n",
        "\n",
        "models = [ran, knn, log, xgb, gbc, svc, ext, ada, gnb, gpc, bag]         \n",
        "model_names = ['Random Forest', 'K Nearest Neighbour', 'Logistic Regression', 'XGBoost', 'Gradient Boosting', 'SVC', 'Extra Trees', 'AdaBoost', 'Gaussian Naive Bayes', 'Gaussian Process', 'Bagging Classifier']\n",
        "scores2 = {}\n",
        "# 학습 및 교차 검증\n",
        "for ind, mod in enumerate(models):\n",
        "    mod.fit(X_train, y_train)\n",
        "    acc = cross_val_score(mod, X_train, y_train, scoring = \"accuracy\", cv = 10)\n",
        "    scores2[model_names[ind]] = acc"
      ],
      "execution_count": null,
      "outputs": []
    },
    {
      "cell_type": "code",
      "metadata": {
        "_uuid": "67b5e902-fa01-4986-a271-4bdf05ef773c",
        "_cell_guid": "abbd4bdc-ba21-42b2-9b99-5a0de6608e78",
        "trusted": true,
        "id": "u2uoIGcie5OE",
        "colab_type": "code",
        "colab": {
          "base_uri": "https://localhost:8080/",
          "height": 316
        },
        "outputId": "34e4c954-0539-4d1a-9e1d-46848c47f588"
      },
      "source": [
        "results = pd.DataFrame(scores2).T\n",
        "results['mean'] = results.mean(1)\n",
        "result_df = results.sort_values(by='mean', ascending=False)\n",
        "result_df = result_df.drop(['mean'], axis=1)\n",
        "sns.boxplot(data=result_df.T, orient='h')\n",
        "plt.title('Machine Learning Algorithm Accuracy Score \\n')\n",
        "plt.xlabel('Accuracy Score (%)');"
      ],
      "execution_count": null,
      "outputs": [
        {
          "output_type": "display_data",
          "data": {
            "image/png": "[encoded data removed]",
            "text/plain": [
              "<Figure size 432x288 with 1 Axes>"
            ]
          },
          "metadata": {
            "tags": []
          }
        }
      ]
    }
  ]
}