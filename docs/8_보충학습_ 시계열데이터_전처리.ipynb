{
  "nbformat": 4,
  "nbformat_minor": 0,
  "metadata": {
    "colab": {
      "name": "8_보충학습_ 시간데이터_전처리.ipynb",
      "provenance": [],
      "collapsed_sections": []
    },
    "kernelspec": {
      "name": "python3",
      "display_name": "Python 3"
    }
  },
  "cells": [
    {
      "cell_type": "markdown",
      "metadata": {
        "id": "rH84r4sjYOut",
        "colab_type": "text"
      },
      "source": [
        "기본과정 필기문제로 나온 내용이쥬?  \n",
        "다들 맞으셨나요?    \n",
        "저는 Box Plot으로 풀었는데 이게 답인 것 같습니다  \n",
        "거참  \n",
        "수업내용에서 두 문제씩 출제한다면서 안배운데서 내버리면 어쩌라는거요 👾   "
      ]
    },
    {
      "cell_type": "markdown",
      "metadata": {
        "id": "RCYOISlt4xZ2",
        "colab_type": "text"
      },
      "source": [
        "# 지수이동평균(Exponential Moving Average)  \n",
        "https://wikidocs.net/3395  \n",
        "-  최근에 높은 가중치를 주지만, 오래된 과거도 비록 낮은 영향력이지만 가중치  \n",
        "-  오늘의 종가에 w의 가중치를 주고 (1-w)를 어제의 이동평균에 주는 방식   \n",
        "-  결국 과거의 값도 지속적으로 영향력이 잔존   \n",
        "   -       1일 EMV(t) = (1-w) * EMV(t-1) + w * Price(t)  \n",
        "   -       2일 EMV(t) = (1-w) * ((1-w) * EMV(t-2) + w * Price(t-1)) + w * Price(t)  "
      ]
    },
    {
      "cell_type": "markdown",
      "metadata": {
        "id": "BwQwp0vB5A_J",
        "colab_type": "text"
      },
      "source": [
        "# 이동 시간 윈도 사용\n",
        "ivo_lee's study blog  \n",
        "https://ivo-lee.tistory.com/90  \n",
        "-  시계열 데이터에서 일정 시간 간격으로 통계를 계산    \n",
        "-  세 달을 시간 윈도로 이동 평균을 계산  \n",
        "-  세 달 크기의 시간 윈도가 각 단계마다 윈도의 평균을 계산하면서 샘플 위를 이동  \n",
        "  - mean(January, February, March)  \n",
        "  - mean(February, March, April)  \n",
        "  - mean(March, April, May )  \n",
        "\n",
        "-  rolling()는 window 매개변수에서 윈도 크기를 지정합니다.\n",
        "-  시간 윈도의 max(), mean(), count(), corr()와 같은 통계를 간편하게 계산할 수 있습니다.\n",
        "-  ewm() - 최근 항목에 높은 가중치를 두지만 전체 기간에 대한 통계를 계산하는 지수 이동 윈도"
      ]
    },
    {
      "cell_type": "code",
      "metadata": {
        "id": "h-h-avQX4rct",
        "colab_type": "code",
        "colab": {
          "base_uri": "https://localhost:8080/",
          "height": 203
        },
        "outputId": "d8fbd88f-998d-425a-e6d3-6aa8b6dd2456"
      },
      "source": [
        "import pandas as pd\n",
        "\n",
        "time_index = pd.date_range(\"08/24/2020\", periods=5, freq=\"M\")\n",
        "dataframe = pd.DataFrame(index=time_index)\n",
        "dataframe[\"Stock_Price\"] = [1,2,3,4,5] # 특성을 만듭니다.\n",
        "dataframe.rolling(window=2).mean() # 이동 평균을 계산\n",
        "dataframe.ewm(alpha=0.5).mean()"
      ],
      "execution_count": 1,
      "outputs": [
        {
          "output_type": "execute_result",
          "data": {
            "text/html": [
              "<div>\n",
              "<style scoped>\n",
              "    .dataframe tbody tr th:only-of-type {\n",
              "        vertical-align: middle;\n",
              "    }\n",
              "\n",
              "    .dataframe tbody tr th {\n",
              "        vertical-align: top;\n",
              "    }\n",
              "\n",
              "    .dataframe thead th {\n",
              "        text-align: right;\n",
              "    }\n",
              "</style>\n",
              "<table border=\"1\" class=\"dataframe\">\n",
              "  <thead>\n",
              "    <tr style=\"text-align: right;\">\n",
              "      <th></th>\n",
              "      <th>Stock_Price</th>\n",
              "    </tr>\n",
              "  </thead>\n",
              "  <tbody>\n",
              "    <tr>\n",
              "      <th>2020-08-31</th>\n",
              "      <td>1.000000</td>\n",
              "    </tr>\n",
              "    <tr>\n",
              "      <th>2020-09-30</th>\n",
              "      <td>1.666667</td>\n",
              "    </tr>\n",
              "    <tr>\n",
              "      <th>2020-10-31</th>\n",
              "      <td>2.428571</td>\n",
              "    </tr>\n",
              "    <tr>\n",
              "      <th>2020-11-30</th>\n",
              "      <td>3.266667</td>\n",
              "    </tr>\n",
              "    <tr>\n",
              "      <th>2020-12-31</th>\n",
              "      <td>4.161290</td>\n",
              "    </tr>\n",
              "  </tbody>\n",
              "</table>\n",
              "</div>"
            ],
            "text/plain": [
              "            Stock_Price\n",
              "2020-08-31     1.000000\n",
              "2020-09-30     1.666667\n",
              "2020-10-31     2.428571\n",
              "2020-11-30     3.266667\n",
              "2020-12-31     4.161290"
            ]
          },
          "metadata": {
            "tags": []
          },
          "execution_count": 1
        }
      ]
    },
    {
      "cell_type": "markdown",
      "metadata": {
        "id": "AggLDi_7OVu5",
        "colab_type": "text"
      },
      "source": [
        "https://www.openaitrading.com/python-pandas-%EC%9D%B4%EB%8F%99%ED%8F%89%EA%B7%A0-%EA%B5%AC%ED%95%98%EA%B8%B0/  \n",
        "### 가중 이동평균은 실제 (주식)종가의 움직임을 가장 유사하게 추종한다  \n",
        "- __주가의 움직임을 빠르게 반영하고 싶다면 선형 가중 이동평균__ \n",
        "- __종가의 일일 변동을 노이즈로 생각한다면 단순 이동평균__ "
      ]
    },
    {
      "cell_type": "markdown",
      "metadata": {
        "id": "B8IRKTGx5Elk",
        "colab_type": "text"
      },
      "source": [
        "# 시차 특성\n",
        "ivo_lee's study blog  \n",
        "https://ivo-lee.tistory.com/90  \n",
        "- 판다스의 shift를 사용하여 n기간 만큼 차이가 나는 시차 특성을 만들어 냄"
      ]
    },
    {
      "cell_type": "code",
      "metadata": {
        "id": "6FbiJiNd5H8U",
        "colab_type": "code",
        "colab": {
          "base_uri": "https://localhost:8080/",
          "height": 203
        },
        "outputId": "16c3fd59-07fc-4520-b23d-3d89babb3526"
      },
      "source": [
        "import pandas as pd\n",
        "\n",
        "dataframe = pd.DataFrame()\n",
        "dataframe[\"dates\"] = pd.date_range(\"8/24/2020\", periods=5, freq=\"D\")\n",
        "dataframe[\"stock_price\"] = [1.1,2.2,3.3,4.4,5.5]\n",
        "# 한 행 뒤의 값을 가져옵니다.\n",
        "dataframe[\"previous_days_stock_price\"] = dataframe[\"stock_price\"].shift(1)\n",
        "dataframe"
      ],
      "execution_count": 2,
      "outputs": [
        {
          "output_type": "execute_result",
          "data": {
            "text/html": [
              "<div>\n",
              "<style scoped>\n",
              "    .dataframe tbody tr th:only-of-type {\n",
              "        vertical-align: middle;\n",
              "    }\n",
              "\n",
              "    .dataframe tbody tr th {\n",
              "        vertical-align: top;\n",
              "    }\n",
              "\n",
              "    .dataframe thead th {\n",
              "        text-align: right;\n",
              "    }\n",
              "</style>\n",
              "<table border=\"1\" class=\"dataframe\">\n",
              "  <thead>\n",
              "    <tr style=\"text-align: right;\">\n",
              "      <th></th>\n",
              "      <th>dates</th>\n",
              "      <th>stock_price</th>\n",
              "      <th>previous_days_stock_price</th>\n",
              "    </tr>\n",
              "  </thead>\n",
              "  <tbody>\n",
              "    <tr>\n",
              "      <th>0</th>\n",
              "      <td>2020-08-24</td>\n",
              "      <td>1.1</td>\n",
              "      <td>NaN</td>\n",
              "    </tr>\n",
              "    <tr>\n",
              "      <th>1</th>\n",
              "      <td>2020-08-25</td>\n",
              "      <td>2.2</td>\n",
              "      <td>1.1</td>\n",
              "    </tr>\n",
              "    <tr>\n",
              "      <th>2</th>\n",
              "      <td>2020-08-26</td>\n",
              "      <td>3.3</td>\n",
              "      <td>2.2</td>\n",
              "    </tr>\n",
              "    <tr>\n",
              "      <th>3</th>\n",
              "      <td>2020-08-27</td>\n",
              "      <td>4.4</td>\n",
              "      <td>3.3</td>\n",
              "    </tr>\n",
              "    <tr>\n",
              "      <th>4</th>\n",
              "      <td>2020-08-28</td>\n",
              "      <td>5.5</td>\n",
              "      <td>4.4</td>\n",
              "    </tr>\n",
              "  </tbody>\n",
              "</table>\n",
              "</div>"
            ],
            "text/plain": [
              "       dates  stock_price  previous_days_stock_price\n",
              "0 2020-08-24          1.1                        NaN\n",
              "1 2020-08-25          2.2                        1.1\n",
              "2 2020-08-26          3.3                        2.2\n",
              "3 2020-08-27          4.4                        3.3\n",
              "4 2020-08-28          5.5                        4.4"
            ]
          },
          "metadata": {
            "tags": []
          },
          "execution_count": 2
        }
      ]
    }
  ]
}
