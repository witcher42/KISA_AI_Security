{
  "nbformat": 4,
  "nbformat_minor": 0,
  "metadata": {
    "colab": {
      "name": "xor_gate.ipynb",
      "provenance": [],
      "collapsed_sections": []
    },
    "kernelspec": {
      "name": "python3",
      "display_name": "Python 3"
    }
  },
  "cells": [
    {
      "cell_type": "code",
      "metadata": {
        "id": "SgbeF6J-9pQ_",
        "colab_type": "code",
        "colab": {}
      },
      "source": [
        "# KISA AI Security 특강 1일차 수업\n",
        "# ETRI 언어지능연구그룹 임수종 박사님\n",
        "# 2020.08.03\n",
        "import numpy as np"
      ],
      "execution_count": 1,
      "outputs": []
    },
    {
      "cell_type": "code",
      "metadata": {
        "id": "_U2Yu7Et7Xn2",
        "colab_type": "code",
        "colab": {
          "base_uri": "https://localhost:8080/",
          "height": 88
        },
        "outputId": "6e9bc81e-5244-4142-fea5-2cf3bd00463d"
      },
      "source": [
        "# XOR 게이트 구현\n",
        "def AND(x1,x2):\n",
        "    x = np.array([x1,x2])\n",
        "    w = np.array([0.5,0.5])\n",
        "    b = -0.7\n",
        "    tmp = np.sum(w * x) + b\n",
        "    if tmp <= 0:\n",
        "      return 0\n",
        "    else:\n",
        "      return 1\n",
        "def OR(x1,x2):\n",
        "    x = np.array([x1,x2])\n",
        "    w = np.array([0.5,0.5])\n",
        "    b = -0.2\n",
        "    tmp = np.sum(w * x) + b\n",
        "    if tmp <= 0:\n",
        "      return 0\n",
        "    else:\n",
        "      return 1\n",
        "def NAND(x1,x2):\n",
        "    x = np.array([x1,x2])\n",
        "    w = np.array([-0.5,-0.5])\n",
        "    b = 0.7\n",
        "    tmp = np.sum(w * x) + b\n",
        "    if tmp <= 0:\n",
        "      return 0\n",
        "    else:\n",
        "      return 1\n",
        "def XOR(x1,x2):\n",
        "  q1 = NAND(x1,x2)\n",
        "  q2 = OR(x1,x2)\n",
        "  y  = AND(q1,q2)\n",
        "  return y\n",
        "\n",
        "if __name__ == '__main__':\n",
        "  for xs in [(0,0),(1,0),(0,1),(1,1)]:\n",
        "    y = XOR(xs[0], xs[1])\n",
        "    print(str(xs)+\"->\"+str(y))"
      ],
      "execution_count": 9,
      "outputs": [
        {
          "output_type": "stream",
          "text": [
            "(0, 0)->0\n",
            "(1, 0)->1\n",
            "(0, 1)->1\n",
            "(1, 1)->0\n"
          ],
          "name": "stdout"
        }
      ]
    }
  ]
}