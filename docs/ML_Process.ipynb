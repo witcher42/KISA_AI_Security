{
  "nbformat": 4,
  "nbformat_minor": 0,
  "metadata": {
    "colab": {
      "name": "ML_Process.ipynb",
      "provenance": [],
      "collapsed_sections": []
    },
    "kernelspec": {
      "name": "python3",
      "display_name": "Python 3"
    }
  },
  "cells": [
    {
      "cell_type": "code",
      "metadata": {
        "id": "vEuaKgyMRvOb",
        "colab_type": "code",
        "colab": {}
      },
      "source": [
        "import pandas as pd\n",
        "from sklearn.metrics import accuracy_score\n",
        "# 데이타로드\n",
        "iris = load_iris()\n",
        "iris_data = iris.data\n",
        "iris_label = iris.target\n",
        "iris_df = pd.DataFrame(data=iris_data, columns=iris.feature_names)\n",
        "iris_df['label'] = iris.target\n",
        "# 학습용 데이터와 테스트용 데이터로 분류\n",
        "X_train, X_test, Y_train, Y_test = train_test_split(iris_data, iris_label, test_size=0.2, random_state=1)\n",
        "# 머신러닝 분류 알고리즘 선택\n",
        "Classifier = DecisionTreeClassifier(random_state=1)\n",
        "# 학습 수행 \n",
        "Classifier.fit(X_train, Y_train)\n",
        "# 테스트 데이터 세트로 예측 \n",
        "pred = Classifier.predict(X_test)\n",
        "# 예측 정확도 평가\n",
        "print('{0:.4f}'.format(accuracy_score(Y_test,pred)))"
      ],
      "execution_count": null,
      "outputs": []
    },
    {
      "cell_type": "code",
      "metadata": {
        "id": "C22V0e7qR5Mh",
        "colab_type": "code",
        "colab": {}
      },
      "source": [
        ""
      ],
      "execution_count": null,
      "outputs": []
    }
  ]
}