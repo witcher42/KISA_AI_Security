{
  "nbformat": 4,
  "nbformat_minor": 0,
  "metadata": {
    "kernelspec": {
      "display_name": "Python 3",
      "language": "python",
      "name": "python3"
    },
    "language_info": {
      "codemirror_mode": {
        "name": "ipython",
        "version": 3
      },
      "file_extension": ".py",
      "mimetype": "text/x-python",
      "name": "python",
      "nbconvert_exporter": "python",
      "pygments_lexer": "ipython3",
      "version": "3.7.3"
    },
    "colab": {
      "name": "Entropy.ipynb",
      "provenance": [],
      "collapsed_sections": []
    }
  },
  "cells": [
    {
      "cell_type": "code",
      "metadata": {
        "id": "RUKC6MReU1rR",
        "colab_type": "code",
        "colab": {}
      },
      "source": [
        "# 특강을 제공해주지 않아서 스스로 찾아들은 특강\n",
        "# 이호진 책임연구원님 수업 - 도메인생성공격 탐지 실습 \n",
        "# 2020.08.14\n",
        "import math"
      ],
      "execution_count": null,
      "outputs": []
    },
    {
      "cell_type": "markdown",
      "metadata": {
        "id": "XGCXdbD3Tnzs",
        "colab_type": "text"
      },
      "source": [
        "# 데이터 전처리 - 엔트로피"
      ]
    },
    {
      "cell_type": "code",
      "metadata": {
        "id": "GiHlBPduTn4F",
        "colab_type": "code",
        "colab": {}
      },
      "source": [
        "def hist(source):\n",
        "    hist = {} \n",
        "    l = 0\n",
        "    for e in source:\n",
        "        l = l + 1\n",
        "        if e not in hist:\n",
        "        # google.com 이면 g처음은 0 g두번째는 1\n",
        "            hist[e] = 0\n",
        "        hist[e] = hist[e] + 1\n",
        "    return (l,hist)\n",
        " \n",
        "def entropy(hist,l):\n",
        "    elist = []\n",
        "    for v in hist.values():\n",
        "        c = v / l\n",
        "        elist.append(-c * math.log(c,2))\n",
        "    return sum(elist)\n",
        "    \n",
        "def get_entropy(sub_list):\n",
        "    entro_list = []\n",
        "    for sub in sub_list:\n",
        "        if sub == 'column':\n",
        "            entro_list.append('entropy')\n",
        "            continue\n",
        "        l,h = hist(sub)\n",
        "        result = entropy(h,l)\n",
        "        entro_list.append(result)\n",
        "    return (entro_list)"
      ],
      "execution_count": null,
      "outputs": []
    },
    {
      "cell_type": "code",
      "metadata": {
        "id": "fOVUmBKsTn4L",
        "colab_type": "code",
        "colab": {},
        "outputId": "a3b01544-032a-4cf8-d135-b658fffdf6c7"
      },
      "source": [
        "get_entropy(['naver','google','1asdfa1231231239sa'])\n",
        "# 엔트로피가 높다 = 다음 문자 예측 불가 = 정보가 불확실 = 확률이 낮음"
      ],
      "execution_count": null,
      "outputs": [
        {
          "output_type": "execute_result",
          "data": {
            "text/plain": [
              "[2.321928094887362, 1.9182958340544893, 2.8218881955261788]"
            ]
          },
          "metadata": {
            "tags": []
          },
          "execution_count": 49
        }
      ]
    },
    {
      "cell_type": "code",
      "metadata": {
        "id": "3jrAtbmHTn4P",
        "colab_type": "code",
        "colab": {}
      },
      "source": [
        "data['entropy'] = get_entropy(data['domain'])"
      ],
      "execution_count": null,
      "outputs": []
    },
    {
      "cell_type": "code",
      "metadata": {
        "id": "IVPanMYPTn4U",
        "colab_type": "code",
        "colab": {},
        "outputId": "01628e31-d4df-4cd8-c128-d44876d47f96"
      },
      "source": [
        "data.head()"
      ],
      "execution_count": null,
      "outputs": [
        {
          "output_type": "execute_result",
          "data": {
            "text/html": [
              "<div>\n",
              "<style scoped>\n",
              "    .dataframe tbody tr th:only-of-type {\n",
              "        vertical-align: middle;\n",
              "    }\n",
              "\n",
              "    .dataframe tbody tr th {\n",
              "        vertical-align: top;\n",
              "    }\n",
              "\n",
              "    .dataframe thead th {\n",
              "        text-align: right;\n",
              "    }\n",
              "</style>\n",
              "<table border=\"1\" class=\"dataframe\">\n",
              "  <thead>\n",
              "    <tr style=\"text-align: right;\">\n",
              "      <th></th>\n",
              "      <th>url</th>\n",
              "      <th>dga</th>\n",
              "      <th>class</th>\n",
              "      <th>domain</th>\n",
              "      <th>tld</th>\n",
              "      <th>length</th>\n",
              "      <th>class_t</th>\n",
              "      <th>three</th>\n",
              "      <th>vowels</th>\n",
              "      <th>conson</th>\n",
              "      <th>num</th>\n",
              "      <th>entropy</th>\n",
              "    </tr>\n",
              "  </thead>\n",
              "  <tbody>\n",
              "    <tr>\n",
              "      <th>0</th>\n",
              "      <td>http://vsviqe.com</td>\n",
              "      <td>yes</td>\n",
              "      <td>19</td>\n",
              "      <td>vsviqe</td>\n",
              "      <td>com</td>\n",
              "      <td>6</td>\n",
              "      <td>6</td>\n",
              "      <td>1</td>\n",
              "      <td>0.333333</td>\n",
              "      <td>0.666667</td>\n",
              "      <td>0.000000</td>\n",
              "      <td>2.251629</td>\n",
              "    </tr>\n",
              "    <tr>\n",
              "      <th>1</th>\n",
              "      <td>http://170qknj1onn4c37qf1w71rzei1h.org</td>\n",
              "      <td>yes</td>\n",
              "      <td>6</td>\n",
              "      <td>170qknj1onn4c37qf1w71rzei1h</td>\n",
              "      <td>org</td>\n",
              "      <td>27</td>\n",
              "      <td>27</td>\n",
              "      <td>2</td>\n",
              "      <td>0.111111</td>\n",
              "      <td>0.888889</td>\n",
              "      <td>0.407407</td>\n",
              "      <td>3.898613</td>\n",
              "    </tr>\n",
              "    <tr>\n",
              "      <th>2</th>\n",
              "      <td>http://smartidpro.in</td>\n",
              "      <td>no</td>\n",
              "      <td>0</td>\n",
              "      <td>smartidpro</td>\n",
              "      <td>in</td>\n",
              "      <td>10</td>\n",
              "      <td>10</td>\n",
              "      <td>1</td>\n",
              "      <td>0.300000</td>\n",
              "      <td>0.700000</td>\n",
              "      <td>0.000000</td>\n",
              "      <td>3.121928</td>\n",
              "    </tr>\n",
              "    <tr>\n",
              "      <th>3</th>\n",
              "      <td>http://9mtrkmet8rjnpya4.ru</td>\n",
              "      <td>yes</td>\n",
              "      <td>2</td>\n",
              "      <td>9mtrkmet8rjnpya4</td>\n",
              "      <td>ru</td>\n",
              "      <td>16</td>\n",
              "      <td>16</td>\n",
              "      <td>2</td>\n",
              "      <td>0.125000</td>\n",
              "      <td>0.875000</td>\n",
              "      <td>0.187500</td>\n",
              "      <td>3.625000</td>\n",
              "    </tr>\n",
              "    <tr>\n",
              "      <th>4</th>\n",
              "      <td>http://ypyxhi.com</td>\n",
              "      <td>yes</td>\n",
              "      <td>19</td>\n",
              "      <td>ypyxhi</td>\n",
              "      <td>com</td>\n",
              "      <td>6</td>\n",
              "      <td>6</td>\n",
              "      <td>1</td>\n",
              "      <td>0.166667</td>\n",
              "      <td>0.833333</td>\n",
              "      <td>0.000000</td>\n",
              "      <td>2.251629</td>\n",
              "    </tr>\n",
              "  </tbody>\n",
              "</table>\n",
              "</div>"
            ],
            "text/plain": [
              "                                      url  dga  class  \\\n",
              "0                       http://vsviqe.com  yes     19   \n",
              "1  http://170qknj1onn4c37qf1w71rzei1h.org  yes      6   \n",
              "2                    http://smartidpro.in   no      0   \n",
              "3              http://9mtrkmet8rjnpya4.ru  yes      2   \n",
              "4                       http://ypyxhi.com  yes     19   \n",
              "\n",
              "                        domain  tld  length  class_t  three    vowels  \\\n",
              "0                       vsviqe  com       6        6      1  0.333333   \n",
              "1  170qknj1onn4c37qf1w71rzei1h  org      27       27      2  0.111111   \n",
              "2                   smartidpro   in      10       10      1  0.300000   \n",
              "3             9mtrkmet8rjnpya4   ru      16       16      2  0.125000   \n",
              "4                       ypyxhi  com       6        6      1  0.166667   \n",
              "\n",
              "     conson       num   entropy  \n",
              "0  0.666667  0.000000  2.251629  \n",
              "1  0.888889  0.407407  3.898613  \n",
              "2  0.700000  0.000000  3.121928  \n",
              "3  0.875000  0.187500  3.625000  \n",
              "4  0.833333  0.000000  2.251629  "
            ]
          },
          "metadata": {
            "tags": []
          },
          "execution_count": 51
        }
      ]
    }
  ]
}