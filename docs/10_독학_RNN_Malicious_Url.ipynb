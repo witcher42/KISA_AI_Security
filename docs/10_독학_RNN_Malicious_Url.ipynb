{
  "nbformat": 4,
  "nbformat_minor": 0,
  "metadata": {
    "colab": {
      "name": "11_독학_RNN_Malicious_Url.ipynb",
      "provenance": [],
      "collapsed_sections": []
    },
    "kernelspec": {
      "name": "python3",
      "display_name": "Python 3"
    }
  },
  "cells": [
    {
      "cell_type": "markdown",
      "metadata": {
        "id": "0v0Ijwbg4EIc",
        "colab_type": "text"
      },
      "source": [
        "#### AI 수업 끝나고 챌린지 팀플 전까지 개인플레이 시작 🤬\n",
        "#### 🎬 "
      ]
    },
    {
      "cell_type": "markdown",
      "metadata": {
        "id": "n2kufQCIGAXR",
        "colab_type": "text"
      },
      "source": [
        "# 딥러닝 순환 신경망으로 악성 URL 탐지하기(Malicious URL Detection with RNN)\n",
        "#### 2020 AI 챌린지 대회 웹로그 이상행위 패턴분석의 재료로 쓰세요!  \n",
        "#### 원본 비정상 이메일 분석 코드의 링크는 아래에 있습니다!\n",
        "fork Spam_Filtering.ipynb  \n",
        "https://github.com/witcher42/KISA_AI_Security/blob/master/docs/Spam_Filtering.ipynb\n"
      ]
    },
    {
      "cell_type": "code",
      "metadata": {
        "id": "IG_9WPtSBs8j",
        "colab_type": "code",
        "colab": {}
      },
      "source": [
        "import numpy as np\n",
        "import pandas as pd\n",
        "import random\n",
        "%matplotlib inline\n",
        "import matplotlib.pyplot as plt\n",
        "import urllib.request\n",
        "from sklearn.feature_extraction.text import CountVectorizer\n",
        "from sklearn.feature_extraction.text import TfidfVectorizer\n",
        "from sklearn.linear_model import LogisticRegression\n",
        "from sklearn.model_selection import train_test_split\n",
        "from tensorflow.keras.preprocessing.text import Tokenizer\n",
        "from tensorflow.keras.preprocessing.sequence import pad_sequences"
      ],
      "execution_count": 24,
      "outputs": []
    },
    {
      "cell_type": "code",
      "metadata": {
        "id": "GQd4Ug2KCBxT",
        "colab_type": "code",
        "colab": {}
      },
      "source": [
        "urllib.request.urlretrieve(\"https://raw.githubusercontent.com/Jcharis/Machine-Learning-In-Julia-JCharisTech/master/urldata.csv\", filename=\"url.csv\")\n",
        "data = pd.read_csv('url.csv')"
      ],
      "execution_count": 25,
      "outputs": []
    },
    {
      "cell_type": "code",
      "metadata": {
        "id": "hudPdWp7CFCZ",
        "colab_type": "code",
        "colab": {
          "base_uri": "https://localhost:8080/",
          "height": 36
        },
        "outputId": "32feefeb-214d-4187-b26f-33297e8dae30"
      },
      "source": [
        "print('데이터 개수 :',len(data))"
      ],
      "execution_count": 26,
      "outputs": [
        {
          "output_type": "stream",
          "text": [
            "데이터 개수 : 420464\n"
          ],
          "name": "stdout"
        }
      ]
    },
    {
      "cell_type": "code",
      "metadata": {
        "id": "raXcuElmCGlA",
        "colab_type": "code",
        "colab": {
          "base_uri": "https://localhost:8080/",
          "height": 202
        },
        "outputId": "0cc2ffbe-ac19-41fb-bdb1-d5d2e09d2f04"
      },
      "source": [
        "data[:5]"
      ],
      "execution_count": 27,
      "outputs": [
        {
          "output_type": "execute_result",
          "data": {
            "text/html": [
              "<div>\n",
              "<style scoped>\n",
              "    .dataframe tbody tr th:only-of-type {\n",
              "        vertical-align: middle;\n",
              "    }\n",
              "\n",
              "    .dataframe tbody tr th {\n",
              "        vertical-align: top;\n",
              "    }\n",
              "\n",
              "    .dataframe thead th {\n",
              "        text-align: right;\n",
              "    }\n",
              "</style>\n",
              "<table border=\"1\" class=\"dataframe\">\n",
              "  <thead>\n",
              "    <tr style=\"text-align: right;\">\n",
              "      <th></th>\n",
              "      <th>url</th>\n",
              "      <th>label</th>\n",
              "    </tr>\n",
              "  </thead>\n",
              "  <tbody>\n",
              "    <tr>\n",
              "      <th>0</th>\n",
              "      <td>diaryofagameaddict.com</td>\n",
              "      <td>bad</td>\n",
              "    </tr>\n",
              "    <tr>\n",
              "      <th>1</th>\n",
              "      <td>espdesign.com.au</td>\n",
              "      <td>bad</td>\n",
              "    </tr>\n",
              "    <tr>\n",
              "      <th>2</th>\n",
              "      <td>iamagameaddict.com</td>\n",
              "      <td>bad</td>\n",
              "    </tr>\n",
              "    <tr>\n",
              "      <th>3</th>\n",
              "      <td>kalantzis.net</td>\n",
              "      <td>bad</td>\n",
              "    </tr>\n",
              "    <tr>\n",
              "      <th>4</th>\n",
              "      <td>slightlyoffcenter.net</td>\n",
              "      <td>bad</td>\n",
              "    </tr>\n",
              "  </tbody>\n",
              "</table>\n",
              "</div>"
            ],
            "text/plain": [
              "                      url label\n",
              "0  diaryofagameaddict.com   bad\n",
              "1        espdesign.com.au   bad\n",
              "2      iamagameaddict.com   bad\n",
              "3           kalantzis.net   bad\n",
              "4   slightlyoffcenter.net   bad"
            ]
          },
          "metadata": {
            "tags": []
          },
          "execution_count": 27
        }
      ]
    },
    {
      "cell_type": "code",
      "metadata": {
        "id": "k2ybuE3DCR44",
        "colab_type": "code",
        "colab": {
          "base_uri": "https://localhost:8080/",
          "height": 202
        },
        "outputId": "318b672e-e41c-4a35-adad-37126ec37656"
      },
      "source": [
        "# good과 bad 레이블을 0과 1로!!!!!!!!!\n",
        "data['label'] = data['label'].replace(['good','bad'],[0,1])\n",
        "data[:5]"
      ],
      "execution_count": 28,
      "outputs": [
        {
          "output_type": "execute_result",
          "data": {
            "text/html": [
              "<div>\n",
              "<style scoped>\n",
              "    .dataframe tbody tr th:only-of-type {\n",
              "        vertical-align: middle;\n",
              "    }\n",
              "\n",
              "    .dataframe tbody tr th {\n",
              "        vertical-align: top;\n",
              "    }\n",
              "\n",
              "    .dataframe thead th {\n",
              "        text-align: right;\n",
              "    }\n",
              "</style>\n",
              "<table border=\"1\" class=\"dataframe\">\n",
              "  <thead>\n",
              "    <tr style=\"text-align: right;\">\n",
              "      <th></th>\n",
              "      <th>url</th>\n",
              "      <th>label</th>\n",
              "    </tr>\n",
              "  </thead>\n",
              "  <tbody>\n",
              "    <tr>\n",
              "      <th>0</th>\n",
              "      <td>diaryofagameaddict.com</td>\n",
              "      <td>1</td>\n",
              "    </tr>\n",
              "    <tr>\n",
              "      <th>1</th>\n",
              "      <td>espdesign.com.au</td>\n",
              "      <td>1</td>\n",
              "    </tr>\n",
              "    <tr>\n",
              "      <th>2</th>\n",
              "      <td>iamagameaddict.com</td>\n",
              "      <td>1</td>\n",
              "    </tr>\n",
              "    <tr>\n",
              "      <th>3</th>\n",
              "      <td>kalantzis.net</td>\n",
              "      <td>1</td>\n",
              "    </tr>\n",
              "    <tr>\n",
              "      <th>4</th>\n",
              "      <td>slightlyoffcenter.net</td>\n",
              "      <td>1</td>\n",
              "    </tr>\n",
              "  </tbody>\n",
              "</table>\n",
              "</div>"
            ],
            "text/plain": [
              "                      url  label\n",
              "0  diaryofagameaddict.com      1\n",
              "1        espdesign.com.au      1\n",
              "2      iamagameaddict.com      1\n",
              "3           kalantzis.net      1\n",
              "4   slightlyoffcenter.net      1"
            ]
          },
          "metadata": {
            "tags": []
          },
          "execution_count": 28
        }
      ]
    },
    {
      "cell_type": "code",
      "metadata": {
        "id": "rwYr7osXCaCR",
        "colab_type": "code",
        "colab": {
          "base_uri": "https://localhost:8080/",
          "height": 36
        },
        "outputId": "938fa804-72e5-44d5-977a-53b6ca3b0519"
      },
      "source": [
        "data.isnull().values.any()"
      ],
      "execution_count": 29,
      "outputs": [
        {
          "output_type": "execute_result",
          "data": {
            "text/plain": [
              "False"
            ]
          },
          "metadata": {
            "tags": []
          },
          "execution_count": 29
        }
      ]
    },
    {
      "cell_type": "code",
      "metadata": {
        "id": "3jVFhetjCmIo",
        "colab_type": "code",
        "colab": {
          "base_uri": "https://localhost:8080/",
          "height": 36
        },
        "outputId": "9b214e9b-91d2-4cda-9303-c96c33a741f1"
      },
      "source": [
        "data['url'].nunique(), data['label'].nunique()\n",
        "# 총 420,464개의 샘플이 존재  \n",
        "# url에서 중복을 제거한 샘플의 개수가 411,247개라는 것은 중복 샘플이 존재한다는 의미"
      ],
      "execution_count": 30,
      "outputs": [
        {
          "output_type": "execute_result",
          "data": {
            "text/plain": [
              "(411247, 2)"
            ]
          },
          "metadata": {
            "tags": []
          },
          "execution_count": 30
        }
      ]
    },
    {
      "cell_type": "code",
      "metadata": {
        "id": "bHtI3-ztldRP",
        "colab_type": "code",
        "colab": {}
      },
      "source": [
        "data.drop_duplicates(subset=['url'], inplace=True)"
      ],
      "execution_count": 33,
      "outputs": []
    },
    {
      "cell_type": "code",
      "metadata": {
        "id": "f_Unl7BxCoFI",
        "colab_type": "code",
        "colab": {
          "base_uri": "https://localhost:8080/",
          "height": 262
        },
        "outputId": "024047d4-64e7-44bd-f789-3845bf6e1823"
      },
      "source": [
        "data['url'].value_counts().plot(kind='bar');"
      ],
      "execution_count": null,
      "outputs": [
        {
          "output_type": "display_data",
          "data": {
            "image/png": "[encoded data removed]",
            "text/plain": [
              "<Figure size 432x288 with 1 Axes>"
            ]
          },
          "metadata": {
            "tags": [],
            "needs_background": "light"
          }
        }
      ]
    },
    {
      "cell_type": "code",
      "metadata": {
        "id": "kFc_zqurCuGA",
        "colab_type": "code",
        "colab": {
          "base_uri": "https://localhost:8080/",
          "height": 73
        },
        "outputId": "49ce7a17-08d3-49fd-b5e6-6255a922ad74"
      },
      "source": [
        "# 대다수의 악성 URL 데이터가 정상이다  \n",
        "print(data.groupby('label').size().reset_index(name='count'))"
      ],
      "execution_count": 34,
      "outputs": [
        {
          "output_type": "stream",
          "text": [
            "   label   count\n",
            "0      0  344800\n",
            "1      1   66447\n"
          ],
          "name": "stdout"
        }
      ]
    },
    {
      "cell_type": "code",
      "metadata": {
        "id": "G_6h6ypXC0-Y",
        "colab_type": "code",
        "colab": {
          "base_uri": "https://localhost:8080/",
          "height": 55
        },
        "outputId": "0ee5419d-42ce-4ad1-cb1a-1c873744ccab"
      },
      "source": [
        "X_data = data['url']\n",
        "y_data = data['label']\n",
        "print('중복 제거 후 URL 개수: {}'.format(len(X_data)))"
      ],
      "execution_count": 35,
      "outputs": [
        {
          "output_type": "stream",
          "text": [
            "중복 제거 후 URL 개수: 411247\n",
            "레이블의 개수: 411247\n"
          ],
          "name": "stdout"
        }
      ]
    },
    {
      "cell_type": "code",
      "metadata": {
        "id": "pfR1IRCw1Iz_",
        "colab_type": "code",
        "colab": {}
      },
      "source": [
        "# 내장함수 사용하여 url 분리. 이게 바로 자동화 아니겠슴니꽈\n",
        "vectorizer = TfidfVectorizer()\n",
        "tokenX = vectorizer.fit_transform(X_data)"
      ],
      "execution_count": 36,
      "outputs": []
    },
    {
      "cell_type": "code",
      "metadata": {
        "id": "e5kEhlww1Y9d",
        "colab_type": "code",
        "colab": {}
      },
      "source": [
        "X_train, X_test, y_train, y_test = train_test_split(tokenX, y_data, test_size=0.2, random_state=42)"
      ],
      "execution_count": 37,
      "outputs": []
    },
    {
      "cell_type": "code",
      "metadata": {
        "id": "1Y3B5v3E1ixd",
        "colab_type": "code",
        "colab": {
          "base_uri": "https://localhost:8080/",
          "height": 111
        },
        "outputId": "e1ebff4e-da3a-431c-c911-b20aeb93167e"
      },
      "source": [
        "LR = LogisticRegression(max_iter=500, random_state=42)\t\n",
        "# Life is 42\n",
        "LR.fit(X_train, y_train)"
      ],
      "execution_count": 38,
      "outputs": [
        {
          "output_type": "execute_result",
          "data": {
            "text/plain": [
              "LogisticRegression(C=1.0, class_weight=None, dual=False, fit_intercept=True,\n",
              "                   intercept_scaling=1, l1_ratio=None, max_iter=500,\n",
              "                   multi_class='auto', n_jobs=None, penalty='l2',\n",
              "                   random_state=42, solver='lbfgs', tol=0.0001, verbose=0,\n",
              "                   warm_start=False)"
            ]
          },
          "metadata": {
            "tags": []
          },
          "execution_count": 38
        }
      ]
    },
    {
      "cell_type": "code",
      "metadata": {
        "id": "bcIvpWBP21zJ",
        "colab_type": "code",
        "colab": {
          "base_uri": "https://localhost:8080/",
          "height": 55
        },
        "outputId": "23af4566-8cb0-4830-d128-fa9d69799a15"
      },
      "source": [
        "print(\"\\n 테스트 정확도: %.4f\" % (LR.score(X_test, y_test)))"
      ],
      "execution_count": 39,
      "outputs": [
        {
          "output_type": "stream",
          "text": [
            "\n",
            " 테스트 정확도: 0.9652\n"
          ],
          "name": "stdout"
        }
      ]
    },
    {
      "cell_type": "code",
      "metadata": {
        "id": "7XESXdPN8ihn",
        "colab_type": "code",
        "colab": {}
      },
      "source": [
        "# 등장 빈도수가 1회 밖에 되지 않는 단어들이 전체 단어 집합에서 얼만큼의 비율을 차지하며,   \n",
        "# 전체 훈련 데이터에서 등장 빈도로 얼만큼의 비율을 차지하는지 확인  \n",
        "threshold = 2\n",
        "tokenizer = Tokenizer()\n",
        "tokenizer.fit_on_texts(X_data) # 5X의 각 행에 토큰화를 수행\n",
        "sequences = tokenizer.texts_to_sequences(X_data) # 단어를 숫자로  \n",
        "word_to_index = tokenizer.word_index\n",
        "total_cnt = len(word_to_index) # 단어의 수\n",
        "rare_cnt = 0 # 등장 빈도수가 threshold보다 작은 단어의 개수를 카운트\n",
        "total_freq = 0 # 훈련 데이터의 전체 단어 빈도수 총 합\n",
        "rare_freq = 0 # 등장 빈도수가 threshold보다 작은 단어의 등장 빈도수의 총 합"
      ],
      "execution_count": 40,
      "outputs": []
    },
    {
      "cell_type": "code",
      "metadata": {
        "id": "uJcI9Csm8mmE",
        "colab_type": "code",
        "colab": {}
      },
      "source": [
        "for key, value in tokenizer.word_counts.items():\n",
        "    total_freq = total_freq + value\n",
        "    if(value < threshold):\n",
        "        rare_cnt = rare_cnt + 1\n",
        "        rare_freq = rare_freq + value"
      ],
      "execution_count": 41,
      "outputs": []
    },
    {
      "cell_type": "code",
      "metadata": {
        "id": "PzeyrPppDI1B",
        "colab_type": "code",
        "colab": {
          "base_uri": "https://localhost:8080/",
          "height": 73
        },
        "outputId": "6dcc31da-845f-469c-98a6-d9d69008b1d9"
      },
      "source": [
        "print('등장 빈도가 %s번 이하인 희귀 단어의 수: %s'%(threshold - 1, rare_cnt))\n",
        "print(\"단어 집합(vocabulary)에서 희귀 단어의 비율:\", (rare_cnt / total_cnt)*100)\n",
        "print(\"전체 등장 빈도에서 희귀 단어 등장 빈도 비율:\", (rare_freq / total_freq)*100)"
      ],
      "execution_count": 42,
      "outputs": [
        {
          "output_type": "stream",
          "text": [
            "등장 빈도가 1번 이하인 희귀 단어의 수: 284716\n",
            "단어 집합(vocabulary)에서 희귀 단어의 비율: 74.30287878115679\n",
            "전체 등장 빈도에서 희귀 단어 등장 빈도 비율: 9.503734019886956\n"
          ],
          "name": "stdout"
        }
      ]
    },
    {
      "cell_type": "markdown",
      "metadata": {
        "id": "95No9yp8Djq-",
        "colab_type": "text"
      },
      "source": [
        "등장 빈도가 __threshold__ 값인 2회 미만. 즉, 1회 밖에 되지 않는 단어들은 단어 집합에서 무려 74% 이상을 차지합니다.   \n",
        "하지만, 실제로 훈련 데이터에서 등장 빈도로 차지하는 비중은 상대적으로 적은 수치인 9.5%밖에 되지 않습니다. "
      ]
    },
    {
      "cell_type": "code",
      "metadata": {
        "id": "kHoKP-v2DYVg",
        "colab_type": "code",
        "colab": {
          "base_uri": "https://localhost:8080/",
          "height": 36
        },
        "outputId": "e528e166-01d7-4db8-c264-0cfc9363813d"
      },
      "source": [
        "# 집합의 크기를 vocab_size에 저장하겠습니다  \n",
        "# 주의할 점은 패딩을 위한 토큰인 0번 단어를 고려하며 +1을 해서 저장해주어야 한다는 점\n",
        "vocab_size = len(word_to_index) + 1\n",
        "print('단어 집합의 크기: {}'.format((vocab_size)))"
      ],
      "execution_count": 43,
      "outputs": [
        {
          "output_type": "stream",
          "text": [
            "단어 집합의 크기: 383184\n"
          ],
          "name": "stdout"
        }
      ]
    },
    {
      "cell_type": "code",
      "metadata": {
        "id": "spKmd0pED-4w",
        "colab_type": "code",
        "colab": {
          "base_uri": "https://localhost:8080/",
          "height": 55
        },
        "outputId": "d6f14d51-6149-4d2a-9307-7e43932de35d"
      },
      "source": [
        "# 정수 인코딩 된 결과인 sequences\n",
        "n_of_train = int(len(sequences) * 0.8)\n",
        "n_of_test = int(len(sequences) - n_of_train)\n",
        "print('훈련 데이터의 개수 :',n_of_train)\n",
        "print('테스트 데이터의 개수:',n_of_test)"
      ],
      "execution_count": 44,
      "outputs": [
        {
          "output_type": "stream",
          "text": [
            "훈련 데이터의 개수 : 328997\n",
            "테스트 데이터의 개수: 82250\n"
          ],
          "name": "stdout"
        }
      ]
    },
    {
      "cell_type": "code",
      "metadata": {
        "id": "Xm0nKOuHEBkC",
        "colab_type": "code",
        "colab": {
          "base_uri": "https://localhost:8080/",
          "height": 317
        },
        "outputId": "7775803f-a335-4242-b499-0484c8b8f09a"
      },
      "source": [
        "# sequences를 X_data로 변경  \n",
        "X_data = sequences\n",
        "print('URL의 최대 길이 : %d' % max(len(l) for l in X_data))\n",
        "print('URL의 평균 길이 : %f' % (sum(map(len, X_data))/len(X_data)))\n",
        "plt.hist([len(s) for s in X_data], bins=50)\n",
        "plt.xlabel('length of URL samples')\n",
        "plt.ylabel('number of URL samples')\n",
        "plt.show()"
      ],
      "execution_count": 45,
      "outputs": [
        {
          "output_type": "stream",
          "text": [
            "URL의 최대 길이 : 177\n",
            "URL의 평균 길이 : 7.284753\n"
          ],
          "name": "stdout"
        },
        {
          "output_type": "display_data",
          "data": {
            "image/png": "[encoded data removed]",
            "text/plain": [
              "<Figure size 432x288 with 1 Axes>"
            ]
          },
          "metadata": {
            "tags": [],
            "needs_background": "light"
          }
        }
      ]
    },
    {
      "cell_type": "markdown",
      "metadata": {
        "id": "fXLayRPSEYHo",
        "colab_type": "text"
      },
      "source": [
        "# RNN으로 악성 URL 분류하기"
      ]
    },
    {
      "cell_type": "code",
      "metadata": {
        "id": "b8-0RoeXElzQ",
        "colab_type": "code",
        "colab": {}
      },
      "source": [
        "from tensorflow.keras.layers import SimpleRNN, Embedding, Dense\n",
        "from tensorflow.keras.models import Sequential"
      ],
      "execution_count": 20,
      "outputs": []
    },
    {
      "cell_type": "code",
      "metadata": {
        "id": "3F170XfqEPdg",
        "colab_type": "code",
        "colab": {
          "base_uri": "https://localhost:8080/",
          "height": 36
        },
        "outputId": "8f3c17c7-58f7-4738-c2bd-ea04f3da2a15"
      },
      "source": [
        "max_len = 177\n",
        "# 전체 데이터셋의 길이는 URL 최대길이로 맞춥니다.\n",
        "data = pad_sequences(X_data, maxlen=max_len)\n",
        "print(\"훈련 데이터의 크기(shape): \", data.shape)"
      ],
      "execution_count": 21,
      "outputs": [
        {
          "output_type": "stream",
          "text": [
            "훈련 데이터의 크기(shape):  (420464, 177)\n"
          ],
          "name": "stdout"
        }
      ]
    },
    {
      "cell_type": "code",
      "metadata": {
        "id": "2iudTldVES0g",
        "colab_type": "code",
        "colab": {}
      },
      "source": [
        "X_test = data[n_of_train:] #X_data 데이터 중에서 앞의 82250개 저장\n",
        "y_test = np.array(y_data[n_of_train:]) #y_data 데이터 중에서 앞의 82250개 저장\n",
        "X_train = data[:n_of_train] #X_data 데이터 중에서 뒤의 328997개 저장\n",
        "y_train = np.array(y_data[:n_of_train]) #y_data 데이터 중에서 뒤의 328997개 저장"
      ],
      "execution_count": null,
      "outputs": []
    },
    {
      "cell_type": "code",
      "metadata": {
        "id": "ksmTfPEUCz_d",
        "colab_type": "code",
        "colab": {}
      },
      "source": [
        "model = Sequential()\n",
        "# Embedding()은 두 개의 인자를 받습니다.  \n",
        "# 단어 집합의 크기, 임베딩 벡터의 차원입니다.  \n",
        "model.add(Embedding(vocab_size, 32)) # 임베딩 벡터의 차원은 32\n",
        "model.add(SimpleRNN(32)) # RNN 셀의 hidden_size는 32\n",
        "# 이진 분류 문제 이므로 마지막 출력층에는 1개의 뉴런과 활성화 함수로 시그모이드 함수를 사용합니다.  \n",
        "model.add(Dense(1, activation='sigmoid'))\n",
        "# 손실 함수로는 binary_crossentropy를 사용합니다.\n",
        "model.compile(optimizer='rmsprop', loss='binary_crossentropy', metrics=['acc'])"
      ],
      "execution_count": null,
      "outputs": []
    },
    {
      "cell_type": "code",
      "metadata": {
        "id": "wGaJMjcaEbr3",
        "colab_type": "code",
        "colab": {
          "base_uri": "https://localhost:8080/",
          "height": 167
        },
        "outputId": "decbd339-c506-424e-a76d-528fa3b568b1"
      },
      "source": [
        "history = model.fit(X_train, y_train, epochs=4, batch_size=64, validation_split=0.2)"
      ],
      "execution_count": null,
      "outputs": [
        {
          "output_type": "stream",
          "text": [
            "Epoch 1/4\n",
            "4113/4113 [==============================] - 340s 83ms/step - loss: 0.0972 - acc: 0.9646 - val_loss: 0.1049 - val_acc: 0.9605\n",
            "Epoch 2/4\n",
            "4113/4113 [==============================] - 347s 84ms/step - loss: 0.0502 - acc: 0.9833 - val_loss: 0.2412 - val_acc: 0.9225\n",
            "Epoch 3/4\n",
            "4113/4113 [==============================] - 345s 84ms/step - loss: 0.0292 - acc: 0.9909 - val_loss: 0.2729 - val_acc: 0.9166\n",
            "Epoch 4/4\n",
            "4113/4113 [==============================] - 348s 85ms/step - loss: 0.0267 - acc: 0.9912 - val_loss: 0.2450 - val_acc: 0.9372\n"
          ],
          "name": "stdout"
        }
      ]
    },
    {
      "cell_type": "code",
      "metadata": {
        "id": "6pAlTCiODKgk",
        "colab_type": "code",
        "colab": {
          "base_uri": "https://localhost:8080/",
          "height": 279
        },
        "outputId": "d6313342-16d9-4eeb-e289-e87a9d9a0a72"
      },
      "source": [
        "fig, loss_ax = plt.subplots()\n",
        "acc_ax = loss_ax.twinx()\n",
        "loss_ax.plot(history.history['loss'], 'y', label='train loss')\n",
        "loss_ax.plot(history.history['val_loss'], 'r', label='val loss')\n",
        "acc_ax.plot(history.history['acc'], 'b', label='train acc')\n",
        "acc_ax.plot(history.history['val_acc'], 'g', label='val acc')\n",
        "loss_ax.set_xlabel('epoch')\n",
        "loss_ax.set_ylabel('loss')\n",
        "acc_ax.set_ylabel('accuray')\n",
        "loss_ax.legend(loc='upper left')\n",
        "acc_ax.legend(loc='lower left')\n",
        "plt.show()"
      ],
      "execution_count": null,
      "outputs": [
        {
          "output_type": "display_data",
          "data": {
            "image/png": "[encoded data removed]",
            "text/plain": [
              "<Figure size 432x288 with 2 Axes>"
            ]
          },
          "metadata": {
            "tags": [],
            "needs_background": "light"
          }
        }
      ]
    },
    {
      "cell_type": "markdown",
      "metadata": {
        "id": "B2oXsWE7FFGm",
        "colab_type": "text"
      },
      "source": [
        "## 엄청난 오버핏...  미쳤습니까 휴먼?"
      ]
    },
    {
      "cell_type": "code",
      "metadata": {
        "id": "VgWJWN-2Cive",
        "colab_type": "code",
        "colab": {
          "base_uri": "https://localhost:8080/",
          "height": 92
        },
        "outputId": "5b3b7737-f0d9-430e-ab71-1f5eaa5d1fe4"
      },
      "source": [
        "from keras.callbacks import EarlyStopping\n",
        "early_stopping = EarlyStopping()\n",
        "history = model.fit(X_train, y_train, epochs=2, batch_size=64, validation_split=0.2, callbacks=[early_stopping])"
      ],
      "execution_count": null,
      "outputs": [
        {
          "output_type": "stream",
          "text": [
            "Epoch 1/2\n",
            "4113/4113 [==============================] - 349s 85ms/step - loss: 0.0140 - acc: 0.9958 - val_loss: 0.3292 - val_acc: 0.9263\n",
            "Epoch 2/2\n",
            "4113/4113 [==============================] - 347s 84ms/step - loss: 0.0148 - acc: 0.9955 - val_loss: 0.3729 - val_acc: 0.9053\n"
          ],
          "name": "stdout"
        }
      ]
    },
    {
      "cell_type": "code",
      "metadata": {
        "id": "Em6J_e3lEdFX",
        "colab_type": "code",
        "colab": {
          "base_uri": "https://localhost:8080/",
          "height": 55
        },
        "outputId": "afa12690-8a5f-45f1-f90c-40f8b7611af6"
      },
      "source": [
        "model.evaluate(X_test, y_test)"
      ],
      "execution_count": null,
      "outputs": [
        {
          "output_type": "stream",
          "text": [
            "2571/2571 [==============================] - 22s 9ms/step - loss: 0.4873 - acc: 0.8473\n"
          ],
          "name": "stdout"
        },
        {
          "output_type": "execute_result",
          "data": {
            "text/plain": [
              "[0.487343430519104, 0.8472704887390137]"
            ]
          },
          "metadata": {
            "tags": []
          },
          "execution_count": 99
        }
      ]
    },
    {
      "cell_type": "markdown",
      "metadata": {
        "id": "6vMIRwEJIslQ",
        "colab_type": "text"
      },
      "source": [
        "## ..은 오버핏이 아니였던 것으로 밝혀졌습니다"
      ]
    }
  ]
}
