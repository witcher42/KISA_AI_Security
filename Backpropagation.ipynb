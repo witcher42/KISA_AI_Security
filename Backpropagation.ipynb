{
  "nbformat": 4,
  "nbformat_minor": 0,
  "metadata": {
    "colab": {
      "name": "오차역전파.ipynb",
      "provenance": []
    },
    "kernelspec": {
      "name": "python3",
      "display_name": "Python 3"
    }
  },
  "cells": [
    {
      "cell_type": "code",
      "metadata": {
        "id": "Ldxiq2G4Aurq",
        "colab_type": "code",
        "colab": {
          "base_uri": "https://localhost:8080/",
          "height": 232
        },
        "outputId": "2cee4afa-13fa-47c9-d6a6-401de106abbf"
      },
      "source": [
        "# 밑바닥부터 시작하는 딥러닝\n",
        "import sys, os\n",
        "sys.path.append(os.pardir)\n",
        "sys.path.append(os.path.abspath(os.path.join(file, '..', '..'))) # 윈도우\n",
        "import numpy as np\n",
        "from common.layers import *\n",
        "from common.gradient import numerical_gradient\n",
        "from collections import OrderedDict\n",
        "\n",
        "class TwoLayerNet:\n",
        "    def __init__ (self, input_size, hidden_size, output_size, weight_init_std=0.01):\n",
        "      self.params = {}\n",
        "      self.params['W1'] = weight_init_std * np.random.randn(inpit_size, hidden_size)\n",
        "      self.params['b1'] = np.zeros(hidden_size)\n",
        "      self.params['W2'] = weight_init_std * np.random.randn(hidden_size, output_size)\n",
        "      self.params['b2'] = np.zeros(output_size)\n",
        "      self.layers = OrderedDict()\n",
        "      self.layers['Affine1'] = Affine(self.params['W1'], self.params['b1'])\n",
        "      self.layers['Relu1'] = Relu()\n",
        "      self.layers['Affine2'] = Affine(self.params['W2'], self.params['b2'])\n",
        "      self.lastLayer = SoftmaxWithLoss()\n",
        "    def predict(self, x):\n",
        "      for layer in self.layers.values():\n",
        "        x = layer.forward(x)\n",
        "      return x\n",
        "    def loss(self, x, t): # 입력 데이터 x, 정답 레이블 t\n",
        "      y = self.predict(x)\n",
        "      return self.lastLayer.forward(y, t)\n",
        "    def accuracy(self, x, t): # \n",
        "      y = self.predict(x)\n",
        "      y = np.argmax(y, axis=1)\n",
        "      if t.ndim != 1 : t = np.argmax(t, axis=1)\n",
        "      accuracy = np.sum(y==t)/float(x.shape[0])\n",
        "      return accuracy\n",
        "    def numerical_gradient(self, x, t):\n",
        "      loss_W = lambda W: self.loss(x, t)\n",
        "      grads = {}\n",
        "      grads['W1'] = numerical_gradient(loss_W, self.params['W1'])\n",
        "      grads['b1'] = numerical_gradient(loss_W, self.params['b1'])\n",
        "      grads['W2'] = numerical_gradient(loss_W, self.params['W2'])\n",
        "      grads['b2'] = numerical_gradient(loss_W, self.params['b2'])\n",
        "      return grads\n",
        "    def gradient(self, x, t):\n",
        "      # 순전파\n",
        "      self.loss(x, t)\n",
        "      # 역전파\n",
        "      dout = 1\n",
        "      dout = self.lastLayer.backward(dout)\n",
        "      layers = list(self.layers.values())\n",
        "      layers.reverse()\n",
        "      for layer in layers:\n",
        "        dout = layer.backward(dout)\n",
        "      grads = {}\n",
        "      grads['W1'] = self.layers['Affine1'].dW\n",
        "      grads['b1'] = self.layers['Affine1'].db\n",
        "      grads['W2'] = self.layers['Affine2'].dW\n",
        "      grads['b2'] = self.layers['Affine2'].db\n",
        "      return grads"
      ],
      "execution_count": 14,
      "outputs": [
        {
          "output_type": "error",
          "ename": "NameError",
          "evalue": "ignored",
          "traceback": [
            "\u001b[0;31m---------------------------------------------------------------------------\u001b[0m",
            "\u001b[0;31mNameError\u001b[0m                                 Traceback (most recent call last)",
            "\u001b[0;32m<ipython-input-14-0c7cb4dab572>\u001b[0m in \u001b[0;36m<module>\u001b[0;34m()\u001b[0m\n\u001b[1;32m      2\u001b[0m \u001b[0;32mimport\u001b[0m \u001b[0msys\u001b[0m\u001b[0;34m,\u001b[0m \u001b[0mos\u001b[0m\u001b[0;34m\u001b[0m\u001b[0;34m\u001b[0m\u001b[0m\n\u001b[1;32m      3\u001b[0m \u001b[0msys\u001b[0m\u001b[0;34m.\u001b[0m\u001b[0mpath\u001b[0m\u001b[0;34m.\u001b[0m\u001b[0mappend\u001b[0m\u001b[0;34m(\u001b[0m\u001b[0mos\u001b[0m\u001b[0;34m.\u001b[0m\u001b[0mpardir\u001b[0m\u001b[0;34m)\u001b[0m\u001b[0;34m\u001b[0m\u001b[0;34m\u001b[0m\u001b[0m\n\u001b[0;32m----> 4\u001b[0;31m \u001b[0msys\u001b[0m\u001b[0;34m.\u001b[0m\u001b[0mpath\u001b[0m\u001b[0;34m.\u001b[0m\u001b[0mappend\u001b[0m\u001b[0;34m(\u001b[0m\u001b[0mos\u001b[0m\u001b[0;34m.\u001b[0m\u001b[0mpath\u001b[0m\u001b[0;34m.\u001b[0m\u001b[0mabspath\u001b[0m\u001b[0;34m(\u001b[0m\u001b[0mos\u001b[0m\u001b[0;34m.\u001b[0m\u001b[0mpath\u001b[0m\u001b[0;34m.\u001b[0m\u001b[0mjoin\u001b[0m\u001b[0;34m(\u001b[0m\u001b[0mfile\u001b[0m\u001b[0;34m,\u001b[0m \u001b[0;34m'..'\u001b[0m\u001b[0;34m,\u001b[0m \u001b[0;34m'..'\u001b[0m\u001b[0;34m)\u001b[0m\u001b[0;34m)\u001b[0m\u001b[0;34m)\u001b[0m \u001b[0;31m# 윈도우\u001b[0m\u001b[0;34m\u001b[0m\u001b[0;34m\u001b[0m\u001b[0m\n\u001b[0m\u001b[1;32m      5\u001b[0m \u001b[0;32mimport\u001b[0m \u001b[0mnumpy\u001b[0m \u001b[0;32mas\u001b[0m \u001b[0mnp\u001b[0m\u001b[0;34m\u001b[0m\u001b[0;34m\u001b[0m\u001b[0m\n\u001b[1;32m      6\u001b[0m \u001b[0;32mfrom\u001b[0m \u001b[0mcommon\u001b[0m\u001b[0;34m.\u001b[0m\u001b[0mlayers\u001b[0m \u001b[0;32mimport\u001b[0m \u001b[0;34m*\u001b[0m\u001b[0;34m\u001b[0m\u001b[0;34m\u001b[0m\u001b[0m\n",
            "\u001b[0;31mNameError\u001b[0m: name 'file' is not defined"
          ]
        }
      ]
    }
  ]
}
